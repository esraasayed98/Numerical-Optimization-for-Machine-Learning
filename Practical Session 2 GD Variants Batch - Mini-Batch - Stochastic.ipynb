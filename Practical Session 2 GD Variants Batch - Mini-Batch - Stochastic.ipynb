{
 "cells": [
  {
   "cell_type": "markdown",
   "metadata": {},
   "source": [
    "## Practical Work 2"
   ]
  },
  {
   "cell_type": "markdown",
   "metadata": {},
   "source": [
    "For this practical work, the student will have to develop a Python program that is able to implement the gradient descent variants (Batch/Mini-Batch/Stochastic) in order to achieve the linear regression of a set of datapoints."
   ]
  },
  {
   "cell_type": "markdown",
   "metadata": {},
   "source": [
    "#### Import numpy, matplotlib.pyplot and make it inline"
   ]
  },
  {
   "cell_type": "code",
   "execution_count": 1,
   "metadata": {},
   "outputs": [],
   "source": [
    "import numpy as np\n",
    "\n",
    "import matplotlib.pyplot as plt\n",
    "from sklearn.metrics import r2_score\n",
    "\n",
    "%matplotlib inline "
   ]
  },
  {
   "cell_type": "markdown",
   "metadata": {},
   "source": [
    "To have a dataset or set of data points, the student must generate a pair of arrays <b>X</b> and <b>y</b> with the values in <b>X</b> equally distributed between <b>0</b> and <b>20</b> and the values in <b>y</b> such that: \n",
    "<b>yi = a*xi + b (and a = -2, b = 1)</b>\n"
   ]
  },
  {
   "cell_type": "code",
   "execution_count": 2,
   "metadata": {},
   "outputs": [],
   "source": [
    "x=np.linspace(0,20)"
   ]
  },
  {
   "cell_type": "code",
   "execution_count": 3,
   "metadata": {},
   "outputs": [],
   "source": [
    "y=-2*x+1"
   ]
  },
  {
   "cell_type": "code",
   "execution_count": 4,
   "metadata": {},
   "outputs": [
    {
     "data": {
      "text/plain": [
       "Text(0, 0.5, 'y')"
      ]
     },
     "execution_count": 4,
     "metadata": {},
     "output_type": "execute_result"
    },
    {
     "data": {
      "image/png": "[encoded data removed]",
      "text/plain": [
       "<Figure size 432x288 with 1 Axes>"
      ]
     },
     "metadata": {
      "needs_background": "light"
     },
     "output_type": "display_data"
    }
   ],
   "source": [
    "plt.plot(x,y,\"o\")\n",
    "plt.xlabel(\"x\")\n",
    "plt.ylabel(\"y\")"
   ]
  },
  {
   "cell_type": "markdown",
   "metadata": {},
   "source": [
    "#### Use your code from practical session 1 and create a function to perform GD for single variable linear regression.\n",
    "#### The function should take the following input parameters:\n",
    "##### Input data (X), Target Labels (y), Learning Rate (alpha), Maximum number of iterations\n",
    "#### The function should return the following:\n",
    "##### All Theta_0 and Theta_1 values till converge, and equivellant Losses, all hypothesis output, and optimum values of Theta_0 and Theta_1\n",
    "#### Note: you can choose any suitable stop criteria."
   ]
  },
  {
   "cell_type": "code",
   "execution_count": 5,
   "metadata": {},
   "outputs": [],
   "source": [
    "#vectorized implementation to Batch gradient Descent\n",
    "\n",
    "def vectorized_Batch_Gradient_Descent(X,Y ,alpha=0.001,Max_number_iterations=100):\n",
    "    # 1.  Initialize parameters (theta_0 & theta_1) with random value or simply zero. Also choose the Learning rate.\n",
    "    theta_0=0\n",
    "    theta_1=0\n",
    "    loss=[]\n",
    "    th0_list=[]\n",
    "    th1_list=[]\n",
    "    Y_predict_list=[]\n",
    "   \n",
    "    #Loop for max no of epochs\n",
    "    for e in range(Max_number_iterations):\n",
    "        print(\"==============================================================\")\n",
    "        print(\"epoch \",e)\n",
    "        \n",
    "    \n",
    "        #2. Use (theta_0 & theta_1) to predict the output h(x)= theta_0 + theta_1 * x.\n",
    "       \n",
    "        Y_predict=theta_0 + theta_1 *X\n",
    "        Y_predict_list.append(Y_predict)\n",
    "        #3. Calculate Cost function 𝑱(theta_0,theta_1 ).\n",
    "        error=Y_predict - Y\n",
    "        \n",
    "        cost= (np.dot(error,error))/(2*len(X))\n",
    "        loss.append(cost)\n",
    "\n",
    "        print(\"Cost= \" , cost)\n",
    "        #4.  Calculate gradient of theta_0 and theta_1\n",
    "\n",
    "        Grad_theta_0=(Y_predict - Y).sum()/(len(X))\n",
    "        Grad_theta_1=(np.dot((Y_predict-Y),X) )/(len(X))\n",
    "\n",
    "        #5. Update the parameters (simultaneously).\n",
    "        theta_0 =theta_0 -alpha*Grad_theta_0\n",
    "\n",
    "        theta_1= theta_1 -alpha *Grad_theta_1\n",
    "        \n",
    "        th0_list.append(theta_0)\n",
    "        th1_list.append(theta_1)\n",
    "        \n",
    "        #stop condition \n",
    "        if(e!=0):\n",
    "            if (abs(loss[e-1]-loss[e])<0.001):\n",
    "                break\n",
    "        \n",
    "\n",
    "\n",
    "    return Y_predict , theta_0 ,theta_1 , loss,th0_list,th1_list\n",
    "    "
   ]
  },
  {
   "cell_type": "markdown",
   "metadata": {},
   "source": [
    "#### Try your function with any input parameterss of your choice."
   ]
  },
  {
   "cell_type": "code",
   "execution_count": 6,
   "metadata": {},
   "outputs": [
    {
     "name": "stdout",
     "output_type": "stream",
     "text": [
      "==============================================================\n",
      "epoch  0\n",
      "Cost=  249.88775510204084\n",
      "==============================================================\n",
      "epoch  1\n",
      "Cost=  186.82544901821947\n",
      "==============================================================\n",
      "epoch  2\n",
      "Cost=  139.68837516021622\n",
      "==============================================================\n",
      "epoch  3\n",
      "Cost=  104.45490187382671\n",
      "==============================================================\n",
      "epoch  4\n",
      "Cost=  78.11898842228953\n",
      "==============================================================\n",
      "epoch  5\n",
      "Cost=  58.43371572199666\n",
      "==============================================================\n",
      "epoch  6\n",
      "Cost=  43.71958378928337\n",
      "==============================================================\n",
      "epoch  7\n",
      "Cost=  32.72122022747044\n",
      "==============================================================\n",
      "epoch  8\n",
      "Cost=  24.50027441454269\n",
      "==============================================================\n",
      "epoch  9\n",
      "Cost=  18.355359342017692\n",
      "==============================================================\n",
      "epoch  10\n",
      "Cost=  13.7622107059909\n",
      "==============================================================\n",
      "epoch  11\n",
      "Cost=  10.328957746061088\n",
      "==============================================================\n",
      "epoch  12\n",
      "Cost=  7.762689631346795\n",
      "==============================================================\n",
      "epoch  13\n",
      "Cost=  5.844464905842495\n",
      "==============================================================\n",
      "epoch  14\n",
      "Cost=  4.410631849965184\n",
      "==============================================================\n",
      "epoch  15\n",
      "Cost=  3.3388660496390457\n",
      "==============================================================\n",
      "epoch  16\n",
      "Cost=  2.537733926791354\n",
      "==============================================================\n",
      "epoch  17\n",
      "Cost=  1.9388918129686958\n",
      "==============================================================\n",
      "epoch  18\n",
      "Cost=  1.4912550069458361\n",
      "==============================================================\n",
      "epoch  19\n",
      "Cost=  1.156639332215653\n",
      "==============================================================\n",
      "epoch  20\n",
      "Cost=  0.9065033409350507\n",
      "==============================================================\n",
      "epoch  21\n",
      "Cost=  0.7195132158124086\n",
      "==============================================================\n",
      "epoch  22\n",
      "Cost=  0.5797226123323643\n",
      "==============================================================\n",
      "epoch  23\n",
      "Cost=  0.47521214916916643\n",
      "==============================================================\n",
      "epoch  24\n",
      "Cost=  0.3970724708856112\n",
      "==============================================================\n",
      "epoch  25\n",
      "Cost=  0.3386441199013128\n",
      "==============================================================\n",
      "epoch  26\n",
      "Cost=  0.29494936515702347\n",
      "==============================================================\n",
      "epoch  27\n",
      "Cost=  0.2622675122555592\n",
      "==============================================================\n",
      "epoch  28\n",
      "Cost=  0.237817461406766\n",
      "==============================================================\n",
      "epoch  29\n",
      "Cost=  0.21952042966789262\n",
      "==============================================================\n",
      "epoch  30\n",
      "Cost=  0.20582259342487286\n",
      "==============================================================\n",
      "epoch  31\n",
      "Cost=  0.1955625193327805\n",
      "==============================================================\n",
      "epoch  32\n",
      "Cost=  0.18787207319369542\n",
      "==============================================================\n",
      "epoch  33\n",
      "Cost=  0.18210235251955684\n",
      "==============================================================\n",
      "epoch  34\n",
      "Cost=  0.1777683234973333\n",
      "==============================================================\n",
      "epoch  35\n",
      "Cost=  0.1745074388953092\n",
      "==============================================================\n",
      "epoch  36\n",
      "Cost=  0.17204870627464974\n",
      "==============================================================\n",
      "epoch  37\n",
      "Cost=  0.17018956746915467\n",
      "==============================================================\n",
      "epoch  38\n",
      "Cost=  0.16877861673756953\n",
      "==============================================================\n",
      "epoch  39\n",
      "Cost=  0.16770268313644945\n",
      "==============================================================\n",
      "epoch  40\n",
      "Cost=  0.16687717500799548\n"
     ]
    }
   ],
   "source": [
    "Y_predict , theta_0 ,theta_1 , loss,th0_list,th1_list = vectorized_Batch_Gradient_Descent(x,y,0.001,1000)"
   ]
  },
  {
   "cell_type": "code",
   "execution_count": 7,
   "metadata": {},
   "outputs": [
    {
     "name": "stdout",
     "output_type": "stream",
     "text": [
      "[ -0.13037674  -0.9100547   -1.68973267  -2.46941063  -3.24908859\n",
      "  -4.02876656  -4.80844452  -5.58812248  -6.36780045  -7.14747841\n",
      "  -7.92715637  -8.70683433  -9.4865123  -10.26619026 -11.04586822\n",
      " -11.82554619 -12.60522415 -13.38490211 -14.16458007 -14.94425804\n",
      " -15.723936   -16.50361396 -17.28329193 -18.06296989 -18.84264785\n",
      " -19.62232581 -20.40200378 -21.18168174 -21.9613597  -22.74103767\n",
      " -23.52071563 -24.30039359 -25.08007155 -25.85974952 -26.63942748\n",
      " -27.41910544 -28.19878341 -28.97846137 -29.75813933 -30.5378173\n",
      " -31.31749526 -32.09717322 -32.87685118 -33.65652915 -34.43620711\n",
      " -35.21588507 -35.99556304 -36.775241   -37.55491896 -38.33459692]\n"
     ]
    }
   ],
   "source": [
    "print(Y_predict)"
   ]
  },
  {
   "cell_type": "markdown",
   "metadata": {},
   "source": [
    "#### Calculate r2 score"
   ]
  },
  {
   "cell_type": "code",
   "execution_count": 8,
   "metadata": {},
   "outputs": [
    {
     "data": {
      "text/plain": [
       "0.9975950054190024"
      ]
     },
     "execution_count": 8,
     "metadata": {},
     "output_type": "execute_result"
    }
   ],
   "source": [
    "r2_score(y,Y_predict)"
   ]
  },
  {
   "cell_type": "markdown",
   "metadata": {},
   "source": [
    "#### Plot loss vs. epochs"
   ]
  },
  {
   "cell_type": "code",
   "execution_count": 9,
   "metadata": {},
   "outputs": [
    {
     "data": {
      "text/plain": [
       "Text(0, 0.5, 'loss')"
      ]
     },
     "execution_count": 9,
     "metadata": {},
     "output_type": "execute_result"
    },
    {
     "data": {
      "image/png": "[encoded data removed]",
      "text/plain": [
       "<Figure size 432x288 with 1 Axes>"
      ]
     },
     "metadata": {
      "needs_background": "light"
     },
     "output_type": "display_data"
    }
   ],
   "source": [
    "plt.plot(loss,\"o\")\n",
    "plt.xlabel(\"iterations\")\n",
    "plt.ylabel(\"loss\")\n"
   ]
  },
  {
   "cell_type": "markdown",
   "metadata": {},
   "source": [
    "#### Plot Theta_0 vs. loss and Theta_1 vs. loss"
   ]
  },
  {
   "cell_type": "code",
   "execution_count": 11,
   "metadata": {},
   "outputs": [
    {
     "data": {
      "text/plain": [
       "Text(0, 0.5, 'loss')"
      ]
     },
     "execution_count": 11,
     "metadata": {},
     "output_type": "execute_result"
    },
    {
     "data": {
      "image/png": "[encoded data removed]",
      "text/plain": [
       "<Figure size 432x288 with 1 Axes>"
      ]
     },
     "metadata": {
      "needs_background": "light"
     },
     "output_type": "display_data"
    }
   ],
   "source": [
    "plt.plot(th0_list,loss)\n",
    "plt.xlabel(\"theta 0\")\n",
    "plt.ylabel(\"loss\")"
   ]
  },
  {
   "cell_type": "code",
   "execution_count": 12,
   "metadata": {},
   "outputs": [
    {
     "data": {
      "text/plain": [
       "Text(0, 0.5, 'loss')"
      ]
     },
     "execution_count": 12,
     "metadata": {},
     "output_type": "execute_result"
    },
    {
     "data": {
      "image/png": "[encoded data removed]",
      "text/plain": [
       "<Figure size 432x288 with 1 Axes>"
      ]
     },
     "metadata": {
      "needs_background": "light"
     },
     "output_type": "display_data"
    }
   ],
   "source": [
    "plt.plot(th1_list,loss)\n",
    "plt.xlabel(\"theta 1\")\n",
    "plt.ylabel(\"loss\")"
   ]
  },
  {
   "cell_type": "markdown",
   "metadata": {},
   "source": [
    "#### Plot all regression lines till converge"
   ]
  },
  {
   "cell_type": "code",
   "execution_count": 13,
   "metadata": {},
   "outputs": [
    {
     "data": {
      "image/png": "[encoded data removed]",
      "text/plain": [
       "<Figure size 432x288 with 1 Axes>"
      ]
     },
     "metadata": {
      "needs_background": "light"
     },
     "output_type": "display_data"
    }
   ],
   "source": [
    "plt.plot(x,y,'o')\n",
    "plt.ylabel(\"y\")\n",
    "plt.xlabel(\"x\")\n",
    "\n",
    "for i in range(len(th0_list)):\n",
    "    plt.plot(x,th0_list[i]+th1_list[i]*x)\n",
    "    \n",
    "    \n",
    "plt.show()\n",
    "\n"
   ]
  },
  {
   "cell_type": "markdown",
   "metadata": {},
   "source": [
    "#### Plot the best regression line"
   ]
  },
  {
   "cell_type": "code",
   "execution_count": 14,
   "metadata": {},
   "outputs": [
    {
     "data": {
      "text/plain": [
       "Text(0, 0.5, 'y')"
      ]
     },
     "execution_count": 14,
     "metadata": {},
     "output_type": "execute_result"
    },
    {
     "data": {
      "image/png": "[encoded data removed]",
      "text/plain": [
       "<Figure size 432x288 with 1 Axes>"
      ]
     },
     "metadata": {
      "needs_background": "light"
     },
     "output_type": "display_data"
    }
   ],
   "source": [
    "plt.plot(x,y,\"o\")\n",
    "plt.plot(x,Y_predict)\n",
    "plt.xlabel(\"x\")\n",
    "plt.ylabel(\"y\")"
   ]
  },
  {
   "cell_type": "markdown",
   "metadata": {},
   "source": [
    "#### Try different learning rate and number of iterations then plot loss vs. epochs, loss vs. Theat_0 and Theta_1\n",
    "#### all regression lines till converge, and the best regression line\n",
    "#### and see the difference in output."
   ]
  },
  {
   "cell_type": "code",
   "execution_count": 15,
   "metadata": {},
   "outputs": [
    {
     "name": "stdout",
     "output_type": "stream",
     "text": [
      "==============================================================\n",
      "epoch  0\n",
      "Cost=  249.88775510204084\n",
      "==============================================================\n",
      "epoch  1\n",
      "Cost=  31.527821438771234\n",
      "==============================================================\n",
      "epoch  2\n",
      "Cost=  4.104740105830764\n",
      "==============================================================\n",
      "epoch  3\n",
      "Cost=  0.6601186550646106\n",
      "==============================================================\n",
      "epoch  4\n",
      "Cost=  0.22679212340254964\n",
      "==============================================================\n",
      "epoch  5\n",
      "Cost=  0.1716373537320427\n",
      "==============================================================\n",
      "epoch  6\n",
      "Cost=  0.16397836159451523\n",
      "==============================================================\n",
      "epoch  7\n",
      "Cost=  0.16228778783493517\n",
      "==============================================================\n",
      "epoch  8\n",
      "Cost=  0.16135047568290037\n"
     ]
    }
   ],
   "source": [
    "Y_hat , th_0 ,th_1 , l,ths0,ths1 = vectorized_Batch_Gradient_Descent(x,y,0.01,100)"
   ]
  },
  {
   "cell_type": "code",
   "execution_count": 16,
   "metadata": {},
   "outputs": [
    {
     "data": {
      "text/plain": [
       "Text(0, 0.5, 'loss')"
      ]
     },
     "execution_count": 16,
     "metadata": {},
     "output_type": "execute_result"
    },
    {
     "data": {
      "image/png": "[encoded data removed]",
      "text/plain": [
       "<Figure size 432x288 with 1 Axes>"
      ]
     },
     "metadata": {
      "needs_background": "light"
     },
     "output_type": "display_data"
    }
   ],
   "source": [
    "plt.plot(l,\"o\")\n",
    "plt.xlabel(\"iterations\")\n",
    "plt.ylabel(\"loss\")"
   ]
  },
  {
   "cell_type": "code",
   "execution_count": 17,
   "metadata": {},
   "outputs": [
    {
     "data": {
      "text/plain": [
       "Text(0, 0.5, 'loss')"
      ]
     },
     "execution_count": 17,
     "metadata": {},
     "output_type": "execute_result"
    },
    {
     "data": {
      "image/png": "[encoded data removed]",
      "text/plain": [
       "<Figure size 432x288 with 1 Axes>"
      ]
     },
     "metadata": {
      "needs_background": "light"
     },
     "output_type": "display_data"
    }
   ],
   "source": [
    "plt.plot(ths0,l)\n",
    "plt.xlabel(\"theta 0\")\n",
    "plt.ylabel(\"loss\")"
   ]
  },
  {
   "cell_type": "code",
   "execution_count": 18,
   "metadata": {},
   "outputs": [
    {
     "data": {
      "text/plain": [
       "Text(0, 0.5, 'loss')"
      ]
     },
     "execution_count": 18,
     "metadata": {},
     "output_type": "execute_result"
    },
    {
     "data": {
      "image/png": "[encoded data removed]",
      "text/plain": [
       "<Figure size 432x288 with 1 Axes>"
      ]
     },
     "metadata": {
      "needs_background": "light"
     },
     "output_type": "display_data"
    }
   ],
   "source": [
    "plt.plot(ths1,l)\n",
    "plt.xlabel(\"theta 1\")\n",
    "plt.ylabel(\"loss\")"
   ]
  },
  {
   "cell_type": "code",
   "execution_count": 19,
   "metadata": {},
   "outputs": [
    {
     "data": {
      "image/png": "[encoded data removed]",
      "text/plain": [
       "<Figure size 432x288 with 1 Axes>"
      ]
     },
     "metadata": {
      "needs_background": "light"
     },
     "output_type": "display_data"
    }
   ],
   "source": [
    "plt.plot(x,y,'o')\n",
    "plt.ylabel(\"y\")\n",
    "plt.xlabel(\"x\")\n",
    "\n",
    "for i in range(len(ths0)):\n",
    "    plt.plot(x,ths0[i]+ths1[i]*x)\n",
    "    \n",
    "    \n",
    "plt.show()"
   ]
  },
  {
   "cell_type": "code",
   "execution_count": 20,
   "metadata": {},
   "outputs": [
    {
     "data": {
      "text/plain": [
       "Text(0, 0.5, 'y')"
      ]
     },
     "execution_count": 20,
     "metadata": {},
     "output_type": "execute_result"
    },
    {
     "data": {
      "image/png": "[encoded data removed]",
      "text/plain": [
       "<Figure size 432x288 with 1 Axes>"
      ]
     },
     "metadata": {
      "needs_background": "light"
     },
     "output_type": "display_data"
    }
   ],
   "source": [
    "plt.plot(x,y,\"o\")\n",
    "plt.plot(x,Y_hat)\n",
    "plt.xlabel(\"x\")\n",
    "plt.ylabel(\"y\")"
   ]
  },
  {
   "cell_type": "markdown",
   "metadata": {},
   "source": [
    "#### Update the implementation of the Batch GD to be Mini-Batch and repeat the above plots and evaluations\n",
    "#### Change batch size and see the effect\n",
    "### Note: Try once without shuffling the data and once with shuffle and see the effect on the output."
   ]
  },
  {
   "cell_type": "code",
   "execution_count": 21,
   "metadata": {},
   "outputs": [],
   "source": [
    "x_mini=np.linspace(0,20)\n",
    "y_mini=-2*x_mini+1"
   ]
  },
  {
   "cell_type": "code",
   "execution_count": 22,
   "metadata": {},
   "outputs": [
    {
     "data": {
      "text/plain": [
       "[<matplotlib.lines.Line2D at 0x19a13422bb0>]"
      ]
     },
     "execution_count": 22,
     "metadata": {},
     "output_type": "execute_result"
    },
    {
     "data": {
      "image/png": "[encoded data removed]",
      "text/plain": [
       "<Figure size 432x288 with 1 Axes>"
      ]
     },
     "metadata": {
      "needs_background": "light"
     },
     "output_type": "display_data"
    }
   ],
   "source": [
    "plt.plot(x_mini,y_mini,\"o\")"
   ]
  },
  {
   "cell_type": "code",
   "execution_count": 23,
   "metadata": {},
   "outputs": [],
   "source": [
    "\n",
    "def make_batches(batch_size):\n",
    "    x_batchs=[]\n",
    "    y_batchs=[]\n",
    "    for i in range (len(x_mini)//batch_size):\n",
    "        x_batchs.append(x_mini[i*batch_size: (i+1)*batch_size])\n",
    "        y_batchs.append(y_mini[i*batch_size: (i+1)*batch_size])\n",
    "    return x_batchs,y_batchs"
   ]
  },
  {
   "cell_type": "code",
   "execution_count": 24,
   "metadata": {},
   "outputs": [],
   "source": [
    "#assume the batch size is 5 so we will have 10 batchs\n",
    "\n",
    "def MiniBatch_GD(X,Y,alpha,Max_no_iterations ,batch_size):\n",
    "    # 1.  Initialize parameters (theta_0 & theta_1) with random value or simply zero. Also choose the Learning rate.\n",
    "    theta_0=0\n",
    "    theta_1=0\n",
    "    loss=[]\n",
    "    th0_list=[]\n",
    "    th1_list=[]\n",
    "    Y_predict_list=[]\n",
    "    x_batchs=[]\n",
    "    y_batchs=[]\n",
    "    \n",
    "    x_batchs,y_batchs=make_batches(batch_size)\n",
    "    for e in range (Max_no_iterations):\n",
    "        print(\"================================================\")\n",
    "        print(\"epoch \" ,e)\n",
    "        \n",
    "        \n",
    "        for i in range (len(x_batchs)):\n",
    "            \n",
    "            #2. Use (theta_0 & theta_1) to predict the output h(x)= theta_0 + theta_1 * x.\n",
    "    \n",
    "            Y_predict=theta_0 +theta_1 *x_batchs[i]\n",
    "            \n",
    "            #3. Calculate Cost function 𝑱(theta_0,theta_1 ).\n",
    "            \n",
    "            error=Y_predict - y_batchs[i]\n",
    "            cost=np.dot(error,error)/(2*batch_size)\n",
    "            loss.append(cost)\n",
    "            \n",
    "            #4.  Calculate gradient of theta_0 and theta_1\n",
    "            Grad_theta_0=error.sum()/batch_size\n",
    "            Grad_theta_1=np.dot(error ,x_batchs[i])/batch_size\n",
    "            \n",
    "            #5. Update the parameters (simultaneously).\n",
    "            theta_0 =theta_0 -alpha*Grad_theta_0\n",
    "\n",
    "            theta_1= theta_1 -alpha *Grad_theta_1\n",
    "            th0_list.append(theta_0)\n",
    "            th1_list.append(theta_1)\n",
    "    \n",
    "        print(\"Cost= \" , cost)\n",
    "        Y_predict_list.append(Y_predict)\n",
    "        \n",
    "       \n",
    "        #stop condition \n",
    "        if(e!=0):\n",
    "            if abs(prev_cost - cost)<0.01:\n",
    "                break\n",
    "        prev_cost=cost\n",
    "\n",
    "\n",
    "\n",
    "    return Y_predict_list , theta_0 ,theta_1 , loss,th0_list,th1_list\n",
    "    \n"
   ]
  },
  {
   "cell_type": "code",
   "execution_count": 25,
   "metadata": {},
   "outputs": [
    {
     "name": "stdout",
     "output_type": "stream",
     "text": [
      "================================================\n",
      "epoch  0\n",
      "Cost=  685.4228673440324\n",
      "================================================\n",
      "epoch  1\n",
      "Cost=  667.3233966251709\n",
      "================================================\n",
      "epoch  2\n",
      "Cost=  649.7050055882341\n",
      "================================================\n",
      "epoch  3\n",
      "Cost=  632.5548654577512\n",
      "================================================\n",
      "epoch  4\n",
      "Cost=  615.8604901261114\n",
      "================================================\n",
      "epoch  5\n",
      "Cost=  599.6097269929198\n",
      "================================================\n",
      "epoch  6\n",
      "Cost=  583.7907480493502\n",
      "================================================\n",
      "epoch  7\n",
      "Cost=  568.3920412009445\n",
      "================================================\n",
      "epoch  8\n",
      "Cost=  553.4024018224752\n",
      "================================================\n",
      "epoch  9\n",
      "Cost=  538.8109245386682\n",
      "================================================\n",
      "epoch  10\n",
      "Cost=  524.606995224741\n",
      "================================================\n",
      "epoch  11\n",
      "Cost=  510.7802832208778\n",
      "================================================\n",
      "epoch  12\n",
      "Cost=  497.3207337549167\n",
      "================================================\n",
      "epoch  13\n",
      "Cost=  484.21856056768354\n",
      "================================================\n",
      "epoch  14\n",
      "Cost=  471.46423873554556\n",
      "================================================\n",
      "epoch  15\n",
      "Cost=  459.04849768491476\n",
      "================================================\n",
      "epoch  16\n",
      "Cost=  446.96231439356325\n",
      "================================================\n",
      "epoch  17\n",
      "Cost=  435.1969067737552\n",
      "================================================\n",
      "epoch  18\n",
      "Cost=  423.74372723233\n",
      "================================================\n",
      "epoch  19\n",
      "Cost=  412.59445640300555\n",
      "================================================\n",
      "epoch  20\n",
      "Cost=  401.7409970462924\n",
      "================================================\n",
      "epoch  21\n",
      "Cost=  391.1754681125391\n",
      "================================================\n",
      "epoch  22\n",
      "Cost=  380.890198963739\n",
      "================================================\n",
      "epoch  23\n",
      "Cost=  370.87772374985934\n",
      "================================================\n",
      "epoch  24\n",
      "Cost=  361.1307759355533\n",
      "================================================\n",
      "epoch  25\n",
      "Cost=  351.6422829732347\n",
      "================================================\n",
      "epoch  26\n",
      "Cost=  342.4053611186018\n",
      "================================================\n",
      "epoch  27\n",
      "Cost=  333.4133103847961\n",
      "================================================\n",
      "epoch  28\n",
      "Cost=  324.659609631493\n",
      "================================================\n",
      "epoch  29\n",
      "Cost=  316.13791178530903\n",
      "================================================\n",
      "epoch  30\n",
      "Cost=  307.8420391880197\n",
      "================================================\n",
      "epoch  31\n",
      "Cost=  299.76597906916334\n",
      "================================================\n",
      "epoch  32\n",
      "Cost=  291.9038791397081\n",
      "================================================\n",
      "epoch  33\n",
      "Cost=  284.25004330354176\n",
      "================================================\n",
      "epoch  34\n",
      "Cost=  276.7989274836332\n",
      "================================================\n",
      "epoch  35\n",
      "Cost=  269.5451355597994\n",
      "================================================\n",
      "epoch  36\n",
      "Cost=  262.48341541509046\n",
      "================================================\n",
      "epoch  37\n",
      "Cost=  255.60865508789053\n",
      "================================================\n",
      "epoch  38\n",
      "Cost=  248.91587902690418\n",
      "================================================\n",
      "epoch  39\n",
      "Cost=  242.40024444627778\n",
      "================================================\n",
      "epoch  40\n",
      "Cost=  236.0570377781778\n",
      "================================================\n",
      "epoch  41\n",
      "Cost=  229.88167122021804\n",
      "================================================\n",
      "epoch  42\n",
      "Cost=  223.8696793752003\n",
      "================================================\n",
      "epoch  43\n",
      "Cost=  218.0167159806982\n",
      "================================================\n",
      "epoch  44\n",
      "Cost=  212.3185507260824\n",
      "================================================\n",
      "epoch  45\n",
      "Cost=  206.77106615464777\n",
      "================================================\n",
      "epoch  46\n",
      "Cost=  201.3702546485652\n",
      "================================================\n",
      "epoch  47\n",
      "Cost=  196.11221549444554\n",
      "================================================\n",
      "epoch  48\n",
      "Cost=  190.99315202735747\n",
      "================================================\n",
      "epoch  49\n",
      "Cost=  186.00936885120123\n",
      "================================================\n",
      "epoch  50\n",
      "Cost=  181.15726913339682\n",
      "================================================\n",
      "epoch  51\n",
      "Cost=  176.43335197189836\n",
      "================================================\n",
      "epoch  52\n",
      "Cost=  171.83420983260078\n",
      "================================================\n",
      "epoch  53\n",
      "Cost=  167.35652605525524\n",
      "================================================\n",
      "epoch  54\n",
      "Cost=  162.9970724260627\n",
      "================================================\n",
      "epoch  55\n",
      "Cost=  158.75270681516\n",
      "================================================\n",
      "epoch  56\n",
      "Cost=  154.62037087726475\n",
      "================================================\n",
      "epoch  57\n",
      "Cost=  150.59708781379013\n",
      "================================================\n",
      "epoch  58\n",
      "Cost=  146.67996019478284\n",
      "================================================\n",
      "epoch  59\n",
      "Cost=  142.86616783908772\n",
      "================================================\n",
      "epoch  60\n",
      "Cost=  139.15296575118018\n",
      "================================================\n",
      "epoch  61\n",
      "Cost=  135.53768211315037\n",
      "================================================\n",
      "epoch  62\n",
      "Cost=  132.0177163303648\n",
      "================================================\n",
      "epoch  63\n",
      "Cost=  128.59053712937066\n",
      "================================================\n",
      "epoch  64\n",
      "Cost=  125.25368070664342\n",
      "================================================\n",
      "epoch  65\n",
      "Cost=  122.00474892682155\n",
      "================================================\n",
      "epoch  66\n",
      "Cost=  118.84140756909986\n",
      "================================================\n",
      "epoch  67\n",
      "Cost=  115.7613846204994\n",
      "================================================\n",
      "epoch  68\n",
      "Cost=  112.76246861475549\n",
      "================================================\n",
      "epoch  69\n",
      "Cost=  109.84250701560657\n",
      "================================================\n",
      "epoch  70\n",
      "Cost=  106.99940464329552\n",
      "================================================\n",
      "epoch  71\n",
      "Cost=  104.23112214312786\n",
      "================================================\n",
      "epoch  72\n",
      "Cost=  101.53567449496313\n",
      "================================================\n",
      "epoch  73\n",
      "Cost=  98.91112956254253\n",
      "================================================\n",
      "epoch  74\n",
      "Cost=  96.35560668159061\n",
      "================================================\n",
      "epoch  75\n",
      "Cost=  93.86727528565174\n",
      "================================================\n",
      "epoch  76\n",
      "Cost=  91.44435356865316\n",
      "================================================\n",
      "epoch  77\n",
      "Cost=  89.08510718321183\n",
      "================================================\n",
      "epoch  78\n",
      "Cost=  86.78784797373133\n",
      "================================================\n",
      "epoch  79\n",
      "Cost=  84.55093274335545\n",
      "================================================\n",
      "epoch  80\n",
      "Cost=  82.37276205387568\n",
      "================================================\n",
      "epoch  81\n",
      "Cost=  80.25177905770985\n",
      "================================================\n",
      "epoch  82\n",
      "Cost=  78.186468361095\n",
      "================================================\n",
      "epoch  83\n",
      "Cost=  76.17535491766012\n",
      "================================================\n",
      "epoch  84\n",
      "Cost=  74.21700295156525\n",
      "================================================\n",
      "epoch  85\n",
      "Cost=  72.31001490941779\n",
      "================================================\n",
      "epoch  86\n",
      "Cost=  70.45303044019528\n",
      "================================================\n",
      "epoch  87\n",
      "Cost=  68.64472540242673\n",
      "================================================\n",
      "epoch  88\n",
      "Cost=  66.88381089790337\n",
      "================================================\n",
      "epoch  89\n",
      "Cost=  65.16903233120857\n",
      "================================================\n",
      "epoch  90\n",
      "Cost=  63.49916849437818\n",
      "================================================\n",
      "epoch  91\n",
      "Cost=  61.873030676018445\n",
      "================================================\n",
      "epoch  92\n",
      "Cost=  60.28946179422697\n",
      "================================================\n",
      "epoch  93\n",
      "Cost=  58.747335552681534\n",
      "================================================\n",
      "epoch  94\n",
      "Cost=  57.24555561927692\n",
      "================================================\n",
      "epoch  95\n",
      "Cost=  55.783054826705914\n",
      "================================================\n",
      "epoch  96\n",
      "Cost=  54.358794394399254\n",
      "================================================\n",
      "epoch  97\n",
      "Cost=  52.97176317125243\n",
      "================================================\n",
      "epoch  98\n",
      "Cost=  51.62097689858412\n",
      "================================================\n",
      "epoch  99\n",
      "Cost=  50.3054774927847\n"
     ]
    }
   ],
   "source": [
    "y_predicted , th_0 ,th_1 ,cost,list_th0 ,list_th1 =MiniBatch_GD(x_mini,y_mini, 0.00001, 100,5)"
   ]
  },
  {
   "cell_type": "code",
   "execution_count": 26,
   "metadata": {},
   "outputs": [
    {
     "data": {
      "text/plain": [
       "0.7587177527588016"
      ]
     },
     "execution_count": 26,
     "metadata": {},
     "output_type": "execute_result"
    }
   ],
   "source": [
    "r2_score(y_mini ,th_0+th_1*x_mini )"
   ]
  },
  {
   "cell_type": "code",
   "execution_count": 27,
   "metadata": {},
   "outputs": [
    {
     "data": {
      "text/plain": [
       "[<matplotlib.lines.Line2D at 0x19a134c5a90>]"
      ]
     },
     "execution_count": 27,
     "metadata": {},
     "output_type": "execute_result"
    },
    {
     "data": {
      "image/png": "[encoded data removed]",
      "text/plain": [
       "<Figure size 432x288 with 1 Axes>"
      ]
     },
     "metadata": {
      "needs_background": "light"
     },
     "output_type": "display_data"
    }
   ],
   "source": [
    "plt.plot(x_mini,y_mini,\"o\")\n",
    "plt.plot(x_mini ,th_0+th_1*x_mini)"
   ]
  },
  {
   "cell_type": "code",
   "execution_count": 28,
   "metadata": {},
   "outputs": [
    {
     "data": {
      "text/plain": [
       "Text(0, 0.5, 'loss')"
      ]
     },
     "execution_count": 28,
     "metadata": {},
     "output_type": "execute_result"
    },
    {
     "data": {
      "image/png": "[encoded data removed]",
      "text/plain": [
       "<Figure size 432x288 with 1 Axes>"
      ]
     },
     "metadata": {
      "needs_background": "light"
     },
     "output_type": "display_data"
    }
   ],
   "source": [
    "#plot loss vs iterations\n",
    "plt.plot(np.arange(len(cost)),cost)\n",
    "plt.xlabel(\"iterations\")\n",
    "plt.ylabel(\"loss\")"
   ]
  },
  {
   "cell_type": "code",
   "execution_count": 30,
   "metadata": {},
   "outputs": [
    {
     "data": {
      "text/plain": [
       "Text(0, 0.5, 'loss')"
      ]
     },
     "execution_count": 30,
     "metadata": {},
     "output_type": "execute_result"
    },
    {
     "data": {
      "image/png": "[encoded data removed]",
      "text/plain": [
       "<Figure size 432x288 with 1 Axes>"
      ]
     },
     "metadata": {
      "needs_background": "light"
     },
     "output_type": "display_data"
    }
   ],
   "source": [
    "plt.plot(list_th0,cost)\n",
    "plt.xlabel(\"theta 0\")\n",
    "plt.ylabel(\"loss\")"
   ]
  },
  {
   "cell_type": "code",
   "execution_count": 31,
   "metadata": {},
   "outputs": [
    {
     "data": {
      "text/plain": [
       "Text(0, 0.5, 'loss')"
      ]
     },
     "execution_count": 31,
     "metadata": {},
     "output_type": "execute_result"
    },
    {
     "data": {
      "image/png": "[encoded data removed]",
      "text/plain": [
       "<Figure size 432x288 with 1 Axes>"
      ]
     },
     "metadata": {
      "needs_background": "light"
     },
     "output_type": "display_data"
    }
   ],
   "source": [
    "plt.plot(list_th1,cost)\n",
    "plt.xlabel(\"theta 1\")\n",
    "plt.ylabel(\"loss\")"
   ]
  },
  {
   "cell_type": "markdown",
   "metadata": {},
   "source": [
    "## change batch size "
   ]
  },
  {
   "cell_type": "code",
   "execution_count": 32,
   "metadata": {},
   "outputs": [
    {
     "name": "stdout",
     "output_type": "stream",
     "text": [
      "================================================\n",
      "epoch  0\n",
      "Cost=  622.5158062943668\n",
      "================================================\n",
      "epoch  1\n",
      "Cost=  614.2276060115113\n",
      "================================================\n",
      "epoch  2\n",
      "Cost=  606.0503922777863\n",
      "================================================\n",
      "epoch  3\n",
      "Cost=  597.9826746225083\n",
      "================================================\n",
      "epoch  4\n",
      "Cost=  590.0229826199603\n",
      "================================================\n",
      "epoch  5\n",
      "Cost=  582.1698656196163\n",
      "================================================\n",
      "epoch  6\n",
      "Cost=  574.4218924799956\n",
      "================================================\n",
      "epoch  7\n",
      "Cost=  566.7776513061016\n",
      "================================================\n",
      "epoch  8\n",
      "Cost=  559.2357491903962\n",
      "================================================\n",
      "epoch  9\n",
      "Cost=  551.7948119572604\n",
      "================================================\n",
      "epoch  10\n",
      "Cost=  544.4534839108959\n",
      "================================================\n",
      "epoch  11\n",
      "Cost=  537.2104275866207\n",
      "================================================\n",
      "epoch  12\n",
      "Cost=  530.0643235055132\n",
      "================================================\n",
      "epoch  13\n",
      "Cost=  523.0138699323591\n",
      "================================================\n",
      "epoch  14\n",
      "Cost=  516.057782636858\n",
      "================================================\n",
      "epoch  15\n",
      "Cost=  509.19479465804426\n",
      "================================================\n",
      "epoch  16\n",
      "Cost=  502.4236560718793\n",
      "================================================\n",
      "epoch  17\n",
      "Cost=  495.743133761974\n",
      "================================================\n",
      "epoch  18\n",
      "Cost=  489.1520111933957\n",
      "================================================\n",
      "epoch  19\n",
      "Cost=  482.6490881895238\n",
      "================================================\n",
      "epoch  20\n",
      "Cost=  476.2331807119056\n",
      "================================================\n",
      "epoch  21\n",
      "Cost=  469.90312064307955\n",
      "================================================\n",
      "epoch  22\n",
      "Cost=  463.65775557231956\n",
      "================================================\n",
      "epoch  23\n",
      "Cost=  457.49594858426553\n",
      "================================================\n",
      "epoch  24\n",
      "Cost=  451.41657805039915\n",
      "================================================\n",
      "epoch  25\n",
      "Cost=  445.41853742332626\n",
      "================================================\n",
      "epoch  26\n",
      "Cost=  439.50073503382976\n",
      "================================================\n",
      "epoch  27\n",
      "Cost=  433.66209389065426\n",
      "================================================\n",
      "epoch  28\n",
      "Cost=  427.9015514829862\n",
      "================================================\n",
      "epoch  29\n",
      "Cost=  422.2180595855931\n",
      "================================================\n",
      "epoch  30\n",
      "Cost=  416.61058406658606\n",
      "================================================\n",
      "epoch  31\n",
      "Cost=  411.078104697771\n",
      "================================================\n",
      "epoch  32\n",
      "Cost=  405.61961496755146\n",
      "================================================\n",
      "epoch  33\n",
      "Cost=  400.23412189635235\n",
      "================================================\n",
      "epoch  34\n",
      "Cost=  394.92064585452675\n",
      "================================================\n",
      "epoch  35\n",
      "Cost=  389.67822038271476\n",
      "================================================\n",
      "epoch  36\n",
      "Cost=  384.505892014621\n",
      "================================================\n",
      "epoch  37\n",
      "Cost=  379.40272010217757\n",
      "================================================\n",
      "epoch  38\n",
      "Cost=  374.3677766430613\n",
      "================================================\n",
      "epoch  39\n",
      "Cost=  369.4001461105319\n",
      "================================================\n",
      "epoch  40\n",
      "Cost=  364.49892528556217\n",
      "================================================\n",
      "epoch  41\n",
      "Cost=  359.663223091227\n",
      "================================================\n",
      "epoch  42\n",
      "Cost=  354.8921604293227\n",
      "================================================\n",
      "epoch  43\n",
      "Cost=  350.1848700191854\n",
      "================================================\n",
      "epoch  44\n",
      "Cost=  345.54049623867894\n",
      "================================================\n",
      "epoch  45\n",
      "Cost=  340.9581949673241\n",
      "================================================\n",
      "epoch  46\n",
      "Cost=  336.4371334315391\n",
      "================================================\n",
      "epoch  47\n",
      "Cost=  331.97649005196365\n",
      "================================================\n",
      "epoch  48\n",
      "Cost=  327.5754542928384\n",
      "================================================\n",
      "epoch  49\n",
      "Cost=  323.23322651341164\n",
      "================================================\n",
      "epoch  50\n",
      "Cost=  318.9490178213467\n",
      "================================================\n",
      "epoch  51\n",
      "Cost=  314.7220499281027\n",
      "================================================\n",
      "epoch  52\n",
      "Cost=  310.55155500626216\n",
      "================================================\n",
      "epoch  53\n",
      "Cost=  306.4367755487786\n",
      "================================================\n",
      "epoch  54\n",
      "Cost=  302.37696423011994\n",
      "================================================\n",
      "epoch  55\n",
      "Cost=  298.3713837692803\n",
      "================================================\n",
      "epoch  56\n",
      "Cost=  294.4193067946363\n",
      "================================================\n",
      "epoch  57\n",
      "Cost=  290.52001571062226\n",
      "================================================\n",
      "epoch  58\n",
      "Cost=  286.6728025662005\n",
      "================================================\n",
      "epoch  59\n",
      "Cost=  282.8769689251018\n",
      "================================================\n",
      "epoch  60\n",
      "Cost=  279.1318257378132\n",
      "================================================\n",
      "epoch  61\n",
      "Cost=  275.4366932152881\n",
      "================================================\n",
      "epoch  62\n",
      "Cost=  271.79090070435734\n",
      "================================================\n",
      "epoch  63\n",
      "Cost=  268.19378656481706\n",
      "================================================\n",
      "epoch  64\n",
      "Cost=  264.6446980481702\n",
      "================================================\n",
      "epoch  65\n",
      "Cost=  261.1429911780021\n",
      "================================================\n",
      "epoch  66\n",
      "Cost=  257.6880306319646\n",
      "================================================\n",
      "epoch  67\n",
      "Cost=  254.2791896253496\n",
      "================================================\n",
      "epoch  68\n",
      "Cost=  250.91584979622994\n",
      "================================================\n",
      "epoch  69\n",
      "Cost=  247.59740109214627\n",
      "================================================\n",
      "epoch  70\n",
      "Cost=  244.32324165831832\n",
      "================================================\n",
      "epoch  71\n",
      "Cost=  241.0927777273625\n",
      "================================================\n",
      "epoch  72\n",
      "Cost=  237.9054235104927\n",
      "================================================\n",
      "epoch  73\n",
      "Cost=  234.76060109018636\n",
      "================================================\n",
      "epoch  74\n",
      "Cost=  231.65774031429478\n",
      "================================================\n",
      "epoch  75\n",
      "Cost=  228.59627869157913\n",
      "================================================\n",
      "epoch  76\n",
      "Cost=  225.57566128865238\n",
      "================================================\n",
      "epoch  77\n",
      "Cost=  222.5953406283089\n",
      "================================================\n",
      "epoch  78\n",
      "Cost=  219.6547765892216\n",
      "================================================\n",
      "epoch  79\n",
      "Cost=  216.7534363069903\n",
      "================================================\n",
      "epoch  80\n",
      "Cost=  213.8907940765213\n",
      "================================================\n",
      "epoch  81\n",
      "Cost=  211.0663312557212\n",
      "================================================\n",
      "epoch  82\n",
      "Cost=  208.2795361704867\n",
      "================================================\n",
      "epoch  83\n",
      "Cost=  205.52990402097424\n",
      "================================================\n",
      "epoch  84\n",
      "Cost=  202.8169367891296\n",
      "================================================\n",
      "epoch  85\n",
      "Cost=  200.14014314746368\n",
      "================================================\n",
      "epoch  86\n",
      "Cost=  197.49903836905554\n",
      "================================================\n",
      "epoch  87\n",
      "Cost=  194.89314423876644\n",
      "================================================\n",
      "epoch  88\n",
      "Cost=  192.32198896564964\n",
      "================================================\n",
      "epoch  89\n",
      "Cost=  189.78510709653872\n",
      "================================================\n",
      "epoch  90\n",
      "Cost=  187.2820394307987\n",
      "================================================\n",
      "epoch  91\n",
      "Cost=  184.81233293622535\n",
      "================================================\n",
      "epoch  92\n",
      "Cost=  182.37554066607572\n",
      "================================================\n",
      "epoch  93\n",
      "Cost=  179.97122167721616\n",
      "================================================\n",
      "epoch  94\n",
      "Cost=  177.59894094937076\n",
      "================================================\n",
      "epoch  95\n",
      "Cost=  175.25826930545838\n",
      "================================================\n",
      "epoch  96\n",
      "Cost=  172.9487833330002\n",
      "================================================\n",
      "epoch  97\n",
      "Cost=  170.67006530658637\n",
      "================================================\n",
      "epoch  98\n",
      "Cost=  168.4217031113854\n",
      "================================================\n",
      "epoch  99\n",
      "Cost=  166.20329016768346\n"
     ]
    }
   ],
   "source": [
    "y_pre , th0 ,th1 ,costs,listth0 ,listth1 =MiniBatch_GD(x_mini,y_mini, 0.00001, 100,10)"
   ]
  },
  {
   "cell_type": "code",
   "execution_count": 33,
   "metadata": {},
   "outputs": [
    {
     "data": {
      "text/plain": [
       "0.07025523847360493"
      ]
     },
     "execution_count": 33,
     "metadata": {},
     "output_type": "execute_result"
    }
   ],
   "source": [
    "r2_score(y_mini ,th0+th1*x_mini )"
   ]
  },
  {
   "cell_type": "code",
   "execution_count": 34,
   "metadata": {},
   "outputs": [
    {
     "data": {
      "text/plain": [
       "[<matplotlib.lines.Line2D at 0x19a13311820>]"
      ]
     },
     "execution_count": 34,
     "metadata": {},
     "output_type": "execute_result"
    },
    {
     "data": {
      "image/png": "[encoded data removed]",
      "text/plain": [
       "<Figure size 432x288 with 1 Axes>"
      ]
     },
     "metadata": {
      "needs_background": "light"
     },
     "output_type": "display_data"
    }
   ],
   "source": [
    "plt.plot(x_mini,y_mini,\"o\")\n",
    "plt.plot(x_mini ,th0+th1*x_mini)"
   ]
  },
  {
   "cell_type": "code",
   "execution_count": 35,
   "metadata": {},
   "outputs": [
    {
     "data": {
      "text/plain": [
       "Text(0, 0.5, 'loss')"
      ]
     },
     "execution_count": 35,
     "metadata": {},
     "output_type": "execute_result"
    },
    {
     "data": {
      "image/png": "[encoded data removed]",
      "text/plain": [
       "<Figure size 432x288 with 1 Axes>"
      ]
     },
     "metadata": {
      "needs_background": "light"
     },
     "output_type": "display_data"
    }
   ],
   "source": [
    "#plot loss vs iterations\n",
    "plt.plot(np.arange(len(costs)),costs)\n",
    "plt.xlabel(\"iterations\")\n",
    "plt.ylabel(\"loss\")"
   ]
  },
  {
   "cell_type": "code",
   "execution_count": 36,
   "metadata": {},
   "outputs": [
    {
     "data": {
      "text/plain": [
       "Text(0, 0.5, 'loss')"
      ]
     },
     "execution_count": 36,
     "metadata": {},
     "output_type": "execute_result"
    },
    {
     "data": {
      "image/png": "[encoded data removed]",
      "text/plain": [
       "<Figure size 432x288 with 1 Axes>"
      ]
     },
     "metadata": {
      "needs_background": "light"
     },
     "output_type": "display_data"
    }
   ],
   "source": [
    "plt.plot(listth0,costs)\n",
    "plt.xlabel(\"theta 0\")\n",
    "plt.ylabel(\"loss\")"
   ]
  },
  {
   "cell_type": "code",
   "execution_count": 37,
   "metadata": {},
   "outputs": [
    {
     "data": {
      "text/plain": [
       "Text(0, 0.5, 'loss')"
      ]
     },
     "execution_count": 37,
     "metadata": {},
     "output_type": "execute_result"
    },
    {
     "data": {
      "image/png": "[encoded data removed]",
      "text/plain": [
       "<Figure size 432x288 with 1 Axes>"
      ]
     },
     "metadata": {
      "needs_background": "light"
     },
     "output_type": "display_data"
    }
   ],
   "source": [
    "plt.plot(listth1,costs)\n",
    "plt.xlabel(\"theta 1\")\n",
    "plt.ylabel(\"loss\")"
   ]
  },
  {
   "cell_type": "markdown",
   "metadata": {},
   "source": [
    "### With shuffle "
   ]
  },
  {
   "cell_type": "code",
   "execution_count": 38,
   "metadata": {},
   "outputs": [],
   "source": [
    "x_mini_shuffled=np.linspace(0,20)\n",
    "y_mini_shuffled=-2*x_mini_shuffled+1"
   ]
  },
  {
   "cell_type": "code",
   "execution_count": 39,
   "metadata": {},
   "outputs": [],
   "source": [
    "np.random.shuffle(x_mini_shuffled)\n",
    "np.random.shuffle(y_mini_shuffled)\n"
   ]
  },
  {
   "cell_type": "code",
   "execution_count": 40,
   "metadata": {},
   "outputs": [
    {
     "name": "stdout",
     "output_type": "stream",
     "text": [
      "================================================\n",
      "epoch  0\n",
      "Cost=  81.30839618948308\n",
      "================================================\n",
      "epoch  1\n",
      "Cost=  4.480078456753001\n",
      "================================================\n",
      "epoch  2\n",
      "Cost=  0.44770107158015016\n",
      "================================================\n",
      "epoch  3\n",
      "Cost=  0.13340408677246263\n",
      "================================================\n",
      "epoch  4\n",
      "Cost=  0.09061752412837978\n",
      "================================================\n",
      "epoch  5\n",
      "Cost=  0.08236033725356338\n"
     ]
    }
   ],
   "source": [
    "yPredicted , th0_shuffled ,th1_shuffled ,costs_list,list_th0_shuffled ,list_th1_shuffled =MiniBatch_GD(x_mini_shuffled,y_mini_shuffled, 0.001, 100,5)"
   ]
  },
  {
   "cell_type": "code",
   "execution_count": 41,
   "metadata": {},
   "outputs": [
    {
     "data": {
      "text/plain": [
       "-0.886084692648097"
      ]
     },
     "execution_count": 41,
     "metadata": {},
     "output_type": "execute_result"
    }
   ],
   "source": [
    "r2_score(y_mini_shuffled ,th0_shuffled+th1_shuffled*x_mini_shuffled )"
   ]
  },
  {
   "cell_type": "code",
   "execution_count": 42,
   "metadata": {},
   "outputs": [
    {
     "data": {
      "text/plain": [
       "[<matplotlib.lines.Line2D at 0x19a147e7700>]"
      ]
     },
     "execution_count": 42,
     "metadata": {},
     "output_type": "execute_result"
    },
    {
     "data": {
      "image/png": "[encoded data removed]",
      "text/plain": [
       "<Figure size 432x288 with 1 Axes>"
      ]
     },
     "metadata": {
      "needs_background": "light"
     },
     "output_type": "display_data"
    }
   ],
   "source": [
    "plt.plot(x_mini_shuffled,y_mini_shuffled,\"o\")\n",
    "plt.plot(x_mini_shuffled ,th0_shuffled+th1_shuffled*x_mini_shuffled)"
   ]
  },
  {
   "cell_type": "code",
   "execution_count": 43,
   "metadata": {},
   "outputs": [
    {
     "data": {
      "text/plain": [
       "Text(0, 0.5, 'loss')"
      ]
     },
     "execution_count": 43,
     "metadata": {},
     "output_type": "execute_result"
    },
    {
     "data": {
      "image/png": "[encoded data removed]",
      "text/plain": [
       "<Figure size 432x288 with 1 Axes>"
      ]
     },
     "metadata": {
      "needs_background": "light"
     },
     "output_type": "display_data"
    }
   ],
   "source": [
    "#plot loss vs iterations\n",
    "plt.plot(np.arange(len(costs_list)),costs_list)\n",
    "plt.xlabel(\"iterations\")\n",
    "plt.ylabel(\"loss\")"
   ]
  },
  {
   "cell_type": "code",
   "execution_count": 44,
   "metadata": {},
   "outputs": [
    {
     "data": {
      "text/plain": [
       "Text(0, 0.5, 'loss')"
      ]
     },
     "execution_count": 44,
     "metadata": {},
     "output_type": "execute_result"
    },
    {
     "data": {
      "image/png": "[encoded data removed]",
      "text/plain": [
       "<Figure size 432x288 with 1 Axes>"
      ]
     },
     "metadata": {
      "needs_background": "light"
     },
     "output_type": "display_data"
    }
   ],
   "source": [
    "plt.plot(list_th0_shuffled,costs_list)\n",
    "plt.xlabel(\"theta 0\")\n",
    "plt.ylabel(\"loss\")"
   ]
  },
  {
   "cell_type": "code",
   "execution_count": 45,
   "metadata": {},
   "outputs": [
    {
     "data": {
      "text/plain": [
       "Text(0, 0.5, 'loss')"
      ]
     },
     "execution_count": 45,
     "metadata": {},
     "output_type": "execute_result"
    },
    {
     "data": {
      "image/png": "[encoded data removed]",
      "text/plain": [
       "<Figure size 432x288 with 1 Axes>"
      ]
     },
     "metadata": {
      "needs_background": "light"
     },
     "output_type": "display_data"
    }
   ],
   "source": [
    "plt.plot(list_th1_shuffled,costs_list)\n",
    "plt.xlabel(\"theta 1\")\n",
    "plt.ylabel(\"loss\")"
   ]
  },
  {
   "cell_type": "markdown",
   "metadata": {},
   "source": [
    "## Stochastic GD"
   ]
  },
  {
   "cell_type": "markdown",
   "metadata": {},
   "source": [
    "#### Update the implementation of the Batch GD to beStochastic and rpeat the above plots and evaluations\n",
    "#### You can try different learning rate and see its effect.\n",
    "#### Compare to Batch and Mini-Batch GD\n",
    "### Note: Try once without shuffling the data and once with shuffle and see the effect on the output."
   ]
  },
  {
   "cell_type": "code",
   "execution_count": 46,
   "metadata": {},
   "outputs": [],
   "source": [
    "def stochastic_GD(X,Y,alpha,Max_no_iterations):\n",
    "    # 1.  Initialize parameters (theta_0 & theta_1) with random value or simply zero. Also choose the Learning rate.\n",
    "    theta_0=0\n",
    "    theta_1=0\n",
    "    loss=[]\n",
    "    th0_list=[]\n",
    "    th1_list=[]\n",
    "    Y_predict_list=[]\n",
    "    \n",
    "    for e in range (Max_no_iterations):\n",
    "        print(\"================================================\")\n",
    "        print(\"epoch \" ,e)\n",
    "        \n",
    "        for i in range (len(X)):\n",
    "            \n",
    "            #2. Use (theta_0 & theta_1) to predict the output h(x)= theta_0 + theta_1 * x.\n",
    "    \n",
    "            Y_predict=theta_0 +theta_1 *X[i]\n",
    "            \n",
    "            #3. Calculate Cost function 𝑱(theta_0,theta_1 ).\n",
    "            error=Y_predict - Y[i]\n",
    "            cost=(error**2)/(2)\n",
    "            loss.append(cost)\n",
    "            \n",
    "            #4.  Calculate gradient of theta_0 and theta_1\n",
    "            Grad_theta_0=error\n",
    "            Grad_theta_1=error *X[i]\n",
    "            \n",
    "            #5. Update the parameters (simultaneously).\n",
    "            theta_0 =theta_0 -alpha*Grad_theta_0\n",
    "\n",
    "            theta_1= theta_1 -alpha *Grad_theta_1\n",
    "            th0_list.append(theta_0)\n",
    "            th1_list.append(theta_1)\n",
    "    \n",
    "        print(\"Cost= \" , cost)\n",
    "        Y_predict_list.append(Y_predict)\n",
    "                 \n",
    "        #stop condition \n",
    "        if(e!=0):\n",
    "            if (abs(loss[(e-1)*len(X)]-loss[e*len(X)])<0.001):\n",
    "                break\n",
    "\n",
    "\n",
    "\n",
    "    return Y_predict_list , theta_0 ,theta_1 , loss,th0_list,th1_list\n",
    "    "
   ]
  },
  {
   "cell_type": "code",
   "execution_count": 47,
   "metadata": {},
   "outputs": [
    {
     "name": "stdout",
     "output_type": "stream",
     "text": [
      "================================================\n",
      "epoch  0\n",
      "Cost=  214.21025742604553\n",
      "================================================\n",
      "epoch  1\n",
      "Cost=  56.7938200533083\n",
      "================================================\n",
      "epoch  2\n",
      "Cost=  15.677071402920276\n",
      "================================================\n",
      "epoch  3\n",
      "Cost=  4.654473192446179\n",
      "================================================\n",
      "epoch  4\n",
      "Cost=  1.5611177939281917\n",
      "================================================\n",
      "epoch  5\n",
      "Cost=  0.6270143422833283\n",
      "================================================\n",
      "epoch  6\n",
      "Cost=  0.3148492489424965\n",
      "================================================\n",
      "epoch  7\n",
      "Cost=  0.19773713423840764\n"
     ]
    }
   ],
   "source": [
    "Y_predict , t0 ,t1 , losses,t0_list,t1_list=stochastic_GD(x,y,0.0001,1000)"
   ]
  },
  {
   "cell_type": "code",
   "execution_count": 48,
   "metadata": {},
   "outputs": [
    {
     "data": {
      "text/plain": [
       "Text(0, 0.5, 'loss')"
      ]
     },
     "execution_count": 48,
     "metadata": {},
     "output_type": "execute_result"
    },
    {
     "data": {
      "image/png": "[encoded data removed]",
      "text/plain": [
       "<Figure size 432x288 with 1 Axes>"
      ]
     },
     "metadata": {
      "needs_background": "light"
     },
     "output_type": "display_data"
    }
   ],
   "source": [
    "#plot loss vs iterations\n",
    "plt.plot(losses)\n",
    "plt.xlabel(\"iterations\")\n",
    "plt.ylabel(\"loss\")"
   ]
  },
  {
   "cell_type": "code",
   "execution_count": 49,
   "metadata": {},
   "outputs": [
    {
     "data": {
      "text/plain": [
       "Text(0, 0.5, 'loss')"
      ]
     },
     "execution_count": 49,
     "metadata": {},
     "output_type": "execute_result"
    },
    {
     "data": {
      "image/png": "[encoded data removed]",
      "text/plain": [
       "<Figure size 432x288 with 1 Axes>"
      ]
     },
     "metadata": {
      "needs_background": "light"
     },
     "output_type": "display_data"
    }
   ],
   "source": [
    "plt.plot(t0_list,losses)\n",
    "plt.xlabel(\"theta 0\")\n",
    "plt.ylabel(\"loss\")"
   ]
  },
  {
   "cell_type": "code",
   "execution_count": 50,
   "metadata": {},
   "outputs": [
    {
     "data": {
      "text/plain": [
       "Text(0, 0.5, 'loss')"
      ]
     },
     "execution_count": 50,
     "metadata": {},
     "output_type": "execute_result"
    },
    {
     "data": {
      "image/png": "[encoded data removed]",
      "text/plain": [
       "<Figure size 432x288 with 1 Axes>"
      ]
     },
     "metadata": {
      "needs_background": "light"
     },
     "output_type": "display_data"
    }
   ],
   "source": [
    "plt.plot(t1_list,losses)\n",
    "plt.xlabel(\"theta 1\")\n",
    "plt.ylabel(\"loss\")"
   ]
  },
  {
   "cell_type": "code",
   "execution_count": 51,
   "metadata": {},
   "outputs": [
    {
     "data": {
      "image/png": "[encoded data removed]",
      "text/plain": [
       "<Figure size 432x288 with 1 Axes>"
      ]
     },
     "metadata": {
      "needs_background": "light"
     },
     "output_type": "display_data"
    }
   ],
   "source": [
    "plt.plot(x,y,'o')\n",
    "plt.ylabel(\"y\")\n",
    "plt.xlabel(\"x\")\n",
    "\n",
    "for i in range(len(Y_predict)):\n",
    "    plt.plot(x,t0_list[i*(len(x))]+t1_list[i*(len(x))]*x)\n",
    "    \n",
    "    \n",
    "plt.show()\n"
   ]
  },
  {
   "cell_type": "code",
   "execution_count": 52,
   "metadata": {},
   "outputs": [
    {
     "data": {
      "text/plain": [
       "Text(0, 0.5, 'y')"
      ]
     },
     "execution_count": 52,
     "metadata": {},
     "output_type": "execute_result"
    },
    {
     "data": {
      "image/png": "[encoded data removed]",
      "text/plain": [
       "<Figure size 432x288 with 1 Axes>"
      ]
     },
     "metadata": {
      "needs_background": "light"
     },
     "output_type": "display_data"
    }
   ],
   "source": [
    "plt.plot(x,y,\"o\")\n",
    "plt.plot(x,t0+t1*x)\n",
    "plt.xlabel(\"x\")\n",
    "plt.ylabel(\"y\")"
   ]
  },
  {
   "cell_type": "code",
   "execution_count": 53,
   "metadata": {},
   "outputs": [
    {
     "data": {
      "text/plain": [
       "0.9975797730384957"
      ]
     },
     "execution_count": 53,
     "metadata": {},
     "output_type": "execute_result"
    }
   ],
   "source": [
    "r2_score(y,t0+t1*x)"
   ]
  },
  {
   "cell_type": "markdown",
   "metadata": {},
   "source": [
    "## Try with shuffle"
   ]
  },
  {
   "cell_type": "code",
   "execution_count": 54,
   "metadata": {},
   "outputs": [],
   "source": [
    "x_new=np.linspace(0,20)\n",
    "y_new=-2*x_new+1"
   ]
  },
  {
   "cell_type": "code",
   "execution_count": 55,
   "metadata": {},
   "outputs": [],
   "source": [
    "np.random.shuffle(x_new)\n",
    "np.random.shuffle(y_new)\n"
   ]
  },
  {
   "cell_type": "code",
   "execution_count": 56,
   "metadata": {},
   "outputs": [
    {
     "data": {
      "text/plain": [
       "<matplotlib.collections.PathCollection at 0x19a14afe5b0>"
      ]
     },
     "execution_count": 56,
     "metadata": {},
     "output_type": "execute_result"
    },
    {
     "data": {
      "image/png": "[encoded data removed]",
      "text/plain": [
       "<Figure size 432x288 with 1 Axes>"
      ]
     },
     "metadata": {
      "needs_background": "light"
     },
     "output_type": "display_data"
    }
   ],
   "source": [
    "plt.scatter(x_new,y_new)"
   ]
  },
  {
   "cell_type": "code",
   "execution_count": 57,
   "metadata": {},
   "outputs": [
    {
     "name": "stdout",
     "output_type": "stream",
     "text": [
      "================================================\n",
      "epoch  0\n",
      "Cost=  169.23893596520972\n",
      "================================================\n",
      "epoch  1\n",
      "Cost=  168.0824755082849\n",
      "================================================\n",
      "epoch  2\n",
      "Cost=  166.78418063485728\n",
      "================================================\n",
      "epoch  3\n",
      "Cost=  165.50753908127447\n",
      "================================================\n",
      "epoch  4\n",
      "Cost=  164.25220902372087\n",
      "================================================\n",
      "epoch  5\n",
      "Cost=  163.01779147954986\n",
      "================================================\n",
      "epoch  6\n",
      "Cost=  161.80389577036252\n",
      "================================================\n",
      "epoch  7\n",
      "Cost=  160.6101393591474\n",
      "================================================\n",
      "epoch  8\n",
      "Cost=  159.43614766565196\n",
      "================================================\n",
      "epoch  9\n",
      "Cost=  158.2815538861697\n",
      "================================================\n",
      "epoch  10\n",
      "Cost=  157.14599881764397\n",
      "================================================\n",
      "epoch  11\n",
      "Cost=  156.0291306859813\n",
      "================================================\n",
      "epoch  12\n",
      "Cost=  154.9306049784699\n",
      "================================================\n",
      "epoch  13\n",
      "Cost=  153.85008428020285\n",
      "================================================\n",
      "epoch  14\n",
      "Cost=  152.7872381144055\n",
      "================================================\n",
      "epoch  15\n",
      "Cost=  151.74174278657216\n",
      "================================================\n",
      "epoch  16\n",
      "Cost=  150.7132812323167\n",
      "================================================\n",
      "epoch  17\n",
      "Cost=  149.7015428688464\n",
      "================================================\n",
      "epoch  18\n",
      "Cost=  148.70622344996917\n",
      "================================================\n",
      "epoch  19\n",
      "Cost=  147.727024924547\n",
      "================================================\n",
      "epoch  20\n",
      "Cost=  146.76365529831105\n",
      "================================================\n",
      "epoch  21\n",
      "Cost=  145.8158284989552\n",
      "================================================\n",
      "epoch  22\n",
      "Cost=  144.88326424442798\n",
      "================================================\n",
      "epoch  23\n",
      "Cost=  143.96568791434242\n",
      "================================================\n",
      "epoch  24\n",
      "Cost=  143.0628304244306\n",
      "================================================\n",
      "epoch  25\n",
      "Cost=  142.1744281039638\n",
      "================================================\n",
      "epoch  26\n",
      "Cost=  141.30022257606885\n",
      "================================================\n",
      "epoch  27\n",
      "Cost=  140.43996064086787\n",
      "================================================\n",
      "epoch  28\n",
      "Cost=  139.5933941613721\n",
      "================================================\n",
      "epoch  29\n",
      "Cost=  138.7602799520634\n",
      "================================================\n",
      "epoch  30\n",
      "Cost=  137.94037967009638\n",
      "================================================\n",
      "epoch  31\n",
      "Cost=  137.133459709057\n",
      "================================================\n",
      "epoch  32\n",
      "Cost=  136.33929109521634\n",
      "================================================\n",
      "epoch  33\n",
      "Cost=  135.55764938621695\n",
      "================================================\n",
      "epoch  34\n",
      "Cost=  134.7883145721331\n",
      "================================================\n",
      "epoch  35\n",
      "Cost=  134.0310709788465\n",
      "================================================\n",
      "epoch  36\n",
      "Cost=  133.28570717368143\n",
      "================================================\n",
      "epoch  37\n",
      "Cost=  132.5520158732443\n",
      "================================================\n",
      "epoch  38\n",
      "Cost=  131.8297938534121\n",
      "================================================\n",
      "epoch  39\n",
      "Cost=  131.11884186142026\n",
      "================================================\n",
      "epoch  40\n",
      "Cost=  130.4189645299959\n",
      "================================================\n",
      "epoch  41\n",
      "Cost=  129.7299702934885\n",
      "================================================\n",
      "epoch  42\n",
      "Cost=  129.05167130594938\n",
      "================================================\n",
      "epoch  43\n",
      "Cost=  128.38388336111058\n",
      "================================================\n",
      "epoch  44\n",
      "Cost=  127.7264258142201\n",
      "================================================\n",
      "epoch  45\n",
      "Cost=  127.07912150568531\n",
      "================================================\n",
      "epoch  46\n",
      "Cost=  126.44179668648354\n",
      "================================================\n",
      "epoch  47\n",
      "Cost=  125.8142809452941\n",
      "================================================\n",
      "epoch  48\n",
      "Cost=  125.19640713731238\n",
      "================================================\n",
      "epoch  49\n",
      "Cost=  124.58801131470418\n",
      "================================================\n",
      "epoch  50\n",
      "Cost=  123.98893265866083\n",
      "================================================\n",
      "epoch  51\n",
      "Cost=  123.3990134130158\n",
      "================================================\n",
      "epoch  52\n",
      "Cost=  122.81809881938632\n",
      "================================================\n",
      "epoch  53\n",
      "Cost=  122.2460370538017\n",
      "================================================\n",
      "epoch  54\n",
      "Cost=  121.68267916478399\n",
      "================================================\n",
      "epoch  55\n",
      "Cost=  121.1278790128442\n",
      "================================================\n",
      "epoch  56\n",
      "Cost=  120.58149321136194\n",
      "================================================\n",
      "epoch  57\n",
      "Cost=  120.04338106881333\n",
      "================================================\n",
      "epoch  58\n",
      "Cost=  119.51340453231604\n",
      "================================================\n",
      "epoch  59\n",
      "Cost=  118.99142813245922\n",
      "================================================\n",
      "epoch  60\n",
      "Cost=  118.47731892938747\n",
      "================================================\n",
      "epoch  61\n",
      "Cost=  117.97094646010872\n",
      "================================================\n",
      "epoch  62\n",
      "Cost=  117.47218268699736\n",
      "================================================\n",
      "epoch  63\n",
      "Cost=  116.98090194746237\n",
      "================================================\n",
      "epoch  64\n",
      "Cost=  116.4969809047545\n",
      "================================================\n",
      "epoch  65\n",
      "Cost=  116.02029849988405\n",
      "================================================\n",
      "epoch  66\n",
      "Cost=  115.55073590462237\n",
      "================================================\n",
      "epoch  67\n",
      "Cost=  115.08817647556279\n",
      "================================================\n",
      "epoch  68\n",
      "Cost=  114.63250570921367\n",
      "================================================\n",
      "epoch  69\n",
      "Cost=  114.18361119810093\n",
      "================================================\n",
      "epoch  70\n",
      "Cost=  113.74138258785395\n",
      "================================================\n",
      "epoch  71\n",
      "Cost=  113.30571153525369\n",
      "================================================\n",
      "epoch  72\n",
      "Cost=  112.87649166721818\n",
      "================================================\n",
      "epoch  73\n",
      "Cost=  112.45361854070407\n",
      "================================================\n",
      "epoch  74\n",
      "Cost=  112.03698960350248\n",
      "================================================\n",
      "epoch  75\n",
      "Cost=  111.6265041559076\n",
      "================================================\n",
      "epoch  76\n",
      "Cost=  111.22206331323761\n",
      "================================================\n",
      "epoch  77\n",
      "Cost=  110.82356996918763\n",
      "================================================\n",
      "epoch  78\n",
      "Cost=  110.43092875999531\n",
      "================================================\n",
      "epoch  79\n",
      "Cost=  110.0440460293989\n",
      "================================================\n",
      "epoch  80\n",
      "Cost=  109.6628297943707\n",
      "================================================\n",
      "epoch  81\n",
      "Cost=  109.28718971160586\n",
      "================================================\n",
      "epoch  82\n",
      "Cost=  108.91703704474989\n",
      "================================================\n",
      "epoch  83\n",
      "Cost=  108.55228463234762\n",
      "================================================\n",
      "epoch  84\n",
      "Cost=  108.19284685649505\n",
      "================================================\n",
      "epoch  85\n",
      "Cost=  107.83863961217986\n",
      "================================================\n",
      "epoch  86\n",
      "Cost=  107.48958027729248\n",
      "================================================\n",
      "epoch  87\n",
      "Cost=  107.145587683293\n",
      "================================================\n",
      "epoch  88\n",
      "Cost=  106.80658208651855\n",
      "================================================\n",
      "epoch  89\n",
      "Cost=  106.47248514011572\n",
      "================================================\n",
      "epoch  90\n",
      "Cost=  106.14321986658332\n",
      "================================================\n",
      "epoch  91\n",
      "Cost=  105.81871063091225\n",
      "================================================\n",
      "epoch  92\n",
      "Cost=  105.49888311430726\n",
      "================================================\n",
      "epoch  93\n",
      "Cost=  105.18366428847789\n",
      "================================================\n",
      "epoch  94\n",
      "Cost=  104.87298239048485\n",
      "================================================\n",
      "epoch  95\n",
      "Cost=  104.56676689812946\n",
      "================================================\n",
      "epoch  96\n",
      "Cost=  104.26494850587292\n",
      "================================================\n",
      "epoch  97\n",
      "Cost=  103.96745910127353\n",
      "================================================\n",
      "epoch  98\n",
      "Cost=  103.67423174193011\n",
      "================================================\n",
      "epoch  99\n",
      "Cost=  103.38520063291871\n",
      "================================================\n",
      "epoch  100\n",
      "Cost=  103.10030110471288\n",
      "================================================\n",
      "epoch  101\n",
      "Cost=  102.81946959157504\n",
      "================================================\n",
      "epoch  102\n",
      "Cost=  102.54264361040896\n",
      "================================================\n",
      "epoch  103\n",
      "Cost=  102.26976174006114\n",
      "================================================\n",
      "epoch  104\n",
      "Cost=  102.00076360106404\n",
      "================================================\n",
      "epoch  105\n",
      "Cost=  101.7355898358067\n",
      "================================================\n",
      "epoch  106\n",
      "Cost=  101.47418208912643\n",
      "================================================\n",
      "epoch  107\n",
      "Cost=  101.21648298931011\n",
      "================================================\n",
      "epoch  108\n",
      "Cost=  100.9624361294967\n",
      "================================================\n",
      "epoch  109\n",
      "Cost=  100.71198604947053\n",
      "================================================\n",
      "epoch  110\n",
      "Cost=  100.46507821783811\n",
      "================================================\n",
      "epoch  111\n",
      "Cost=  100.22165901457808\n",
      "================================================\n",
      "epoch  112\n",
      "Cost=  99.98167571395719\n",
      "================================================\n",
      "epoch  113\n",
      "Cost=  99.74507646780258\n",
      "================================================\n",
      "epoch  114\n",
      "Cost=  99.51181028912372\n",
      "================================================\n",
      "epoch  115\n",
      "Cost=  99.28182703607541\n",
      "================================================\n",
      "epoch  116\n",
      "Cost=  99.05507739625295\n",
      "================================================\n",
      "epoch  117\n",
      "Cost=  98.83151287131466\n",
      "================================================\n",
      "epoch  118\n",
      "Cost=  98.61108576192154\n",
      "================================================\n",
      "epoch  119\n",
      "Cost=  98.39374915298899\n",
      "================================================\n",
      "epoch  120\n",
      "Cost=  98.1794568992418\n",
      "================================================\n",
      "epoch  121\n",
      "Cost=  97.96816361106782\n",
      "================================================\n",
      "epoch  122\n",
      "Cost=  97.75982464066045\n",
      "================================================\n",
      "epoch  123\n",
      "Cost=  97.554396068447\n",
      "================================================\n",
      "epoch  124\n",
      "Cost=  97.3518346897941\n",
      "================================================\n",
      "epoch  125\n",
      "Cost=  97.15209800198426\n",
      "================================================\n",
      "epoch  126\n",
      "Cost=  96.95514419145852\n",
      "================================================\n",
      "epoch  127\n",
      "Cost=  96.76093212131848\n",
      "================================================\n",
      "epoch  128\n",
      "Cost=  96.56942131908175\n",
      "================================================\n",
      "epoch  129\n",
      "Cost=  96.38057196468586\n",
      "================================================\n",
      "epoch  130\n",
      "Cost=  96.19434487873484\n",
      "================================================\n",
      "epoch  131\n",
      "Cost=  96.0107015109827\n",
      "================================================\n",
      "epoch  132\n",
      "Cost=  95.82960392904917\n",
      "================================================\n",
      "epoch  133\n",
      "Cost=  95.65101480736166\n",
      "================================================\n",
      "epoch  134\n",
      "Cost=  95.47489741632005\n",
      "================================================\n",
      "epoch  135\n",
      "Cost=  95.30121561167766\n",
      "================================================\n",
      "epoch  136\n",
      "Cost=  95.12993382413411\n",
      "================================================\n",
      "epoch  137\n",
      "Cost=  94.96101704913644\n",
      "================================================\n",
      "epoch  138\n",
      "Cost=  94.79443083688287\n",
      "================================================\n",
      "epoch  139\n",
      "Cost=  94.63014128252458\n",
      "================================================\n",
      "epoch  140\n",
      "Cost=  94.46811501656218\n",
      "================================================\n",
      "epoch  141\n",
      "Cost=  94.30831919543185\n",
      "================================================\n",
      "epoch  142\n",
      "Cost=  94.15072149227716\n",
      "================================================\n",
      "epoch  143\n",
      "Cost=  93.99529008790275\n",
      "================================================\n",
      "epoch  144\n",
      "Cost=  93.84199366190533\n",
      "================================================\n",
      "epoch  145\n",
      "Cost=  93.6908013839793\n",
      "================================================\n",
      "epoch  146\n"
     ]
    },
    {
     "name": "stdout",
     "output_type": "stream",
     "text": [
      "Cost=  93.54168290539184\n",
      "================================================\n",
      "epoch  147\n",
      "Cost=  93.39460835062447\n",
      "================================================\n",
      "epoch  148\n",
      "Cost=  93.24954830917824\n",
      "================================================\n",
      "epoch  149\n",
      "Cost=  93.10647382753672\n",
      "================================================\n",
      "epoch  150\n",
      "Cost=  92.96535640128677\n",
      "================================================\n",
      "epoch  151\n",
      "Cost=  92.82616796739002\n",
      "================================================\n",
      "epoch  152\n",
      "Cost=  92.6888808966053\n",
      "================================================\n",
      "epoch  153\n",
      "Cost=  92.55346798605535\n",
      "================================================\n",
      "epoch  154\n",
      "Cost=  92.41990245193844\n",
      "================================================\n",
      "epoch  155\n",
      "Cost=  92.28815792237812\n",
      "================================================\n",
      "epoch  156\n",
      "Cost=  92.15820843041122\n",
      "================================================\n",
      "epoch  157\n",
      "Cost=  92.03002840710874\n",
      "================================================\n",
      "epoch  158\n",
      "Cost=  91.903592674829\n",
      "================================================\n",
      "epoch  159\n",
      "Cost=  91.77887644059807\n",
      "================================================\n",
      "epoch  160\n",
      "Cost=  91.65585528961685\n",
      "================================================\n",
      "epoch  161\n",
      "Cost=  91.5345051788904\n",
      "================================================\n",
      "epoch  162\n",
      "Cost=  91.4148024309781\n",
      "================================================\n",
      "epoch  163\n",
      "Cost=  91.29672372786152\n",
      "================================================\n",
      "epoch  164\n",
      "Cost=  91.1802461049279\n",
      "================================================\n",
      "epoch  165\n",
      "Cost=  91.06534694506614\n",
      "================================================\n",
      "epoch  166\n",
      "Cost=  90.95200397287394\n",
      "================================================\n",
      "epoch  167\n",
      "Cost=  90.84019524897292\n",
      "================================================\n",
      "epoch  168\n",
      "Cost=  90.72989916442985\n",
      "================================================\n",
      "epoch  169\n",
      "Cost=  90.62109443528196\n",
      "================================================\n",
      "epoch  170\n",
      "Cost=  90.51376009716364\n",
      "================================================\n",
      "epoch  171\n",
      "Cost=  90.4078755000325\n",
      "================================================\n",
      "epoch  172\n",
      "Cost=  90.3034203029937\n",
      "================================================\n",
      "epoch  173\n",
      "Cost=  90.2003744692189\n",
      "================================================\n",
      "epoch  174\n",
      "Cost=  90.09871826095963\n",
      "================================================\n",
      "epoch  175\n",
      "Cost=  89.99843223465128\n",
      "================================================\n",
      "epoch  176\n",
      "Cost=  89.89949723610766\n",
      "================================================\n",
      "epoch  177\n",
      "Cost=  89.80189439580333\n",
      "================================================\n",
      "epoch  178\n",
      "Cost=  89.7056051242409\n",
      "================================================\n",
      "epoch  179\n",
      "Cost=  89.61061110740467\n",
      "================================================\n",
      "epoch  180\n",
      "Cost=  89.51689430229521\n",
      "================================================\n",
      "epoch  181\n",
      "Cost=  89.42443693254536\n",
      "================================================\n",
      "epoch  182\n",
      "Cost=  89.33322148411585\n",
      "================================================\n",
      "epoch  183\n",
      "Cost=  89.24323070106814\n",
      "================================================\n",
      "epoch  184\n",
      "Cost=  89.15444758141383\n",
      "================================================\n",
      "epoch  185\n",
      "Cost=  89.0668553730382\n",
      "================================================\n",
      "epoch  186\n",
      "Cost=  88.98043756969707\n",
      "================================================\n",
      "epoch  187\n",
      "Cost=  88.89517790708516\n",
      "================================================\n",
      "epoch  188\n",
      "Cost=  88.81106035897483\n",
      "================================================\n",
      "epoch  189\n",
      "Cost=  88.72806913342343\n",
      "================================================\n",
      "epoch  190\n",
      "Cost=  88.646188669048\n",
      "================================================\n",
      "epoch  191\n",
      "Cost=  88.56540363136605\n",
      "================================================\n",
      "epoch  192\n",
      "Cost=  88.48569890920119\n",
      "================================================\n",
      "epoch  193\n",
      "Cost=  88.40705961115208\n",
      "================================================\n",
      "epoch  194\n",
      "Cost=  88.32947106212356\n",
      "================================================\n",
      "epoch  195\n",
      "Cost=  88.25291879991885\n",
      "================================================\n",
      "epoch  196\n",
      "Cost=  88.17738857189195\n",
      "================================================\n",
      "epoch  197\n",
      "Cost=  88.10286633165734\n",
      "================================================\n",
      "epoch  198\n",
      "Cost=  88.0293382358585\n",
      "================================================\n",
      "epoch  199\n",
      "Cost=  87.95679064099194\n",
      "================================================\n",
      "epoch  200\n",
      "Cost=  87.88521010028694\n",
      "================================================\n",
      "epoch  201\n",
      "Cost=  87.81458336063899\n",
      "================================================\n",
      "epoch  202\n",
      "Cost=  87.74489735959637\n",
      "================================================\n",
      "epoch  203\n",
      "Cost=  87.67613922239912\n",
      "================================================\n",
      "epoch  204\n",
      "Cost=  87.60829625906884\n",
      "================================================\n",
      "epoch  205\n",
      "Cost=  87.54135596154848\n",
      "================================================\n",
      "epoch  206\n",
      "Cost=  87.47530600089102\n",
      "================================================\n",
      "epoch  207\n",
      "Cost=  87.41013422449689\n",
      "================================================\n",
      "epoch  208\n",
      "Cost=  87.34582865339813\n",
      "================================================\n",
      "epoch  209\n",
      "Cost=  87.28237747958893\n",
      "================================================\n",
      "epoch  210\n",
      "Cost=  87.2197690634016\n",
      "================================================\n",
      "epoch  211\n",
      "Cost=  87.15799193092737\n",
      "================================================\n",
      "epoch  212\n",
      "Cost=  87.09703477148037\n",
      "================================================\n",
      "epoch  213\n",
      "Cost=  87.03688643510507\n",
      "================================================\n",
      "epoch  214\n",
      "Cost=  86.97753593012517\n",
      "================================================\n",
      "epoch  215\n",
      "Cost=  86.91897242073428\n",
      "================================================\n",
      "epoch  216\n",
      "Cost=  86.86118522462691\n",
      "================================================\n",
      "epoch  217\n",
      "Cost=  86.80416381066904\n",
      "================================================\n",
      "epoch  218\n",
      "Cost=  86.74789779660775\n",
      "================================================\n",
      "epoch  219\n",
      "Cost=  86.69237694681925\n",
      "================================================\n",
      "epoch  220\n",
      "Cost=  86.63759117009428\n",
      "================================================\n",
      "epoch  221\n",
      "Cost=  86.58353051746032\n",
      "================================================\n",
      "epoch  222\n",
      "Cost=  86.53018518003982\n",
      "================================================\n",
      "epoch  223\n",
      "Cost=  86.47754548694436\n",
      "================================================\n",
      "epoch  224\n",
      "Cost=  86.42560190320314\n",
      "================================================\n",
      "epoch  225\n",
      "Cost=  86.37434502772578\n",
      "================================================\n",
      "epoch  226\n",
      "Cost=  86.32376559129887\n",
      "================================================\n",
      "epoch  227\n",
      "Cost=  86.27385445461496\n",
      "================================================\n",
      "epoch  228\n",
      "Cost=  86.22460260633453\n",
      "================================================\n",
      "epoch  229\n",
      "Cost=  86.17600116117883\n",
      "================================================\n",
      "epoch  230\n",
      "Cost=  86.12804135805462\n",
      "================================================\n",
      "epoch  231\n",
      "Cost=  86.08071455820915\n",
      "================================================\n",
      "epoch  232\n",
      "Cost=  86.0340122434151\n",
      "================================================\n",
      "epoch  233\n",
      "Cost=  85.98792601418496\n",
      "================================================\n",
      "epoch  234\n",
      "Cost=  85.94244758801472\n",
      "================================================\n",
      "epoch  235\n",
      "Cost=  85.89756879765504\n",
      "================================================\n",
      "epoch  236\n",
      "Cost=  85.85328158941181\n",
      "================================================\n",
      "epoch  237\n",
      "Cost=  85.80957802147262\n",
      "================================================\n",
      "epoch  238\n",
      "Cost=  85.76645026226082\n",
      "================================================\n",
      "epoch  239\n",
      "Cost=  85.72389058881599\n",
      "================================================\n",
      "epoch  240\n",
      "Cost=  85.68189138520017\n",
      "================================================\n",
      "epoch  241\n",
      "Cost=  85.64044514092974\n",
      "================================================\n",
      "epoch  242\n",
      "Cost=  85.59954444943213\n",
      "================================================\n",
      "epoch  243\n",
      "Cost=  85.5591820065273\n",
      "================================================\n",
      "epoch  244\n",
      "Cost=  85.51935060893295\n",
      "================================================\n",
      "epoch  245\n",
      "Cost=  85.48004315279434\n",
      "================================================\n",
      "epoch  246\n",
      "Cost=  85.44125263223614\n",
      "================================================\n",
      "epoch  247\n",
      "Cost=  85.40297213793828\n",
      "================================================\n",
      "epoch  248\n",
      "Cost=  85.36519485573356\n",
      "================================================\n",
      "epoch  249\n",
      "Cost=  85.32791406522773\n",
      "================================================\n",
      "epoch  250\n",
      "Cost=  85.29112313844132\n",
      "================================================\n",
      "epoch  251\n",
      "Cost=  85.25481553847193\n",
      "================================================\n",
      "epoch  252\n",
      "Cost=  85.21898481817878\n",
      "================================================\n",
      "epoch  253\n",
      "Cost=  85.18362461888727\n",
      "================================================\n",
      "epoch  254\n",
      "Cost=  85.148728669113\n",
      "================================================\n",
      "epoch  255\n",
      "Cost=  85.11429078330683\n",
      "================================================\n",
      "epoch  256\n",
      "Cost=  85.08030486061901\n",
      "================================================\n",
      "epoch  257\n",
      "Cost=  85.04676488368224\n",
      "================================================\n",
      "epoch  258\n",
      "Cost=  85.01366491741383\n",
      "================================================\n",
      "epoch  259\n",
      "Cost=  84.98099910783668\n",
      "================================================\n",
      "epoch  260\n",
      "Cost=  84.94876168091761\n",
      "================================================\n",
      "epoch  261\n",
      "Cost=  84.91694694142491\n",
      "================================================\n",
      "epoch  262\n",
      "Cost=  84.88554927180182\n",
      "================================================\n",
      "epoch  263\n",
      "Cost=  84.85456313105911\n",
      "================================================\n",
      "epoch  264\n",
      "Cost=  84.82398305368316\n",
      "================================================\n",
      "epoch  265\n",
      "Cost=  84.7938036485618\n",
      "================================================\n",
      "epoch  266\n",
      "Cost=  84.76401959792584\n",
      "================================================\n",
      "epoch  267\n",
      "Cost=  84.73462565630717\n",
      "================================================\n",
      "epoch  268\n",
      "Cost=  84.70561664951262\n",
      "================================================\n",
      "epoch  269\n",
      "Cost=  84.67698747361362\n",
      "================================================\n",
      "epoch  270\n",
      "Cost=  84.64873309395105\n",
      "================================================\n",
      "epoch  271\n",
      "Cost=  84.62084854415475\n",
      "================================================\n",
      "epoch  272\n",
      "Cost=  84.59332892517895\n",
      "================================================\n",
      "epoch  273\n",
      "Cost=  84.56616940435109\n",
      "================================================\n",
      "epoch  274\n",
      "Cost=  84.53936521443602\n",
      "================================================\n",
      "epoch  275\n",
      "Cost=  84.51291165271346\n",
      "================================================\n",
      "epoch  276\n",
      "Cost=  84.48680408007013\n",
      "================================================\n",
      "epoch  277\n",
      "Cost=  84.46103792010493\n",
      "================================================\n",
      "epoch  278\n",
      "Cost=  84.43560865824749\n",
      "================================================\n",
      "epoch  279\n",
      "Cost=  84.4105118408907\n",
      "================================================\n",
      "epoch  280\n",
      "Cost=  84.3857430745353\n",
      "================================================\n",
      "epoch  281\n",
      "Cost=  84.36129802494789\n",
      "================================================\n",
      "epoch  282\n",
      "Cost=  84.337172416331\n",
      "================================================\n",
      "epoch  283\n",
      "Cost=  84.31336203050618\n",
      "================================================\n",
      "epoch  284\n",
      "Cost=  84.28986270610847\n",
      "================================================\n",
      "epoch  285\n",
      "Cost=  84.26667033779336\n",
      "================================================\n",
      "epoch  286\n",
      "Cost=  84.2437808754554\n",
      "================================================\n",
      "epoch  287\n",
      "Cost=  84.22119032345832\n",
      "================================================\n",
      "epoch  288\n",
      "Cost=  84.19889473987644\n",
      "================================================\n",
      "epoch  289\n",
      "Cost=  84.17689023574752\n",
      "================================================\n",
      "epoch  290\n",
      "Cost=  84.15517297433655\n",
      "================================================\n",
      "epoch  291\n",
      "Cost=  84.13373917041027\n",
      "================================================\n",
      "epoch  292\n",
      "Cost=  84.11258508952234\n",
      "================================================\n",
      "epoch  293\n",
      "Cost=  84.09170704730933\n",
      "================================================\n",
      "epoch  294\n",
      "Cost=  84.07110140879651\n",
      "================================================\n",
      "epoch  295\n",
      "Cost=  84.05076458771457\n",
      "================================================\n",
      "epoch  296\n",
      "Cost=  84.03069304582534\n",
      "================================================\n",
      "epoch  297\n",
      "Cost=  84.01088329225817\n",
      "================================================\n",
      "epoch  298\n",
      "Cost=  83.99133188285583\n",
      "================================================\n",
      "epoch  299\n",
      "Cost=  83.97203541952962\n",
      "================================================\n",
      "epoch  300\n",
      "Cost=  83.95299054962395\n",
      "================================================\n",
      "epoch  301\n",
      "Cost=  83.93419396529077\n",
      "================================================\n",
      "epoch  302\n",
      "Cost=  83.91564240287234\n",
      "================================================\n",
      "epoch  303\n",
      "Cost=  83.89733264229287\n",
      "================================================\n",
      "epoch  304\n",
      "Cost=  83.87926150645995\n",
      "================================================\n",
      "epoch  305\n",
      "Cost=  83.86142586067339\n",
      "================================================\n",
      "epoch  306\n",
      "Cost=  83.84382261204378\n",
      "================================================\n",
      "epoch  307\n",
      "Cost=  83.82644870891802\n",
      "================================================\n",
      "epoch  308\n",
      "Cost=  83.80930114031503\n",
      "================================================\n",
      "epoch  309\n",
      "Cost=  83.79237693536787\n",
      "================================================\n",
      "epoch  310\n",
      "Cost=  83.77567316277455\n",
      "================================================\n",
      "epoch  311\n",
      "Cost=  83.75918693025677\n",
      "================================================\n"
     ]
    },
    {
     "name": "stdout",
     "output_type": "stream",
     "text": [
      "epoch  312\n",
      "Cost=  83.74291538402683\n",
      "================================================\n",
      "epoch  313\n",
      "Cost=  83.72685570826066\n",
      "================================================\n",
      "epoch  314\n",
      "Cost=  83.71100512458064\n",
      "================================================\n",
      "epoch  315\n",
      "Cost=  83.69536089154393\n",
      "================================================\n",
      "epoch  316\n",
      "Cost=  83.67992030413903\n",
      "================================================\n",
      "epoch  317\n",
      "Cost=  83.6646806932889\n",
      "================================================\n",
      "epoch  318\n",
      "Cost=  83.64963942536228\n",
      "================================================\n",
      "epoch  319\n",
      "Cost=  83.63479390169047\n",
      "================================================\n",
      "epoch  320\n",
      "Cost=  83.62014155809247\n",
      "================================================\n",
      "epoch  321\n",
      "Cost=  83.60567986440533\n",
      "================================================\n",
      "epoch  322\n",
      "Cost=  83.59140632402286\n",
      "================================================\n",
      "epoch  323\n",
      "Cost=  83.57731847343932\n",
      "================================================\n",
      "epoch  324\n",
      "Cost=  83.56341388180044\n",
      "================================================\n",
      "epoch  325\n",
      "Cost=  83.54969015046088\n",
      "================================================\n",
      "epoch  326\n",
      "Cost=  83.53614491254717\n",
      "================================================\n",
      "epoch  327\n",
      "Cost=  83.52277583252757\n",
      "================================================\n",
      "epoch  328\n",
      "Cost=  83.50958060578803\n",
      "================================================\n",
      "epoch  329\n",
      "Cost=  83.4965569582132\n",
      "================================================\n",
      "epoch  330\n",
      "Cost=  83.48370264577443\n",
      "================================================\n",
      "epoch  331\n",
      "Cost=  83.47101545412309\n",
      "================================================\n",
      "epoch  332\n",
      "Cost=  83.45849319818929\n",
      "================================================\n",
      "epoch  333\n",
      "Cost=  83.44613372178682\n",
      "================================================\n",
      "epoch  334\n",
      "Cost=  83.43393489722344\n",
      "================================================\n",
      "epoch  335\n",
      "Cost=  83.4218946249163\n",
      "================================================\n",
      "epoch  336\n",
      "Cost=  83.41001083301315\n",
      "================================================\n",
      "epoch  337\n",
      "Cost=  83.3982814770188\n",
      "================================================\n",
      "epoch  338\n",
      "Cost=  83.38670453942635\n",
      "================================================\n",
      "epoch  339\n",
      "Cost=  83.37527802935429\n",
      "================================================\n",
      "epoch  340\n",
      "Cost=  83.36399998218809\n",
      "================================================\n",
      "epoch  341\n",
      "Cost=  83.35286845922708\n",
      "================================================\n",
      "epoch  342\n",
      "Cost=  83.34188154733587\n",
      "================================================\n",
      "epoch  343\n",
      "Cost=  83.33103735860136\n",
      "================================================\n",
      "epoch  344\n",
      "Cost=  83.32033402999366\n",
      "================================================\n",
      "epoch  345\n",
      "Cost=  83.30976972303218\n",
      "================================================\n",
      "epoch  346\n",
      "Cost=  83.29934262345647\n",
      "================================================\n",
      "epoch  347\n",
      "Cost=  83.28905094090126\n",
      "================================================\n",
      "epoch  348\n",
      "Cost=  83.27889290857617\n",
      "================================================\n",
      "epoch  349\n",
      "Cost=  83.26886678294998\n",
      "================================================\n",
      "epoch  350\n",
      "Cost=  83.25897084343907\n",
      "================================================\n",
      "epoch  351\n",
      "Cost=  83.2492033921002\n",
      "================================================\n",
      "epoch  352\n",
      "Cost=  83.23956275332763\n",
      "================================================\n",
      "epoch  353\n",
      "Cost=  83.2300472735545\n",
      "================================================\n",
      "epoch  354\n",
      "Cost=  83.22065532095793\n",
      "================================================\n",
      "epoch  355\n",
      "Cost=  83.21138528516848\n",
      "================================================\n",
      "epoch  356\n",
      "Cost=  83.20223557698392\n",
      "================================================\n",
      "epoch  357\n",
      "Cost=  83.1932046280861\n",
      "================================================\n",
      "epoch  358\n",
      "Cost=  83.18429089076245\n",
      "================================================\n",
      "epoch  359\n",
      "Cost=  83.17549283763137\n",
      "================================================\n",
      "epoch  360\n",
      "Cost=  83.16680896137018\n",
      "================================================\n",
      "epoch  361\n",
      "Cost=  83.15823777444879\n",
      "================================================\n",
      "epoch  362\n",
      "Cost=  83.14977780886527\n",
      "================================================\n",
      "epoch  363\n",
      "Cost=  83.14142761588577\n",
      "================================================\n",
      "epoch  364\n",
      "Cost=  83.13318576578806\n",
      "================================================\n",
      "epoch  365\n",
      "Cost=  83.12505084760843\n",
      "================================================\n",
      "epoch  366\n",
      "Cost=  83.11702146889212\n",
      "================================================\n",
      "epoch  367\n",
      "Cost=  83.10909625544683\n",
      "================================================\n",
      "epoch  368\n",
      "Cost=  83.10127385110049\n",
      "================================================\n",
      "epoch  369\n",
      "Cost=  83.09355291746095\n",
      "================================================\n",
      "epoch  370\n",
      "Cost=  83.08593213368025\n",
      "================================================\n",
      "epoch  371\n",
      "Cost=  83.07841019622148\n",
      "================================================\n",
      "epoch  372\n",
      "Cost=  83.07098581862867\n",
      "================================================\n",
      "epoch  373\n",
      "Cost=  83.06365773130044\n",
      "================================================\n",
      "epoch  374\n",
      "Cost=  83.05642468126597\n",
      "================================================\n",
      "epoch  375\n",
      "Cost=  83.04928543196456\n",
      "================================================\n",
      "epoch  376\n",
      "Cost=  83.04223876302801\n",
      "================================================\n",
      "epoch  377\n",
      "Cost=  83.03528347006595\n",
      "================================================\n",
      "epoch  378\n",
      "Cost=  83.028418364454\n",
      "================================================\n",
      "epoch  379\n",
      "Cost=  83.02164227312497\n",
      "================================================\n",
      "epoch  380\n",
      "Cost=  83.01495403836265\n",
      "================================================\n",
      "epoch  381\n",
      "Cost=  83.0083525175988\n",
      "================================================\n",
      "epoch  382\n",
      "Cost=  83.00183658321252\n",
      "================================================\n",
      "epoch  383\n",
      "Cost=  82.99540512233234\n",
      "================================================\n",
      "epoch  384\n",
      "Cost=  82.9890570366413\n",
      "================================================\n",
      "epoch  385\n",
      "Cost=  82.9827912421843\n",
      "================================================\n",
      "epoch  386\n",
      "Cost=  82.97660666917827\n",
      "================================================\n",
      "epoch  387\n",
      "Cost=  82.97050226182483\n",
      "================================================\n",
      "epoch  388\n",
      "Cost=  82.96447697812573\n",
      "================================================\n",
      "epoch  389\n",
      "Cost=  82.95852978969985\n",
      "================================================\n",
      "epoch  390\n",
      "Cost=  82.95265968160433\n",
      "================================================\n",
      "epoch  391\n",
      "Cost=  82.94686565215648\n",
      "================================================\n",
      "epoch  392\n",
      "Cost=  82.9411467127587\n",
      "================================================\n",
      "epoch  393\n",
      "Cost=  82.93550188772635\n",
      "================================================\n",
      "epoch  394\n",
      "Cost=  82.92993021411692\n",
      "================================================\n",
      "epoch  395\n",
      "Cost=  82.9244307415621\n",
      "================================================\n",
      "epoch  396\n",
      "Cost=  82.91900253210198\n",
      "================================================\n",
      "epoch  397\n",
      "Cost=  82.91364466002146\n",
      "================================================\n",
      "epoch  398\n",
      "Cost=  82.90835621168895\n",
      "================================================\n",
      "epoch  399\n",
      "Cost=  82.90313628539703\n",
      "================================================\n",
      "epoch  400\n",
      "Cost=  82.89798399120545\n",
      "================================================\n",
      "epoch  401\n",
      "Cost=  82.89289845078609\n",
      "================================================\n",
      "epoch  402\n",
      "Cost=  82.88787879727026\n",
      "================================================\n",
      "epoch  403\n",
      "Cost=  82.88292417509746\n",
      "================================================\n",
      "epoch  404\n",
      "Cost=  82.87803373986698\n",
      "================================================\n",
      "epoch  405\n",
      "Cost=  82.87320665819061\n",
      "================================================\n",
      "epoch  406\n",
      "Cost=  82.86844210754838\n",
      "================================================\n",
      "epoch  407\n",
      "Cost=  82.86373927614501\n",
      "================================================\n",
      "epoch  408\n",
      "Cost=  82.85909736276919\n",
      "================================================\n",
      "epoch  409\n",
      "Cost=  82.8545155766546\n",
      "================================================\n",
      "epoch  410\n",
      "Cost=  82.84999313734224\n",
      "================================================\n",
      "epoch  411\n",
      "Cost=  82.84552927454499\n",
      "================================================\n",
      "epoch  412\n",
      "Cost=  82.84112322801445\n",
      "================================================\n",
      "epoch  413\n",
      "Cost=  82.83677424740878\n",
      "================================================\n",
      "epoch  414\n",
      "Cost=  82.83248159216227\n",
      "================================================\n",
      "epoch  415\n",
      "Cost=  82.82824453135765\n",
      "================================================\n",
      "epoch  416\n",
      "Cost=  82.82406234359907\n",
      "================================================\n",
      "epoch  417\n",
      "Cost=  82.81993431688674\n",
      "================================================\n",
      "epoch  418\n",
      "Cost=  82.81585974849453\n",
      "================================================\n",
      "epoch  419\n",
      "Cost=  82.81183794484765\n",
      "================================================\n",
      "epoch  420\n",
      "Cost=  82.80786822140263\n",
      "================================================\n",
      "epoch  421\n",
      "Cost=  82.80394990252921\n",
      "================================================\n",
      "epoch  422\n",
      "Cost=  82.80008232139306\n",
      "================================================\n",
      "epoch  423\n",
      "Cost=  82.79626481984089\n",
      "================================================\n",
      "epoch  424\n",
      "Cost=  82.7924967482864\n",
      "================================================\n",
      "epoch  425\n",
      "Cost=  82.78877746559793\n",
      "================================================\n",
      "epoch  426\n",
      "Cost=  82.78510633898772\n",
      "================================================\n",
      "epoch  427\n",
      "Cost=  82.78148274390311\n",
      "================================================\n",
      "epoch  428\n",
      "Cost=  82.77790606391783\n",
      "================================================\n",
      "epoch  429\n",
      "Cost=  82.77437569062609\n",
      "================================================\n",
      "epoch  430\n",
      "Cost=  82.77089102353735\n",
      "================================================\n",
      "epoch  431\n",
      "Cost=  82.76745146997307\n",
      "================================================\n",
      "epoch  432\n",
      "Cost=  82.76405644496396\n",
      "================================================\n",
      "epoch  433\n",
      "Cost=  82.7607053711493\n",
      "================================================\n",
      "epoch  434\n",
      "Cost=  82.75739767867744\n",
      "================================================\n",
      "epoch  435\n",
      "Cost=  82.75413280510735\n",
      "================================================\n",
      "epoch  436\n",
      "Cost=  82.75091019531196\n",
      "================================================\n",
      "epoch  437\n",
      "Cost=  82.7477293013823\n",
      "================================================\n",
      "epoch  438\n",
      "Cost=  82.74458958253312\n",
      "================================================\n",
      "epoch  439\n",
      "Cost=  82.74149050500972\n",
      "================================================\n",
      "epoch  440\n",
      "Cost=  82.73843154199623\n",
      "================================================\n",
      "epoch  441\n",
      "Cost=  82.7354121735245\n",
      "================================================\n",
      "epoch  442\n",
      "Cost=  82.73243188638513\n",
      "================================================\n",
      "epoch  443\n",
      "Cost=  82.72949017403876\n",
      "================================================\n",
      "epoch  444\n",
      "Cost=  82.72658653652884\n",
      "================================================\n",
      "epoch  445\n",
      "Cost=  82.7237204803962\n",
      "================================================\n",
      "epoch  446\n",
      "Cost=  82.72089151859346\n",
      "================================================\n",
      "epoch  447\n",
      "Cost=  82.7180991704017\n",
      "================================================\n",
      "epoch  448\n",
      "Cost=  82.71534296134782\n",
      "================================================\n",
      "epoch  449\n",
      "Cost=  82.71262242312272\n",
      "================================================\n",
      "epoch  450\n",
      "Cost=  82.70993709350104\n",
      "================================================\n",
      "epoch  451\n",
      "Cost=  82.70728651626186\n",
      "================================================\n",
      "epoch  452\n",
      "Cost=  82.7046702411101\n",
      "================================================\n",
      "epoch  453\n",
      "Cost=  82.70208782359883\n",
      "================================================\n",
      "epoch  454\n",
      "Cost=  82.69953882505395\n",
      "================================================\n",
      "epoch  455\n",
      "Cost=  82.69702281249799\n",
      "================================================\n",
      "epoch  456\n",
      "Cost=  82.69453935857614\n",
      "================================================\n",
      "epoch  457\n",
      "Cost=  82.69208804148285\n",
      "================================================\n",
      "epoch  458\n",
      "Cost=  82.68966844488921\n",
      "================================================\n",
      "epoch  459\n",
      "Cost=  82.68728015787218\n",
      "================================================\n",
      "epoch  460\n",
      "Cost=  82.68492277484333\n",
      "================================================\n",
      "epoch  461\n",
      "Cost=  82.68259589547976\n",
      "================================================\n",
      "epoch  462\n",
      "Cost=  82.68029912465543\n",
      "================================================\n",
      "epoch  463\n",
      "Cost=  82.6780320723729\n",
      "================================================\n",
      "epoch  464\n",
      "Cost=  82.67579435369758\n",
      "================================================\n",
      "epoch  465\n",
      "Cost=  82.67358558869019\n",
      "================================================\n",
      "epoch  466\n",
      "Cost=  82.67140540234324\n",
      "================================================\n",
      "epoch  467\n",
      "Cost=  82.66925342451562\n",
      "================================================\n",
      "epoch  468\n",
      "Cost=  82.66712928986986\n",
      "================================================\n",
      "epoch  469\n",
      "Cost=  82.6650326378092\n",
      "================================================\n",
      "epoch  470\n",
      "Cost=  82.66296311241592\n",
      "================================================\n",
      "epoch  471\n",
      "Cost=  82.6609203623905\n",
      "================================================\n",
      "epoch  472\n",
      "Cost=  82.65890404099125\n",
      "================================================\n",
      "epoch  473\n",
      "Cost=  82.65691380597539\n",
      "================================================\n",
      "epoch  474\n",
      "Cost=  82.65494931953995\n",
      "================================================\n",
      "epoch  475\n",
      "Cost=  82.65301024826424\n",
      "================================================\n",
      "epoch  476\n",
      "Cost=  82.65109626305285\n",
      "================================================\n",
      "epoch  477\n",
      "Cost=  82.64920703907895\n",
      "================================================\n",
      "epoch  478\n",
      "Cost=  82.64734225572941\n",
      "================================================\n",
      "epoch  479\n",
      "Cost=  82.64550159654937\n",
      "================================================\n",
      "epoch  480\n",
      "Cost=  82.64368474918814\n",
      "================================================\n",
      "epoch  481\n",
      "Cost=  82.64189140534644\n",
      "================================================\n",
      "epoch  482\n",
      "Cost=  82.6401212607229\n",
      "================================================\n",
      "epoch  483\n",
      "Cost=  82.63837401496237\n",
      "================================================\n",
      "epoch  484\n",
      "Cost=  82.63664937160465\n",
      "================================================\n",
      "epoch  485\n",
      "Cost=  82.63494703803363\n",
      "================================================\n",
      "epoch  486\n",
      "Cost=  82.63326672542757\n",
      "================================================\n",
      "epoch  487\n",
      "Cost=  82.6316081487095\n",
      "================================================\n",
      "epoch  488\n",
      "Cost=  82.62997102649875\n",
      "================================================\n",
      "epoch  489\n",
      "Cost=  82.62835508106234\n",
      "================================================\n",
      "epoch  490\n",
      "Cost=  82.62676003826832\n",
      "================================================\n",
      "epoch  491\n",
      "Cost=  82.62518562753844\n",
      "================================================\n",
      "epoch  492\n",
      "Cost=  82.62363158180196\n",
      "================================================\n",
      "epoch  493\n",
      "Cost=  82.62209763745031\n",
      "================================================\n",
      "epoch  494\n",
      "Cost=  82.6205835342919\n",
      "================================================\n",
      "epoch  495\n",
      "Cost=  82.61908901550785\n",
      "================================================\n",
      "epoch  496\n",
      "Cost=  82.61761382760771\n",
      "================================================\n",
      "epoch  497\n",
      "Cost=  82.61615772038694\n",
      "================================================\n",
      "epoch  498\n",
      "Cost=  82.61472044688345\n",
      "================================================\n",
      "epoch  499\n",
      "Cost=  82.61330176333608\n",
      "================================================\n",
      "epoch  500\n",
      "Cost=  82.61190142914259\n",
      "================================================\n",
      "epoch  501\n",
      "Cost=  82.61051920681884\n",
      "================================================\n",
      "epoch  502\n",
      "Cost=  82.60915486195817\n",
      "================================================\n",
      "epoch  503\n",
      "Cost=  82.60780816319156\n",
      "================================================\n",
      "epoch  504\n",
      "Cost=  82.60647888214785\n",
      "================================================\n",
      "epoch  505\n",
      "Cost=  82.60516679341524\n",
      "================================================\n",
      "epoch  506\n",
      "Cost=  82.60387167450257\n",
      "================================================\n",
      "epoch  507\n",
      "Cost=  82.60259330580124\n",
      "================================================\n",
      "epoch  508\n",
      "Cost=  82.60133147054826\n",
      "================================================\n",
      "epoch  509\n",
      "Cost=  82.60008595478881\n",
      "================================================\n",
      "epoch  510\n",
      "Cost=  82.59885654734012\n",
      "================================================\n",
      "epoch  511\n",
      "Cost=  82.59764303975524\n",
      "================================================\n",
      "epoch  512\n",
      "Cost=  82.59644522628761\n",
      "================================================\n",
      "epoch  513\n",
      "Cost=  82.59526290385601\n",
      "================================================\n",
      "epoch  514\n",
      "Cost=  82.59409587201006\n",
      "================================================\n",
      "epoch  515\n",
      "Cost=  82.59294393289565\n",
      "================================================\n",
      "epoch  516\n",
      "Cost=  82.59180689122195\n",
      "================================================\n",
      "epoch  517\n",
      "Cost=  82.59068455422731\n",
      "================================================\n",
      "epoch  518\n",
      "Cost=  82.5895767316472\n",
      "================================================\n",
      "epoch  519\n",
      "Cost=  82.58848323568115\n",
      "================================================\n",
      "epoch  520\n",
      "Cost=  82.58740388096133\n",
      "================================================\n",
      "epoch  521\n",
      "Cost=  82.58633848452044\n",
      "================================================\n",
      "epoch  522\n",
      "Cost=  82.58528686576108\n",
      "================================================\n",
      "epoch  523\n",
      "Cost=  82.58424884642461\n",
      "================================================\n",
      "epoch  524\n",
      "Cost=  82.58322425056112\n",
      "================================================\n",
      "epoch  525\n",
      "Cost=  82.58221290449907\n",
      "================================================\n",
      "epoch  526\n",
      "Cost=  82.58121463681607\n",
      "================================================\n",
      "epoch  527\n",
      "Cost=  82.58022927830957\n",
      "================================================\n",
      "epoch  528\n",
      "Cost=  82.57925666196817\n",
      "================================================\n",
      "epoch  529\n",
      "Cost=  82.57829662294284\n",
      "================================================\n",
      "epoch  530\n",
      "Cost=  82.57734899851951\n",
      "================================================\n",
      "epoch  531\n",
      "Cost=  82.57641362809076\n",
      "================================================\n",
      "epoch  532\n",
      "Cost=  82.57549035312859\n",
      "================================================\n",
      "epoch  533\n",
      "Cost=  82.57457901715804\n",
      "================================================\n",
      "epoch  534\n",
      "Cost=  82.57367946572973\n"
     ]
    },
    {
     "name": "stdout",
     "output_type": "stream",
     "text": [
      "================================================\n",
      "epoch  535\n",
      "Cost=  82.57279154639419\n",
      "================================================\n",
      "epoch  536\n",
      "Cost=  82.57191510867557\n",
      "================================================\n",
      "epoch  537\n",
      "Cost=  82.5710500040463\n",
      "================================================\n",
      "epoch  538\n",
      "Cost=  82.57019608590164\n",
      "================================================\n",
      "epoch  539\n",
      "Cost=  82.56935320953467\n",
      "================================================\n",
      "epoch  540\n",
      "Cost=  82.56852123211232\n",
      "================================================\n",
      "epoch  541\n",
      "Cost=  82.5677000126501\n",
      "================================================\n",
      "epoch  542\n",
      "Cost=  82.56688941198885\n",
      "================================================\n",
      "epoch  543\n",
      "Cost=  82.56608929277073\n",
      "================================================\n",
      "epoch  544\n",
      "Cost=  82.56529951941612\n",
      "================================================\n",
      "epoch  545\n",
      "Cost=  82.56451995810033\n",
      "================================================\n",
      "epoch  546\n",
      "Cost=  82.56375047673099\n",
      "================================================\n",
      "epoch  547\n",
      "Cost=  82.56299094492549\n",
      "================================================\n",
      "epoch  548\n",
      "Cost=  82.56224123398893\n",
      "================================================\n",
      "epoch  549\n",
      "Cost=  82.56150121689221\n",
      "================================================\n",
      "epoch  550\n",
      "Cost=  82.56077076825042\n",
      "================================================\n",
      "epoch  551\n",
      "Cost=  82.56004976430145\n",
      "================================================\n",
      "epoch  552\n",
      "Cost=  82.55933808288515\n",
      "================================================\n",
      "epoch  553\n",
      "Cost=  82.55863560342249\n",
      "================================================\n",
      "epoch  554\n",
      "Cost=  82.55794220689482\n",
      "================================================\n",
      "epoch  555\n",
      "Cost=  82.55725777582417\n",
      "================================================\n",
      "epoch  556\n",
      "Cost=  82.55658219425273\n",
      "================================================\n",
      "epoch  557\n",
      "Cost=  82.55591534772356\n",
      "================================================\n",
      "epoch  558\n",
      "Cost=  82.55525712326087\n",
      "================================================\n",
      "epoch  559\n",
      "Cost=  82.55460740935104\n",
      "================================================\n",
      "epoch  560\n",
      "Cost=  82.55396609592351\n",
      "================================================\n",
      "epoch  561\n",
      "Cost=  82.55333307433223\n",
      "================================================\n",
      "epoch  562\n",
      "Cost=  82.55270823733707\n",
      "================================================\n",
      "epoch  563\n",
      "Cost=  82.55209147908568\n",
      "================================================\n",
      "epoch  564\n",
      "Cost=  82.55148269509539\n",
      "================================================\n",
      "epoch  565\n",
      "Cost=  82.55088178223576\n",
      "================================================\n",
      "epoch  566\n",
      "Cost=  82.55028863871073\n",
      "================================================\n",
      "epoch  567\n",
      "Cost=  82.54970316404142\n",
      "================================================\n",
      "epoch  568\n",
      "Cost=  82.54912525904939\n",
      "================================================\n",
      "epoch  569\n",
      "Cost=  82.5485548258391\n",
      "================================================\n",
      "epoch  570\n",
      "Cost=  82.54799176778211\n",
      "================================================\n",
      "epoch  571\n",
      "Cost=  82.5474359895001\n",
      "================================================\n",
      "epoch  572\n",
      "Cost=  82.54688739684893\n",
      "================================================\n",
      "epoch  573\n",
      "Cost=  82.54634589690234\n",
      "================================================\n",
      "epoch  574\n",
      "Cost=  82.54581139793676\n",
      "================================================\n",
      "epoch  575\n",
      "Cost=  82.5452838094152\n",
      "================================================\n",
      "epoch  576\n",
      "Cost=  82.54476304197199\n",
      "================================================\n",
      "epoch  577\n",
      "Cost=  82.54424900739791\n",
      "================================================\n",
      "epoch  578\n",
      "Cost=  82.54374161862474\n",
      "================================================\n",
      "epoch  579\n",
      "Cost=  82.54324078971099\n",
      "================================================\n",
      "epoch  580\n",
      "Cost=  82.54274643582681\n",
      "================================================\n",
      "epoch  581\n",
      "Cost=  82.54225847324008\n",
      "================================================\n",
      "epoch  582\n",
      "Cost=  82.54177681930177\n",
      "================================================\n",
      "epoch  583\n",
      "Cost=  82.54130139243222\n",
      "================================================\n",
      "epoch  584\n",
      "Cost=  82.54083211210695\n",
      "================================================\n",
      "epoch  585\n",
      "Cost=  82.54036889884357\n",
      "================================================\n",
      "epoch  586\n",
      "Cost=  82.5399116741877\n",
      "================================================\n",
      "epoch  587\n",
      "Cost=  82.53946036069989\n",
      "================================================\n",
      "epoch  588\n",
      "Cost=  82.53901488194259\n",
      "================================================\n",
      "epoch  589\n",
      "Cost=  82.53857516246707\n",
      "================================================\n",
      "epoch  590\n",
      "Cost=  82.53814112780063\n",
      "================================================\n",
      "epoch  591\n",
      "Cost=  82.53771270443369\n",
      "================================================\n",
      "epoch  592\n",
      "Cost=  82.53728981980804\n",
      "================================================\n",
      "epoch  593\n",
      "Cost=  82.53687240230371\n"
     ]
    }
   ],
   "source": [
    "y_hat , t_0 ,t_1 , loss_list,t0List,t1List=stochastic_GD(x_new,y_new,0.001,1000)"
   ]
  },
  {
   "cell_type": "code",
   "execution_count": 58,
   "metadata": {},
   "outputs": [
    {
     "data": {
      "text/plain": [
       "Text(0, 0.5, 'loss')"
      ]
     },
     "execution_count": 58,
     "metadata": {},
     "output_type": "execute_result"
    },
    {
     "data": {
      "image/png": "[encoded data removed]",
      "text/plain": [
       "<Figure size 432x288 with 1 Axes>"
      ]
     },
     "metadata": {
      "needs_background": "light"
     },
     "output_type": "display_data"
    }
   ],
   "source": [
    "#plot loss vs iterations\n",
    "plt.plot(loss_list)\n",
    "plt.xlabel(\"iterations\")\n",
    "plt.ylabel(\"loss\")"
   ]
  },
  {
   "cell_type": "code",
   "execution_count": 59,
   "metadata": {},
   "outputs": [
    {
     "data": {
      "text/plain": [
       "Text(0, 0.5, 'loss')"
      ]
     },
     "execution_count": 59,
     "metadata": {},
     "output_type": "execute_result"
    },
    {
     "data": {
      "image/png": "[encoded data removed]",
      "text/plain": [
       "<Figure size 432x288 with 1 Axes>"
      ]
     },
     "metadata": {
      "needs_background": "light"
     },
     "output_type": "display_data"
    }
   ],
   "source": [
    "plt.plot(t0List,loss_list)\n",
    "plt.xlabel(\"theta 0\")\n",
    "plt.ylabel(\"loss\")"
   ]
  },
  {
   "cell_type": "code",
   "execution_count": 60,
   "metadata": {},
   "outputs": [
    {
     "data": {
      "text/plain": [
       "Text(0, 0.5, 'loss')"
      ]
     },
     "execution_count": 60,
     "metadata": {},
     "output_type": "execute_result"
    },
    {
     "data": {
      "image/png": "[encoded data removed]",
      "text/plain": [
       "<Figure size 432x288 with 1 Axes>"
      ]
     },
     "metadata": {
      "needs_background": "light"
     },
     "output_type": "display_data"
    }
   ],
   "source": [
    "plt.plot(t1List,loss_list)\n",
    "plt.xlabel(\"theta 1\")\n",
    "plt.ylabel(\"loss\")"
   ]
  },
  {
   "cell_type": "code",
   "execution_count": 61,
   "metadata": {},
   "outputs": [
    {
     "data": {
      "image/png": "[encoded data removed]",
      "text/plain": [
       "<Figure size 432x288 with 1 Axes>"
      ]
     },
     "metadata": {
      "needs_background": "light"
     },
     "output_type": "display_data"
    }
   ],
   "source": [
    "plt.plot(x_new,y_new,'o')\n",
    "plt.ylabel(\"y\")\n",
    "plt.xlabel(\"x\")\n",
    "\n",
    "for i in range(len(Y_predict)):\n",
    "    plt.plot(x_new,t0List[i*(len(x_new))]+t1List[i*(len(x_new))]*x_new)\n",
    "    \n",
    "    \n",
    "plt.show()"
   ]
  },
  {
   "cell_type": "code",
   "execution_count": 62,
   "metadata": {},
   "outputs": [
    {
     "data": {
      "text/plain": [
       "Text(0, 0.5, 'y')"
      ]
     },
     "execution_count": 62,
     "metadata": {},
     "output_type": "execute_result"
    },
    {
     "data": {
      "image/png": "[encoded data removed]",
      "text/plain": [
       "<Figure size 432x288 with 1 Axes>"
      ]
     },
     "metadata": {
      "needs_background": "light"
     },
     "output_type": "display_data"
    }
   ],
   "source": [
    "plt.plot(x_new,y_new,\"o\")\n",
    "plt.plot(x_new,t_0+t_1*x_new)\n",
    "plt.xlabel(\"x\")\n",
    "plt.ylabel(\"y\")"
   ]
  },
  {
   "cell_type": "code",
   "execution_count": 63,
   "metadata": {},
   "outputs": [
    {
     "data": {
      "text/plain": [
       "-0.08801875022502137"
      ]
     },
     "execution_count": 63,
     "metadata": {},
     "output_type": "execute_result"
    }
   ],
   "source": [
    "r2_score(y_new,t_0+t_1*x_new)"
   ]
  }
 ],
 "metadata": {
  "kernelspec": {
   "display_name": "Python 3 (ipykernel)",
   "language": "python",
   "name": "python3"
  },
  "language_info": {
   "codemirror_mode": {
    "name": "ipython",
    "version": 3
   },
   "file_extension": ".py",
   "mimetype": "text/x-python",
   "name": "python",
   "nbconvert_exporter": "python",
   "pygments_lexer": "ipython3",
   "version": "3.9.7"
  }
 },
 "nbformat": 4,
 "nbformat_minor": 4
}
