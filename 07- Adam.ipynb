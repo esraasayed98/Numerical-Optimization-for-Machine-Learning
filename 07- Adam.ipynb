{
 "cells": [
  {
   "cell_type": "code",
   "execution_count": 1,
   "id": "b7667490",
   "metadata": {},
   "outputs": [],
   "source": [
    "import numpy as np\n",
    "import matplotlib.pyplot as plt\n",
    "from sklearn.metrics import r2_score\n",
    "\n",
    "%matplotlib inline"
   ]
  },
  {
   "cell_type": "markdown",
   "id": "c1bce287",
   "metadata": {},
   "source": [
    "# 1. Single Variable"
   ]
  },
  {
   "cell_type": "markdown",
   "id": "9eaf5811",
   "metadata": {},
   "source": [
    "## Data "
   ]
  },
  {
   "cell_type": "code",
   "execution_count": 2,
   "id": "c7091db0",
   "metadata": {},
   "outputs": [
    {
     "data": {
      "text/plain": [
       "Text(0, 0.5, 'y')"
      ]
     },
     "execution_count": 2,
     "metadata": {},
     "output_type": "execute_result"
    },
    {
     "data": {
      "image/png": "[encoded data removed]",
      "text/plain": [
       "<Figure size 432x288 with 1 Axes>"
      ]
     },
     "metadata": {
      "needs_background": "light"
     },
     "output_type": "display_data"
    }
   ],
   "source": [
    "X=np.linspace(0,20)\n",
    "Y=-X+2\n",
    "#plot\n",
    "plt.plot(X,Y,\"o\")\n",
    "plt.xlabel(\"x\")\n",
    "plt.ylabel(\"y\")"
   ]
  },
  {
   "cell_type": "markdown",
   "id": "8179e3da",
   "metadata": {},
   "source": [
    "## Batch"
   ]
  },
  {
   "cell_type": "code",
   "execution_count": 3,
   "id": "83279ef5",
   "metadata": {},
   "outputs": [],
   "source": [
    "def Adam_Batch_GD(x,y,beta1=0.1, beta2=0.1,alpha=0.001,epsilon=0.001, iterations_no=100):\n",
    "    losses=[]\n",
    "    ths_0=[]\n",
    "    ths_1=[]\n",
    "    Y_predict_list=[]\n",
    "   \n",
    "    #1. intialize parameters\n",
    "    theta_0=0\n",
    "    theta_1=0\n",
    "    v_0=0\n",
    "    v_1=0\n",
    "    m_0=0\n",
    "    m_1=0\n",
    "    \n",
    "    for e in range(iterations_no):\n",
    "        print('======================================================================')\n",
    "        print('epoch ', e)\n",
    "        \n",
    "        ths_0.append(theta_0)\n",
    "        ths_1.append(theta_1)\n",
    "        #2. get predicted output\n",
    "\n",
    "        y_hat=theta_0+theta_1*x\n",
    "        Y_predict_list.append(y_hat)\n",
    "\n",
    "        #3. cost function\n",
    "        error=(y_hat-y)\n",
    "        \n",
    "        J=(np.dot(error,error))/(2*len(x))\n",
    "        \n",
    "        losses.append(J)  \n",
    "        print('cost= ', J)\n",
    "        #4. gradient\n",
    "\n",
    "        th0_gd =((y_hat - y).sum())/(len(x))\n",
    "        th1_gd = (np.dot((y_hat - y),x))/(len(x))\n",
    "\n",
    "        #5. Update the parameters (simultaneously).\n",
    "        \n",
    "        \n",
    "        m_0= beta1 * m_0 + (1-beta1)*(th0_gd)\n",
    "        m_1 = beta1 * m_1 + (1- beta1)*(th1_gd)\n",
    "        \n",
    "        v_0 =  beta2 * v_0 + (1- beta2) *((th0_gd)**2)\n",
    "        v_1 =  beta2 * v_1 + (1- beta2) *((th1_gd)**2)\n",
    "        \n",
    "        theta_0 = theta_0 - ((alpha)/(np.sqrt(v_0) +epsilon )) * m_0\n",
    "        theta_1 = theta_1 - ((alpha)/(np.sqrt(v_1) +epsilon )) * m_1\n",
    "        \n",
    "        print('theta 0 = ', theta_0)\n",
    "        print('theta 1 = ' , theta_1)\n",
    "        \n",
    "        # stop condition\n",
    "        if (e !=0):\n",
    "            if (abs(losses[e-1] - losses[e])<0.001):\n",
    "                break\n",
    "            \n",
    "    \n",
    "    \n",
    "    return y_hat,theta_0 , theta_1, ths_0, ths_1, losses, Y_predict_list"
   ]
  },
  {
   "cell_type": "code",
   "execution_count": 4,
   "id": "7bdc80e9",
   "metadata": {},
   "outputs": [
    {
     "name": "stdout",
     "output_type": "stream",
     "text": [
      "======================================================================\n",
      "epoch  0\n",
      "cost=  49.34693877551021\n",
      "theta 0 =  -0.06324542820361466\n",
      "theta 1 =  -0.06324554448450757\n",
      "======================================================================\n",
      "epoch  1\n",
      "cost=  41.89848620347874\n",
      "theta 0 =  -0.1431661314970324\n",
      "theta 1 =  -0.14317950478827118\n",
      "======================================================================\n",
      "epoch  2\n",
      "cost=  33.3756671653334\n",
      "theta 0 =  -0.23136643924693212\n",
      "theta 1 =  -0.2314407796007243\n",
      "======================================================================\n",
      "epoch  3\n",
      "cost=  25.12083595807453\n",
      "theta 0 =  -0.32374522468785033\n",
      "theta 1 =  -0.3239962179956417\n",
      "======================================================================\n",
      "epoch  4\n",
      "cost=  17.76756938950949\n",
      "theta 0 =  -0.41779417158080123\n",
      "theta 1 =  -0.4184684414263524\n",
      "======================================================================\n",
      "epoch  5\n",
      "cost=  11.637945483385053\n",
      "theta 0 =  -0.5115378890311063\n",
      "theta 1 =  -0.5131490948391066\n",
      "======================================================================\n",
      "epoch  6\n",
      "cost=  6.889293944439982\n",
      "theta 0 =  -0.6027368606605513\n",
      "theta 1 =  -0.6063892419005739\n",
      "======================================================================\n",
      "epoch  7\n",
      "cost=  3.5764900564290527\n",
      "theta 0 =  -0.6877187803089118\n",
      "theta 1 =  -0.6959271897067282\n",
      "======================================================================\n",
      "epoch  8\n",
      "cost=  1.6662105024745757\n",
      "theta 0 =  -0.7590285721188514\n",
      "theta 1 =  -0.7777403891424217\n",
      "======================================================================\n",
      "epoch  9\n",
      "cost=  1.000807127150582\n",
      "theta 0 =  -0.8022878752352426\n",
      "theta 1 =  -0.8440984332784686\n",
      "======================================================================\n",
      "epoch  10\n",
      "cost=  1.1944854167254122\n",
      "theta 0 =  -0.8025051781550021\n",
      "theta 1 =  -0.8830010546266085\n",
      "======================================================================\n",
      "epoch  11\n",
      "cost=  1.5700117592351956\n",
      "theta 0 =  -0.7634599058861704\n",
      "theta 1 =  -0.88663223989236\n",
      "======================================================================\n",
      "epoch  12\n",
      "cost=  1.5510423576181742\n",
      "theta 0 =  -0.7003644393538183\n",
      "theta 1 =  -0.8609510085077745\n",
      "======================================================================\n",
      "epoch  13\n",
      "cost=  1.1932821395662696\n",
      "theta 0 =  -0.6249678767975786\n",
      "theta 1 =  -0.8196539096788511\n",
      "======================================================================\n",
      "epoch  14\n",
      "cost=  0.9016410466825409\n",
      "theta 0 =  -0.5460405187789681\n",
      "theta 1 =  -0.7809524777430232\n",
      "======================================================================\n",
      "epoch  15\n",
      "cost=  0.8955509818909566\n",
      "theta 0 =  -0.47251011305764634\n",
      "theta 1 =  -0.7698424413530539\n",
      "======================================================================\n",
      "epoch  16\n",
      "cost=  0.9335200517404548\n",
      "theta 0 =  -0.4075366044769231\n",
      "theta 1 =  -0.7932294047601212\n",
      "======================================================================\n",
      "epoch  17\n",
      "cost=  0.7993948278311441\n",
      "theta 0 =  -0.33927515624638194\n",
      "theta 1 =  -0.832601566860844\n",
      "======================================================================\n",
      "epoch  18\n",
      "cost=  0.7074059429573477\n",
      "theta 0 =  -0.25821839942986174\n",
      "theta 1 =  -0.8564897897227802\n",
      "======================================================================\n",
      "epoch  19\n",
      "cost=  0.6960235533145722\n",
      "theta 0 =  -0.16910170071985905\n",
      "theta 1 =  -0.844412849014776\n",
      "======================================================================\n",
      "epoch  20\n",
      "cost=  0.6079492522497285\n",
      "theta 0 =  -0.07639982744481685\n",
      "theta 1 =  -0.8268771715848013\n",
      "======================================================================\n",
      "epoch  21\n",
      "cost=  0.5794857106333846\n",
      "theta 0 =  0.014062265386040676\n",
      "theta 1 =  -0.8471608131862176\n",
      "======================================================================\n",
      "epoch  22\n",
      "cost=  0.5098954257200771\n",
      "theta 0 =  0.10728867067607765\n",
      "theta 1 =  -0.8741683346214424\n",
      "======================================================================\n",
      "epoch  23\n",
      "cost=  0.4758929309542752\n",
      "theta 0 =  0.20314062376820335\n",
      "theta 1 =  -0.8576019938389198\n",
      "======================================================================\n",
      "epoch  24\n",
      "cost=  0.4212667025514864\n",
      "theta 0 =  0.298361200429204\n",
      "theta 1 =  -0.8706447882536527\n",
      "======================================================================\n",
      "epoch  25\n",
      "cost=  0.37352972077200824\n",
      "theta 0 =  0.3947720638644704\n",
      "theta 1 =  -0.8912247227267539\n",
      "======================================================================\n",
      "epoch  26\n",
      "cost=  0.33914030918565574\n",
      "theta 0 =  0.4925834351949807\n",
      "theta 1 =  -0.8661745593633841\n",
      "======================================================================\n",
      "epoch  27\n",
      "cost=  0.32497855623704586\n",
      "theta 0 =  0.5827026560304042\n",
      "theta 1 =  -0.9098906330860417\n",
      "======================================================================\n",
      "epoch  28\n",
      "cost=  0.27408502113337624\n",
      "theta 0 =  0.6765640129124015\n",
      "theta 1 =  -0.8986435085576017\n",
      "======================================================================\n",
      "epoch  29\n",
      "cost=  0.22621754295697255\n",
      "theta 0 =  0.7710004213231977\n",
      "theta 1 =  -0.9000398164440134\n",
      "======================================================================\n",
      "epoch  30\n",
      "cost=  0.19964293884631792\n",
      "theta 0 =  0.8641311053527952\n",
      "theta 1 =  -0.9324464655742729\n",
      "======================================================================\n",
      "epoch  31\n",
      "cost=  0.18511589720315208\n",
      "theta 0 =  0.9594321467759037\n",
      "theta 1 =  -0.8990594101739035\n",
      "======================================================================\n",
      "epoch  32\n",
      "cost=  0.17723353929558694\n",
      "theta 0 =  1.0371855157352663\n",
      "theta 1 =  -0.9358251169271037\n",
      "======================================================================\n",
      "epoch  33\n",
      "cost=  0.12298348050766407\n",
      "theta 0 =  1.1240857981312127\n",
      "theta 1 =  -0.9433362247217258\n",
      "======================================================================\n",
      "epoch  34\n",
      "cost=  0.10352322454022321\n",
      "theta 0 =  1.2162021581558937\n",
      "theta 1 =  -0.9223206263822805\n",
      "======================================================================\n",
      "epoch  35\n",
      "cost=  0.1046974332949348\n",
      "theta 0 =  1.2887067372355776\n",
      "theta 1 =  -0.9615550021082048\n",
      "======================================================================\n",
      "epoch  36\n",
      "cost=  0.07905235147461127\n",
      "theta 0 =  1.3732850344980763\n",
      "theta 1 =  -0.9482221673584353\n",
      "======================================================================\n",
      "epoch  37\n",
      "cost=  0.05243976628197615\n",
      "theta 0 =  1.4549408566386555\n",
      "theta 1 =  -0.9554136804089606\n",
      "======================================================================\n",
      "epoch  38\n",
      "cost=  0.039404589637655196\n",
      "theta 0 =  1.5358002449345558\n",
      "theta 1 =  -0.9775265042739557\n",
      "======================================================================\n",
      "epoch  39\n",
      "cost=  0.03743290507402262\n",
      "theta 0 =  1.6247922439814557\n",
      "theta 1 =  -0.945073332176898\n",
      "======================================================================\n",
      "epoch  40\n",
      "cost=  0.0674829075157206\n",
      "theta 0 =  1.6462621765268266\n",
      "theta 1 =  -0.9909470541773898\n",
      "======================================================================\n",
      "epoch  41\n",
      "cost=  0.03606100449979437\n",
      "theta 0 =  1.7042069796152592\n",
      "theta 1 =  -0.9819820141559306\n",
      "======================================================================\n",
      "epoch  42\n",
      "cost=  0.012314847358279203\n",
      "theta 0 =  1.7700473160765402\n",
      "theta 1 =  -0.9642028838389821\n",
      "======================================================================\n",
      "epoch  43\n",
      "cost=  0.030423314225400216\n",
      "theta 0 =  1.784099126152093\n",
      "theta 1 =  -1.0007718262631564\n",
      "======================================================================\n",
      "epoch  44\n",
      "cost=  0.02501309294508418\n",
      "theta 0 =  1.8380691780043847\n",
      "theta 1 =  -0.9816734344468648\n",
      "======================================================================\n",
      "epoch  45\n",
      "cost=  0.006053782545230601\n",
      "theta 0 =  1.8739845051753623\n",
      "theta 1 =  -0.9863997083266407\n",
      "======================================================================\n",
      "epoch  46\n",
      "cost=  0.0032585017177933252\n",
      "theta 0 =  1.898312050118317\n",
      "theta 1 =  -1.005802477819536\n",
      "======================================================================\n",
      "epoch  47\n",
      "cost=  0.013338127479788938\n",
      "theta 0 =  1.9581152756425328\n",
      "theta 1 =  -0.971208149556716\n",
      "======================================================================\n",
      "epoch  48\n",
      "cost=  0.044646413615132795\n",
      "theta 0 =  1.9314823748814676\n",
      "theta 1 =  -1.0131145692645105\n",
      "======================================================================\n",
      "epoch  49\n",
      "cost=  0.022916253657632373\n",
      "theta 0 =  1.9574079683643046\n",
      "theta 1 =  -0.9990893443223878\n",
      "======================================================================\n",
      "epoch  50\n",
      "cost=  0.0005750242214221522\n",
      "theta 0 =  1.9861845053210532\n",
      "theta 1 =  -0.9820159379771648\n",
      "======================================================================\n",
      "epoch  51\n",
      "cost=  0.019392630622460202\n",
      "theta 0 =  1.9604377074530999\n",
      "theta 1 =  -1.0163579849264264\n",
      "======================================================================\n",
      "epoch  52\n",
      "cost=  0.025275122445430113\n",
      "theta 0 =  1.992668339335879\n",
      "theta 1 =  -0.9898544214662741\n",
      "======================================================================\n",
      "epoch  53\n",
      "cost=  0.006215243774097267\n",
      "theta 0 =  1.9903636645527298\n",
      "theta 1 =  -0.9975504242110403\n",
      "======================================================================\n",
      "epoch  54\n",
      "cost=  0.00021449016284300047\n",
      "theta 0 =  1.983464874263339\n",
      "theta 1 =  -1.009600925696957\n",
      "======================================================================\n",
      "epoch  55\n",
      "cost=  0.007932121245541048\n",
      "theta 0 =  2.018524715738926\n",
      "theta 1 =  -0.9780734827398172\n",
      "======================================================================\n",
      "epoch  56\n",
      "cost=  0.03661194070849158\n",
      "theta 0 =  1.9778851735449892\n",
      "theta 1 =  -1.0203163042298893\n",
      "======================================================================\n",
      "epoch  57\n",
      "cost=  0.03253504652264451\n",
      "theta 0 =  2.002068163821631\n",
      "theta 1 =  -0.99708811524022\n",
      "======================================================================\n",
      "epoch  58\n",
      "cost=  0.0006334007983134429\n",
      "theta 0 =  2.0125165290045626\n",
      "theta 1 =  -0.9874311820393962\n",
      "======================================================================\n",
      "epoch  59\n",
      "cost=  0.01229065660204559\n",
      "theta 0 =  1.9815734362573278\n",
      "theta 1 =  -1.0188824241326244\n",
      "======================================================================\n",
      "epoch  60\n",
      "cost=  0.027661428712197143\n",
      "theta 0 =  2.0134873142845096\n"
     ]
    },
    {
     "name": "stdout",
     "output_type": "stream",
     "text": [
      "theta 1 =  -0.9872029030767255\n",
      "======================================================================\n",
      "epoch  61\n",
      "cost=  0.012846056379949004\n",
      "theta 0 =  1.9990916973234418\n",
      "theta 1 =  -1.001709431088333\n",
      "======================================================================\n",
      "epoch  62\n",
      "cost=  0.0002127374852258901\n",
      "theta 0 =  1.9937116373775208\n",
      "theta 1 =  -1.007112019382229\n",
      "======================================================================\n",
      "epoch  63\n",
      "cost=  0.003873464687864531\n",
      "theta 0 =  2.0183828206138594\n",
      "theta 1 =  -0.9823915072804225\n",
      "======================================================================\n",
      "epoch  64\n",
      "cost=  0.02428742723391464\n",
      "theta 0 =  1.9770681191328405\n",
      "theta 1 =  -1.0236549718444914\n",
      "======================================================================\n",
      "epoch  65\n",
      "cost=  0.04337196323198228\n",
      "theta 0 =  2.0103493635181797\n",
      "theta 1 =  -0.9903133944628614\n",
      "======================================================================\n",
      "epoch  66\n",
      "cost=  0.007375241958675581\n",
      "theta 0 =  2.0086970075225326\n",
      "theta 1 =  -0.9918800841332811\n",
      "======================================================================\n",
      "epoch  67\n",
      "cost=  0.005184396646380593\n",
      "theta 0 =  1.9824067232969131\n",
      "theta 1 =  -1.0180788918796824\n",
      "======================================================================\n",
      "epoch  68\n",
      "cost=  0.025347531048899884\n",
      "theta 0 =  2.0163067124300045\n",
      "theta 1 =  -0.9841056362423989\n",
      "======================================================================\n",
      "epoch  69\n",
      "cost=  0.01973871359616863\n",
      "theta 0 =  1.9951847287478943\n",
      "theta 1 =  -1.0051614246126819\n",
      "======================================================================\n",
      "epoch  70\n",
      "cost=  0.0020542729388201733\n",
      "theta 0 =  1.9958775504672654\n",
      "theta 1 =  -1.0043922130565883\n",
      "======================================================================\n",
      "epoch  71\n",
      "cost=  0.0014887899242281971\n",
      "theta 0 =  2.0138146808184234\n",
      "theta 1 =  -0.9863750794102447\n"
     ]
    }
   ],
   "source": [
    "y_hat,theta_0 , theta_1, ths_0, ths_1, losses, Y_predict_list=Adam_Batch_GD(X,Y,beta1=0.6,beta2=0.6,alpha=0.1,epsilon=0.00001, iterations_no=100)\n"
   ]
  },
  {
   "cell_type": "code",
   "execution_count": 5,
   "id": "77fd2c07",
   "metadata": {},
   "outputs": [
    {
     "data": {
      "text/plain": [
       "0.9999141756396621"
      ]
     },
     "execution_count": 5,
     "metadata": {},
     "output_type": "execute_result"
    }
   ],
   "source": [
    "r2_score(Y, y_hat)"
   ]
  },
  {
   "cell_type": "code",
   "execution_count": 6,
   "id": "5e9043d9",
   "metadata": {},
   "outputs": [
    {
     "data": {
      "text/plain": [
       "Text(0, 0.5, 'loss')"
      ]
     },
     "execution_count": 6,
     "metadata": {},
     "output_type": "execute_result"
    },
    {
     "data": {
      "image/png": "[encoded data removed]",
      "text/plain": [
       "<Figure size 432x288 with 1 Axes>"
      ]
     },
     "metadata": {
      "needs_background": "light"
     },
     "output_type": "display_data"
    }
   ],
   "source": [
    "plt.plot(losses)\n",
    "plt.xlabel(\"iterations\")\n",
    "plt.ylabel(\"loss\")"
   ]
  },
  {
   "cell_type": "code",
   "execution_count": 7,
   "id": "0cc1e9ec",
   "metadata": {},
   "outputs": [
    {
     "data": {
      "text/plain": [
       "Text(0, 0.5, 'loss')"
      ]
     },
     "execution_count": 7,
     "metadata": {},
     "output_type": "execute_result"
    },
    {
     "data": {
      "image/png": "[encoded data removed]",
      "text/plain": [
       "<Figure size 432x288 with 1 Axes>"
      ]
     },
     "metadata": {
      "needs_background": "light"
     },
     "output_type": "display_data"
    }
   ],
   "source": [
    "plt.plot(ths_0,losses)\n",
    "plt.xlabel(\"theta 0\")\n",
    "plt.ylabel(\"loss\")"
   ]
  },
  {
   "cell_type": "code",
   "execution_count": 8,
   "id": "f5b618bc",
   "metadata": {},
   "outputs": [
    {
     "data": {
      "text/plain": [
       "Text(0, 0.5, 'loss')"
      ]
     },
     "execution_count": 8,
     "metadata": {},
     "output_type": "execute_result"
    },
    {
     "data": {
      "image/png": "[encoded data removed]",
      "text/plain": [
       "<Figure size 432x288 with 1 Axes>"
      ]
     },
     "metadata": {
      "needs_background": "light"
     },
     "output_type": "display_data"
    }
   ],
   "source": [
    "plt.plot(ths_1,losses)\n",
    "plt.xlabel(\"theta 1\")\n",
    "plt.ylabel(\"loss\")"
   ]
  },
  {
   "cell_type": "code",
   "execution_count": 9,
   "id": "3a91d662",
   "metadata": {},
   "outputs": [
    {
     "data": {
      "image/png": "[encoded data removed]",
      "text/plain": [
       "<Figure size 432x288 with 1 Axes>"
      ]
     },
     "metadata": {
      "needs_background": "light"
     },
     "output_type": "display_data"
    }
   ],
   "source": [
    "plt.plot(X,Y,'o')\n",
    "plt.ylabel(\"y\")\n",
    "plt.xlabel(\"x\")\n",
    "\n",
    "for i in range(len(Y_predict_list)):\n",
    "    plt.plot(X,Y_predict_list[i])\n",
    "    \n",
    "    \n",
    "plt.show()"
   ]
  },
  {
   "cell_type": "code",
   "execution_count": 10,
   "id": "e77ba62a",
   "metadata": {},
   "outputs": [
    {
     "data": {
      "text/plain": [
       "Text(0, 0.5, 'y')"
      ]
     },
     "execution_count": 10,
     "metadata": {},
     "output_type": "execute_result"
    },
    {
     "data": {
      "image/png": "[encoded data removed]",
      "text/plain": [
       "<Figure size 432x288 with 1 Axes>"
      ]
     },
     "metadata": {
      "needs_background": "light"
     },
     "output_type": "display_data"
    }
   ],
   "source": [
    "#fitted line\n",
    "plt.plot(X,Y,\"o\")\n",
    "plt.plot(X, y_hat)\n",
    "plt.xlabel(\"x\")\n",
    "plt.ylabel(\"y\")"
   ]
  },
  {
   "cell_type": "markdown",
   "id": "cb7a8853",
   "metadata": {},
   "source": [
    "## Batch with Bias correction"
   ]
  },
  {
   "cell_type": "code",
   "execution_count": 11,
   "id": "782c7ff6",
   "metadata": {},
   "outputs": [],
   "source": [
    "def Adam_BC_Batch_GD(x,y,beta1=0.1, beta2=0.1,alpha=0.001,epsilon=0.001, iterations_no=100):\n",
    "    losses=[]\n",
    "    ths_0=[]\n",
    "    ths_1=[]\n",
    "    Y_predict_list=[]\n",
    "   \n",
    "    #1. intialize parameters\n",
    "    theta_0=0\n",
    "    theta_1=0\n",
    "    v_0=0\n",
    "    v_1=0\n",
    "    m_0=0\n",
    "    m_1=0\n",
    "    \n",
    "    for e in range(iterations_no):\n",
    "        print('======================================================================')\n",
    "        print('epoch ', e)\n",
    "        \n",
    "        ths_0.append(theta_0)\n",
    "        ths_1.append(theta_1)\n",
    "        #2. get predicted output\n",
    "\n",
    "        y_hat=theta_0+theta_1*x\n",
    "        Y_predict_list.append(y_hat)\n",
    "\n",
    "        #3. cost function\n",
    "        error=(y_hat-y)\n",
    "        \n",
    "        J=(np.dot(error,error))/(2*len(x))\n",
    "        \n",
    "        losses.append(J)  \n",
    "        print('cost= ', J)\n",
    "        #4. gradient\n",
    "\n",
    "        th0_gd =((y_hat - y).sum())/(len(x))\n",
    "        th1_gd = (np.dot((y_hat - y),x))/(len(x))\n",
    "\n",
    "        #5. Update the parameters (simultaneously).\n",
    "        \n",
    "        \n",
    "        m_0= beta1 * m_0 + (1-beta1)*(th0_gd)\n",
    "        m_1 = beta1 * m_1 + (1- beta1)*(th1_gd)\n",
    "        \n",
    "        #bias correction \n",
    "        m_0_hat= m_0 /( 1- ((beta1)**(e+1))) # power e+1 to avoid getting 0 power that will lead to divide by zero error\n",
    "        m_1_hat= m_1/ ( 1- ((beta1)**(e+1)))\n",
    "        \n",
    "        v_0 =  beta2 * v_0 + (1- beta2) *((th0_gd)**2)\n",
    "        v_1 =  beta2 * v_1 + (1- beta2) *((th1_gd)**2)\n",
    "        \n",
    "        #bias correction\n",
    "        v_0_hat=  v_0 /( 1- ((beta2)**(e+1)))\n",
    "        v_1_hat=  v_0 /( 1- ((beta2)**(e+1)))\n",
    "        \n",
    "        #update with bias correction\n",
    "        \n",
    "        theta_0 = theta_0 - ((alpha)/(np.sqrt(v_0_hat) +epsilon )) * m_0_hat\n",
    "        theta_1 = theta_1 - ((alpha)/(np.sqrt(v_1_hat) +epsilon )) * m_1_hat\n",
    "        \n",
    "        print('theta 0 = ', theta_0)\n",
    "        print('theta 1 = ' , theta_1)\n",
    "        \n",
    "        # stop condition\n",
    "        if (e !=0):\n",
    "            if (abs(losses[e-1] - losses[e])<0.001):\n",
    "                break\n",
    "            \n",
    "    \n",
    "    \n",
    "    return y_hat,theta_0 , theta_1, ths_0, ths_1, losses, Y_predict_list"
   ]
  },
  {
   "cell_type": "code",
   "execution_count": 12,
   "id": "e746fe2d",
   "metadata": {},
   "outputs": [
    {
     "name": "stdout",
     "output_type": "stream",
     "text": [
      "======================================================================\n",
      "epoch  0\n",
      "cost=  49.34693877551021\n",
      "theta 0 =  -0.099999999875\n",
      "theta 1 =  -1.4336734675956633\n",
      "======================================================================\n",
      "epoch  1\n",
      "cost=  23.978261848056874\n",
      "theta 0 =  -0.1055331809158721\n",
      "theta 1 =  -1.606290235593015\n",
      "======================================================================\n",
      "epoch  2\n",
      "cost=  39.73819348448039\n",
      "theta 0 =  -0.06908996486216555\n",
      "theta 1 =  -1.2103237017128983\n",
      "======================================================================\n",
      "epoch  3\n",
      "cost=  9.471516438180451\n",
      "theta 0 =  -0.023017765955579618\n",
      "theta 1 =  -0.6941608254168697\n",
      "======================================================================\n",
      "epoch  4\n",
      "cost=  2.1585906718209675\n",
      "theta 0 =  0.011717541053323788\n",
      "theta 1 =  -0.34205923165377766\n",
      "======================================================================\n",
      "epoch  5\n",
      "cost=  18.04846330041218\n",
      "theta 0 =  0.02361750741978748\n",
      "theta 1 =  -0.3012259284569784\n",
      "======================================================================\n",
      "epoch  6\n",
      "cost=  21.027109141346646\n",
      "theta 0 =  0.016918776123158858\n",
      "theta 1 =  -0.5126692530921779\n",
      "======================================================================\n",
      "epoch  7\n",
      "cost=  8.29645016707187\n",
      "theta 0 =  0.0019428194214859088\n",
      "theta 1 =  -0.8412349822916123\n",
      "======================================================================\n",
      "epoch  8\n",
      "cost=  0.5214696322332738\n",
      "theta 0 =  -0.010062987224404994\n",
      "theta 1 =  -1.1372077850883453\n",
      "======================================================================\n",
      "epoch  9\n",
      "cost=  6.0460113824703425\n",
      "theta 0 =  -0.010277555871217566\n",
      "theta 1 =  -1.2783564498459308\n",
      "======================================================================\n",
      "epoch  10\n",
      "cost=  12.83454176369325\n",
      "theta 0 =  0.0034038892969306452\n",
      "theta 1 =  -1.2329196070607522\n",
      "======================================================================\n",
      "epoch  11\n",
      "cost=  10.29733719897117\n",
      "theta 0 =  0.027409238718698346\n",
      "theta 1 =  -1.049789037374874\n",
      "======================================================================\n",
      "epoch  12\n",
      "cost=  3.0946406826637243\n",
      "theta 0 =  0.05568126393317302\n",
      "theta 1 =  -0.8130737469516891\n",
      "======================================================================\n",
      "epoch  13\n",
      "cost=  0.6089434612203332\n",
      "theta 0 =  0.08143141374255866\n",
      "theta 1 =  -0.6151857564875307\n",
      "======================================================================\n",
      "epoch  14\n",
      "cost=  4.430397041739923\n",
      "theta 0 =  0.09922434309251796\n",
      "theta 1 =  -0.5280152307931572\n",
      "======================================================================\n",
      "epoch  15\n",
      "cost=  7.837954569891837\n",
      "theta 0 =  0.10734728147644156\n",
      "theta 1 =  -0.5732680743581984\n",
      "======================================================================\n",
      "epoch  16\n",
      "cost=  5.978400499580805\n",
      "theta 0 =  0.10809040102701864\n",
      "theta 1 =  -0.7204782479945746\n",
      "======================================================================\n",
      "epoch  17\n",
      "cost=  1.7633407300941906\n",
      "theta 0 =  0.10624919642408759\n",
      "theta 1 =  -0.9061502438831324\n",
      "======================================================================\n",
      "epoch  18\n",
      "cost=  0.6090423421304056\n",
      "theta 0 =  0.10726035879431359\n",
      "theta 1 =  -1.0569765588567432\n",
      "======================================================================\n",
      "epoch  19\n",
      "cost=  3.088279860886767\n",
      "theta 0 =  0.11509226670074596\n",
      "theta 1 =  -1.118088461834851\n",
      "======================================================================\n",
      "epoch  20\n",
      "cost=  4.941442434889391\n",
      "theta 0 =  0.13070485348823177\n",
      "theta 1 =  -1.0755527322603158\n",
      "======================================================================\n",
      "epoch  21\n",
      "cost=  3.5438665594138423\n",
      "theta 0 =  0.15213175592903602\n",
      "theta 1 =  -0.9562754491015297\n",
      "======================================================================\n",
      "epoch  22\n",
      "cost=  1.0280927585054485\n",
      "theta 0 =  0.17557455061873392\n",
      "theta 1 =  -0.8123778555528052\n",
      "======================================================================\n",
      "epoch  23\n",
      "cost=  0.6119895497765626\n",
      "theta 0 =  0.1967762940527246\n",
      "theta 1 =  -0.7014408623477503\n",
      "======================================================================\n",
      "epoch  24\n",
      "cost=  2.245260427155775\n",
      "theta 0 =  0.2126311181219515\n",
      "theta 1 =  -0.6647246232379604\n",
      "======================================================================\n",
      "epoch  25\n",
      "cost=  3.175176992163218\n",
      "theta 0 =  0.22245891385719224\n",
      "theta 1 =  -0.7109611817999109\n",
      "======================================================================\n",
      "epoch  26\n",
      "cost=  2.0684372408600598\n",
      "theta 0 =  0.22811763105447952\n",
      "theta 1 =  -0.8153513441142742\n",
      "======================================================================\n",
      "epoch  27\n",
      "cost=  0.5942289579301602\n",
      "theta 0 =  0.23305081440813413\n",
      "theta 1 =  -0.9317978745206267\n",
      "======================================================================\n",
      "epoch  28\n",
      "cost=  0.6692241122459905\n",
      "theta 0 =  0.2408087659860812\n",
      "theta 1 =  -1.0121406427448145\n",
      "======================================================================\n",
      "epoch  29\n",
      "cost=  1.7708806377670396\n",
      "theta 0 =  0.2535518040839804\n",
      "theta 1 =  -1.0265867668377386\n",
      "======================================================================\n",
      "epoch  30\n",
      "cost=  2.0369693595628804\n",
      "theta 0 =  0.2712450666049465\n",
      "theta 1 =  -0.9753523803158043\n",
      "======================================================================\n",
      "epoch  31\n",
      "cost=  1.109113481167339\n",
      "theta 0 =  0.2918854626786407\n",
      "theta 1 =  -0.8857442709950638\n",
      "======================================================================\n",
      "epoch  32\n",
      "cost=  0.38638088505016405\n",
      "theta 0 =  0.31244389752318213\n",
      "theta 1 =  -0.7988748902997855\n",
      "======================================================================\n",
      "epoch  33\n",
      "cost=  0.7540956183961889\n",
      "theta 0 =  0.33014496569047685\n",
      "theta 1 =  -0.7520123521689186\n",
      "======================================================================\n",
      "epoch  34\n",
      "cost=  1.3948672158969606\n",
      "theta 0 =  0.34366583964750397\n",
      "theta 1 =  -0.7626925448995521\n",
      "======================================================================\n",
      "epoch  35\n",
      "cost=  1.233748271537069\n",
      "theta 0 =  0.35365646043486215\n",
      "theta 1 =  -0.8221187013275439\n",
      "======================================================================\n",
      "epoch  36\n",
      "cost=  0.5576616885375983\n",
      "theta 0 =  0.3623205881860992\n",
      "theta 1 =  -0.9007050605990538\n",
      "======================================================================\n",
      "epoch  37\n",
      "cost=  0.37887028041970766\n",
      "theta 0 =  0.3723324461828766\n",
      "theta 1 =  -0.9622986558837927\n",
      "======================================================================\n",
      "epoch  38\n",
      "cost=  0.8067246434432174\n",
      "theta 0 =  0.3855930727276731\n",
      "theta 1 =  -0.9809339169979874\n",
      "======================================================================\n",
      "epoch  39\n",
      "cost=  1.0198323562078582\n",
      "theta 0 =  0.4024119018227202\n",
      "theta 1 =  -0.9522341205292736\n",
      "======================================================================\n",
      "epoch  40\n",
      "cost=  0.6666992378011348\n",
      "theta 0 =  0.4214891415025373\n",
      "theta 1 =  -0.8938006620444017\n",
      "======================================================================\n",
      "epoch  41\n",
      "cost=  0.3290391219010569\n",
      "theta 0 =  0.4406116473122157\n",
      "theta 1 =  -0.8355760360957906\n",
      "======================================================================\n",
      "epoch  42\n",
      "cost=  0.4725785218281302\n",
      "theta 0 =  0.45771473051298006\n",
      "theta 1 =  -0.8053091277167542\n",
      "======================================================================\n",
      "epoch  43\n",
      "cost=  0.7393877304751132\n",
      "theta 0 =  0.47185229929915484\n",
      "theta 1 =  -0.8155969344917029\n",
      "======================================================================\n",
      "epoch  44\n",
      "cost=  0.6397648364249718\n",
      "theta 0 =  0.48359131369661346\n",
      "theta 1 =  -0.8587584658176903\n",
      "======================================================================\n",
      "epoch  45\n",
      "cost=  0.3514643554286427\n",
      "theta 0 =  0.4946380049561391\n",
      "theta 1 =  -0.9118055707756513\n",
      "======================================================================\n",
      "epoch  46\n",
      "cost=  0.3292537700472916\n",
      "theta 0 =  0.5069265571132486\n",
      "theta 1 =  -0.9485555409496402\n",
      "======================================================================\n",
      "epoch  47\n",
      "cost=  0.5247664502958643\n",
      "theta 0 =  0.5216460629467253\n",
      "theta 1 =  -0.952789869451271\n",
      "======================================================================\n",
      "epoch  48\n",
      "cost=  0.5449349744190574\n",
      "theta 0 =  0.5387015490970579\n",
      "theta 1 =  -0.9257000969007162\n",
      "======================================================================\n",
      "epoch  49\n",
      "cost=  0.35374038057625967\n",
      "theta 0 =  0.5568525988425923\n",
      "theta 1 =  -0.884034193369468\n",
      "======================================================================\n",
      "epoch  50\n",
      "cost=  0.2734659190659998\n",
      "theta 0 =  0.5744052940224351\n",
      "theta 1 =  -0.8506214505619991\n",
      "======================================================================\n",
      "epoch  51\n",
      "cost=  0.38940373420680174\n",
      "theta 0 =  0.5900958252792294\n",
      "theta 1 =  -0.8424091010884502\n",
      "======================================================================\n",
      "epoch  52\n",
      "cost=  0.4445881401559659\n",
      "theta 0 =  0.6037167614663935\n",
      "theta 1 =  -0.8621162883158721\n",
      "======================================================================\n",
      "epoch  53\n",
      "cost=  0.32995076022641856\n",
      "theta 0 =  0.6161562794242548\n",
      "theta 1 =  -0.8977487026486091\n",
      "======================================================================\n",
      "epoch  54\n",
      "cost=  0.24664788578482985\n",
      "theta 0 =  0.6288544479595897\n",
      "theta 1 =  -0.9298492847749852\n",
      "======================================================================\n",
      "epoch  55\n",
      "cost=  0.30957420996323876\n",
      "theta 0 =  0.6429992412070227\n",
      "theta 1 =  -0.9422983964230985\n",
      "======================================================================\n",
      "epoch  56\n",
      "cost=  0.3619442840150575\n",
      "theta 0 =  0.658908692864613\n",
      "theta 1 =  -0.930718346237427\n",
      "======================================================================\n",
      "epoch  57\n",
      "cost=  0.29339448463355233\n",
      "theta 0 =  0.6759222499784349\n",
      "theta 1 =  -0.9039875012744064\n",
      "======================================================================\n",
      "epoch  58\n",
      "cost=  0.22614182563588334\n",
      "theta 0 =  0.69282325369776\n",
      "theta 1 =  -0.8784897198122106\n",
      "======================================================================\n",
      "epoch  59\n",
      "cost=  0.2603619885314967\n",
      "theta 0 =  0.7085355713574831\n",
      "theta 1 =  -0.8686746015276637\n",
      "======================================================================\n",
      "epoch  60\n",
      "cost=  0.29940894832261494\n",
      "theta 0 =  0.7227061655610292\n",
      "theta 1 =  -0.8792391707229564\n",
      "======================================================================\n",
      "epoch  61\n",
      "cost=  0.25540153132876475\n",
      "theta 0 =  0.7358514632081817\n",
      "theta 1 =  -0.9031893702207685\n",
      "======================================================================\n",
      "epoch  62\n",
      "cost=  0.20640118389130133\n",
      "theta 0 =  0.749004258595408\n",
      "theta 1 =  -0.9265684778508434\n",
      "======================================================================\n",
      "epoch  63\n",
      "cost=  0.22701734265269052\n",
      "theta 0 =  0.7630905257367\n",
      "theta 1 =  -0.9368302344412159\n",
      "======================================================================\n",
      "epoch  64\n",
      "cost=  0.25236223168404437\n",
      "theta 0 =  0.7784086770417735\n",
      "theta 1 =  -0.9298893305031339\n",
      "======================================================================\n",
      "epoch  65\n",
      "cost=  0.22072110522557487\n",
      "theta 0 =  0.7945038484194568\n",
      "theta 1 =  -0.9118432155414948\n",
      "======================================================================\n",
      "epoch  66\n",
      "cost=  0.18727856687635686\n",
      "theta 0 =  0.8104825486633223\n",
      "theta 1 =  -0.8947068065487885\n",
      "======================================================================\n",
      "epoch  67\n",
      "cost=  0.20164735474558815\n",
      "theta 0 =  0.8255601485773633\n",
      "theta 1 =  -0.8890102595565799\n",
      "======================================================================\n",
      "epoch  68\n",
      "cost=  0.21577498844883372\n",
      "theta 0 =  0.8395115696827236\n",
      "theta 1 =  -0.8977424084557918\n",
      "======================================================================\n",
      "epoch  69\n",
      "cost=  0.19090019157671892\n",
      "theta 0 =  0.8527628706020625\n",
      "theta 1 =  -0.9151313937000305\n",
      "======================================================================\n",
      "epoch  70\n",
      "cost=  0.16951082441977083\n",
      "theta 0 =  0.8660880968855914\n",
      "theta 1 =  -0.9307131278478324\n",
      "======================================================================\n",
      "epoch  71\n",
      "cost=  0.18053648390729551\n",
      "theta 0 =  0.8801177347815125\n",
      "theta 1 =  -0.9359452544894938\n",
      "======================================================================\n",
      "epoch  72\n",
      "cost=  0.18605560068616264\n",
      "theta 0 =  0.8949680112218441\n",
      "theta 1 =  -0.9292196836699893\n",
      "======================================================================\n",
      "epoch  73\n",
      "cost=  0.1658009862792111\n",
      "theta 0 =  0.9102079385856244\n",
      "theta 1 =  -0.9163153468080433\n",
      "======================================================================\n",
      "epoch  74\n",
      "cost=  0.15347343479018133\n",
      "theta 0 =  0.9251614919938568\n",
      "theta 1 =  -0.9063121777199536\n",
      "======================================================================\n",
      "epoch  75\n",
      "cost=  0.16177768008662685\n",
      "theta 0 =  0.9393396653160776\n",
      "theta 1 =  -0.9057634987207134\n",
      "======================================================================\n",
      "epoch  76\n",
      "cost=  0.16104669663875307\n",
      "theta 0 =  0.9527283798402334\n",
      "theta 1 =  -0.9148280379610074\n"
     ]
    }
   ],
   "source": [
    "y_hat_BC,theta_0_BC , theta_1_BC, ths_0_BC, ths_1_BC, losses_BC, Y_predict_list_BC=Adam_BC_Batch_GD(X,Y,beta1=0.9,beta2=0.999,alpha=0.1,epsilon=10**(-8), iterations_no=100)\n"
   ]
  },
  {
   "cell_type": "code",
   "execution_count": 13,
   "id": "a34b57bd",
   "metadata": {},
   "outputs": [
    {
     "data": {
      "text/plain": [
       "0.9907161316055307"
      ]
     },
     "execution_count": 13,
     "metadata": {},
     "output_type": "execute_result"
    }
   ],
   "source": [
    "r2_score(Y,y_hat_BC)"
   ]
  },
  {
   "cell_type": "code",
   "execution_count": 14,
   "id": "9e002c84",
   "metadata": {},
   "outputs": [
    {
     "data": {
      "text/plain": [
       "Text(0, 0.5, 'loss')"
      ]
     },
     "execution_count": 14,
     "metadata": {},
     "output_type": "execute_result"
    },
    {
     "data": {
      "image/png": "[encoded data removed]",
      "text/plain": [
       "<Figure size 432x288 with 1 Axes>"
      ]
     },
     "metadata": {
      "needs_background": "light"
     },
     "output_type": "display_data"
    }
   ],
   "source": [
    "plt.plot(losses_BC)\n",
    "plt.xlabel(\"iterations\")\n",
    "plt.ylabel(\"loss\")"
   ]
  },
  {
   "cell_type": "code",
   "execution_count": 15,
   "id": "d64c68e4",
   "metadata": {},
   "outputs": [
    {
     "data": {
      "text/plain": [
       "Text(0, 0.5, 'loss')"
      ]
     },
     "execution_count": 15,
     "metadata": {},
     "output_type": "execute_result"
    },
    {
     "data": {
      "image/png": "[encoded data removed]",
      "text/plain": [
       "<Figure size 432x288 with 1 Axes>"
      ]
     },
     "metadata": {
      "needs_background": "light"
     },
     "output_type": "display_data"
    }
   ],
   "source": [
    "plt.plot(ths_0_BC,losses_BC)\n",
    "plt.xlabel(\"theta 0\")\n",
    "plt.ylabel(\"loss\")"
   ]
  },
  {
   "cell_type": "code",
   "execution_count": 16,
   "id": "b3fb46dc",
   "metadata": {},
   "outputs": [
    {
     "data": {
      "text/plain": [
       "Text(0, 0.5, 'loss')"
      ]
     },
     "execution_count": 16,
     "metadata": {},
     "output_type": "execute_result"
    },
    {
     "data": {
      "image/png": "[encoded data removed]",
      "text/plain": [
       "<Figure size 432x288 with 1 Axes>"
      ]
     },
     "metadata": {
      "needs_background": "light"
     },
     "output_type": "display_data"
    }
   ],
   "source": [
    "plt.plot(ths_1_BC,losses_BC)\n",
    "plt.xlabel(\"theta 1\")\n",
    "plt.ylabel(\"loss\")"
   ]
  },
  {
   "cell_type": "code",
   "execution_count": 17,
   "id": "521ed064",
   "metadata": {},
   "outputs": [
    {
     "data": {
      "text/plain": [
       "Text(0, 0.5, 'y')"
      ]
     },
     "execution_count": 17,
     "metadata": {},
     "output_type": "execute_result"
    },
    {
     "data": {
      "image/png": "[encoded data removed]",
      "text/plain": [
       "<Figure size 432x288 with 1 Axes>"
      ]
     },
     "metadata": {
      "needs_background": "light"
     },
     "output_type": "display_data"
    }
   ],
   "source": [
    "#fitted line\n",
    "plt.plot(X,Y,\"o\")\n",
    "plt.plot(X, y_hat_BC)\n",
    "plt.xlabel(\"x\")\n",
    "plt.ylabel(\"y\")"
   ]
  },
  {
   "cell_type": "markdown",
   "id": "92be7f59",
   "metadata": {},
   "source": [
    "## Mini Batch with Bias correction"
   ]
  },
  {
   "cell_type": "code",
   "execution_count": 18,
   "id": "89411ab9",
   "metadata": {},
   "outputs": [],
   "source": [
    "def mini_batches(x,y,batch_size):\n",
    "    x_batches=[]\n",
    "    y_batches=[]\n",
    "    number_of_batches=len(x)//batch_size\n",
    "    \n",
    "    for i in range(number_of_batches):\n",
    "        x_batches.append(x[i*batch_size: (i+1)*batch_size])\n",
    "        y_batches.append(y[i*batch_size : (i+1)*batch_size])\n",
    "    return x_batches, y_batches\n",
    "        \n",
    "    "
   ]
  },
  {
   "cell_type": "code",
   "execution_count": 19,
   "id": "53dff830",
   "metadata": {},
   "outputs": [],
   "source": [
    "def Adam_MiniBatch_GD(x,y, batch_size=1,beta1=0.01, beta2=0.01,alpha=0.001,epsilon=0.001, Epochs_no=100):\n",
    "    loss=[]\n",
    "    th0_list=[]\n",
    "    th1_list=[]\n",
    "    Y_predict_list=[]\n",
    "    \n",
    "    x_batchs=[]\n",
    "    y_batchs=[]\n",
    "    \n",
    "    #get the batches \n",
    "    x_batchs,y_batchs=mini_batches(x,y,batch_size)\n",
    "    \n",
    "    #1. assume intial values for parameters \n",
    "    theta_0=0\n",
    "    theta_1=0\n",
    "    v_0=0\n",
    "    v_1=0\n",
    "    m_0=0\n",
    "    m_1=0\n",
    "    \n",
    "    \n",
    "    for e in range(Epochs_no): #epochs loop\n",
    "        print('==============================================')\n",
    "        print('epoch ',e)\n",
    "        \n",
    "        Y_pred_per_epoch=[]\n",
    "        for i in range(len(x_batchs)):#loop through all batches\n",
    "            #2.predict \n",
    "            y_predicted= theta_0 + theta_1 * x_batchs[i]\n",
    "            Y_pred_per_epoch.extend(y_predicted)\n",
    "            #3.cost \n",
    "            error= y_predicted - y_batchs[i]\n",
    "            J= (np.dot(error, error))/(2*batch_size)\n",
    "            loss.append(J)\n",
    "            \n",
    "            #4.gradient\n",
    "            grad_th0=( y_predicted - y_batchs[i]).sum()/(batch_size)\n",
    "            grad_th1= (np.dot((y_predicted - y_batchs[i]), x_batchs[i]))/(batch_size)\n",
    "            \n",
    "            #update\n",
    "            \n",
    "            m_0= beta1 * m_0 + (1-beta1)*(grad_th0)\n",
    "            m_1 = beta1 * m_1 + (1- beta1)*(grad_th1)\n",
    "\n",
    "            #bias correction \n",
    "            m_0_hat= m_0 /( 1- ((beta1)**(e+1))) # power e+1 to avoid getting 0 power that will lead to divide by zero error\n",
    "            m_1_hat= m_1/ ( 1- ((beta1)**(e+1)))\n",
    "        \n",
    "            v_0 =  beta2 * v_0 + (1- beta2) *((grad_th0)**2)\n",
    "            v_1 =  beta2 * v_1 + (1- beta2) *((grad_th1)**2)\n",
    "\n",
    "            #bias correction\n",
    "            v_0_hat=  v_0 /( 1- ((beta2)**(e+1)))\n",
    "            v_1_hat=  v_0 /( 1- ((beta2)**(e+1)))\n",
    "            \n",
    "            \n",
    "            theta_0 = theta_0 - ((alpha)/(np.sqrt(v_0_hat) +epsilon )) * m_0_hat\n",
    "            theta_1 = theta_1 - ((alpha)/(np.sqrt(v_1_hat) +epsilon )) * m_1_hat\n",
    "        \n",
    "            th0_list.append(theta_0)\n",
    "            th1_list.append(theta_1)\n",
    "            \n",
    "        print('cost= ', J)\n",
    "        Y_predict_list.append(Y_pred_per_epoch)\n",
    "        \n",
    "        #stop condition\n",
    "        \n",
    "        if(e!=0):\n",
    "            if abs(prev_cost - J)<0.0001:\n",
    "                break\n",
    "        prev_cost=J\n",
    "        \n",
    "    return Y_pred_per_epoch,Y_predict_list ,theta_0 ,theta_1 , loss, th0_list, th1_list\n",
    "        \n",
    "#try batch size=5    "
   ]
  },
  {
   "cell_type": "code",
   "execution_count": 20,
   "id": "d80321c9",
   "metadata": {},
   "outputs": [
    {
     "name": "stdout",
     "output_type": "stream",
     "text": [
      "==============================================\n",
      "epoch  0\n",
      "cost=  9.735082706146713\n",
      "==============================================\n",
      "epoch  1\n",
      "cost=  0.3285073242770756\n",
      "==============================================\n",
      "epoch  2\n",
      "cost=  0.011213961140318906\n",
      "==============================================\n",
      "epoch  3\n",
      "cost=  0.04923369871414556\n",
      "==============================================\n",
      "epoch  4\n",
      "cost=  0.0011664356077481853\n",
      "==============================================\n",
      "epoch  5\n",
      "cost=  0.018347408393239385\n",
      "==============================================\n",
      "epoch  6\n",
      "cost=  0.019316012260290175\n",
      "==============================================\n",
      "epoch  7\n",
      "cost=  0.010893170178692985\n",
      "==============================================\n",
      "epoch  8\n",
      "cost=  0.006437189109689635\n",
      "==============================================\n",
      "epoch  9\n",
      "cost=  0.003663644810296664\n",
      "==============================================\n",
      "epoch  10\n",
      "cost=  0.0017757420939215898\n",
      "==============================================\n",
      "epoch  11\n",
      "cost=  0.0005896462992833554\n",
      "==============================================\n",
      "epoch  12\n",
      "cost=  5.536190429703497e-05\n",
      "==============================================\n",
      "epoch  13\n",
      "cost=  4.234738607474068e-05\n"
     ]
    }
   ],
   "source": [
    "Y_pred_mini,Y_predict_list_mini ,theta_0_mini ,theta_1_mini , loss_mini, th0_list_mini, th1_list_mini=Adam_MiniBatch_GD(X,Y,beta1=0.9,beta2=0.999,alpha=0.1,epsilon=10**(-8), Epochs_no=100)"
   ]
  },
  {
   "cell_type": "code",
   "execution_count": 21,
   "id": "68d75f18",
   "metadata": {},
   "outputs": [
    {
     "data": {
      "text/plain": [
       "0.9998348581807381"
      ]
     },
     "execution_count": 21,
     "metadata": {},
     "output_type": "execute_result"
    }
   ],
   "source": [
    "r2_score(Y, Y_pred_mini)"
   ]
  },
  {
   "cell_type": "code",
   "execution_count": 22,
   "id": "b9be52b9",
   "metadata": {},
   "outputs": [
    {
     "data": {
      "text/plain": [
       "Text(0, 0.5, 'loss')"
      ]
     },
     "execution_count": 22,
     "metadata": {},
     "output_type": "execute_result"
    },
    {
     "data": {
      "image/png": "[encoded data removed]",
      "text/plain": [
       "<Figure size 432x288 with 1 Axes>"
      ]
     },
     "metadata": {
      "needs_background": "light"
     },
     "output_type": "display_data"
    }
   ],
   "source": [
    "plt.plot(loss_mini)\n",
    "plt.xlabel(\"iterations\")\n",
    "plt.ylabel(\"loss\")"
   ]
  },
  {
   "cell_type": "code",
   "execution_count": 23,
   "id": "83a5887e",
   "metadata": {},
   "outputs": [
    {
     "data": {
      "text/plain": [
       "Text(0, 0.5, 'loss')"
      ]
     },
     "execution_count": 23,
     "metadata": {},
     "output_type": "execute_result"
    },
    {
     "data": {
      "image/png": "[encoded data removed]",
      "text/plain": [
       "<Figure size 432x288 with 1 Axes>"
      ]
     },
     "metadata": {
      "needs_background": "light"
     },
     "output_type": "display_data"
    }
   ],
   "source": [
    "plt.plot(th0_list_mini,loss_mini)\n",
    "plt.xlabel(\"theta 0\")\n",
    "plt.ylabel(\"loss\")"
   ]
  },
  {
   "cell_type": "code",
   "execution_count": 24,
   "id": "4a8d6c8f",
   "metadata": {},
   "outputs": [
    {
     "data": {
      "text/plain": [
       "Text(0, 0.5, 'loss')"
      ]
     },
     "execution_count": 24,
     "metadata": {},
     "output_type": "execute_result"
    },
    {
     "data": {
      "image/png": "[encoded data removed]",
      "text/plain": [
       "<Figure size 432x288 with 1 Axes>"
      ]
     },
     "metadata": {
      "needs_background": "light"
     },
     "output_type": "display_data"
    }
   ],
   "source": [
    "plt.plot(th1_list_mini,loss_mini)\n",
    "plt.xlabel(\"theta 1\")\n",
    "plt.ylabel(\"loss\")"
   ]
  },
  {
   "cell_type": "code",
   "execution_count": 25,
   "id": "274fb001",
   "metadata": {},
   "outputs": [
    {
     "data": {
      "text/plain": [
       "Text(0, 0.5, 'y')"
      ]
     },
     "execution_count": 25,
     "metadata": {},
     "output_type": "execute_result"
    },
    {
     "data": {
      "image/png": "[encoded data removed]",
      "text/plain": [
       "<Figure size 432x288 with 1 Axes>"
      ]
     },
     "metadata": {
      "needs_background": "light"
     },
     "output_type": "display_data"
    }
   ],
   "source": [
    "#fitted line\n",
    "plt.plot(X,Y,\"o\")\n",
    "plt.plot(X, Y_pred_mini)\n",
    "plt.xlabel(\"x\")\n",
    "plt.ylabel(\"y\")"
   ]
  },
  {
   "cell_type": "markdown",
   "id": "d83fdef6",
   "metadata": {},
   "source": [
    "# 2. Multi variable"
   ]
  },
  {
   "cell_type": "code",
   "execution_count": 26,
   "id": "ace206cc",
   "metadata": {},
   "outputs": [
    {
     "data": {
      "text/plain": [
       "(25, 4)"
      ]
     },
     "execution_count": 26,
     "metadata": {},
     "output_type": "execute_result"
    }
   ],
   "source": [
    "f=open(\"data/MultipleLR.csv\")\n",
    "multi_data=np.loadtxt(f,delimiter=\",\")\n",
    "x_0=np.ones((len(multi_data[:,0]) , 1))\n",
    "multi_X=np.concatenate((x_0, multi_data[:,:3].reshape(len(multi_data[:,0]) , 3)),axis=1)\n",
    "multi_X.shape"
   ]
  },
  {
   "cell_type": "code",
   "execution_count": 27,
   "id": "9c573630",
   "metadata": {},
   "outputs": [
    {
     "data": {
      "text/plain": [
       "(25, 1)"
      ]
     },
     "execution_count": 27,
     "metadata": {},
     "output_type": "execute_result"
    }
   ],
   "source": [
    "multi_Y=multi_data[:,3]\n",
    "multi_Y=multi_Y.reshape((multi_Y.shape[0],1))\n",
    "multi_Y.shape"
   ]
  },
  {
   "cell_type": "code",
   "execution_count": 28,
   "id": "62b33cdd",
   "metadata": {},
   "outputs": [],
   "source": [
    "def Adam_MiniBatch_GD_Multi(x,y, batch_size=1,beta1=0.01, beta2=0.01,alpha=0.0001,epsilon=0.001, Epochs_no=100):\n",
    "    loss=[]\n",
    "    Y_predict_list=[]\n",
    "    \n",
    "    x_batchs=[]\n",
    "    y_batchs=[]\n",
    "    \n",
    "    #get the batches \n",
    "    x_batchs,y_batchs=mini_batches(x,y,batch_size)\n",
    "    \n",
    "    #1. assume intial values for parameters \n",
    "    theta_vector=np.zeros(x.shape[1]).reshape(x.shape[1],1)\n",
    "    v_vector=np.zeros(x.shape[1]).reshape(x.shape[1],1)\n",
    "    m_vector=np.zeros(x.shape[1]).reshape(x.shape[1],1)\n",
    "    \n",
    "    thetas=theta_vector.T\n",
    "    \n",
    "    for e in range(Epochs_no): #epochs loop\n",
    "        print('==============================================')\n",
    "        print('epoch ',e)\n",
    "        \n",
    "        Y_pred_per_epoch=[]\n",
    "        for i in range(len(x_batchs)):#loop through all batches\n",
    "            #2.predict \n",
    "            y_predicted=np.dot(x_batchs[i],theta_vector)\n",
    "            Y_pred_per_epoch.extend(y_predicted)\n",
    "            #3.cost \n",
    "            error= y_predicted - y_batchs[i]\n",
    "            J= (np.dot(error.T, error))/(2*batch_size)\n",
    "            loss.append(J[0][0])\n",
    "            \n",
    "    \n",
    "            #4. gradient vector\n",
    "            gradient_vector=np.zeros(x_batchs[i].shape[1])\n",
    "            gradient_vector=(np.dot(x_batchs[i].T,(y_predicted - y_batchs[i]) ))/(batch_size)\n",
    "\n",
    "            #5. update parameters\n",
    "            \n",
    "            m_vector = beta1 * m_vector + (1- beta1)*gradient_vector \n",
    "            #bias correction\n",
    "            m_hat_vector= m_vector / ( 1- ((beta1)**(e+1)))\n",
    "           \n",
    "            v_vector = beta2 * v_vector +(1-beta2) *  np.square(gradient_vector)\n",
    "            #bias correction\n",
    "            v_hat_vector = v_vector / ( 1- ((beta2)**(e+1)))\n",
    "            \n",
    "            theta_vector = theta_vector - ((alpha)/(np.sqrt(v_hat_vector) + epsilon )) * m_hat_vector\n",
    "        \n",
    "            thetas=np.vstack([thetas, theta_vector.T])\n",
    "        \n",
    "             \n",
    "            \n",
    "        print('cost= ', J[0][0])\n",
    "        Y_predict_list.append(Y_pred_per_epoch)\n",
    "        #stop condition\n",
    "        \n",
    "        if(e!=0):\n",
    "            if abs(prev_cost - J)<0.001:\n",
    "                break\n",
    "        prev_cost=J\n",
    "        \n",
    "        \n",
    "    return Y_pred_per_epoch, theta_vector, thetas,loss\n",
    "            \n",
    "#batch size = 5    \n",
    "    "
   ]
  },
  {
   "cell_type": "code",
   "execution_count": 44,
   "id": "30d9b8f0",
   "metadata": {},
   "outputs": [
    {
     "name": "stdout",
     "output_type": "stream",
     "text": [
      "==============================================\n",
      "epoch  0\n",
      "cost=  717.7597539612865\n",
      "==============================================\n",
      "epoch  1\n",
      "cost=  2866.6265150224494\n",
      "==============================================\n",
      "epoch  2\n",
      "cost=  1182.2478198673618\n",
      "==============================================\n",
      "epoch  3\n",
      "cost=  55.240630822084995\n",
      "==============================================\n",
      "epoch  4\n",
      "cost=  628.203867404435\n",
      "==============================================\n",
      "epoch  5\n",
      "cost=  301.4550828029666\n",
      "==============================================\n",
      "epoch  6\n",
      "cost=  12.596027802589555\n",
      "==============================================\n",
      "epoch  7\n",
      "cost=  79.38345792322544\n",
      "==============================================\n",
      "epoch  8\n",
      "cost=  61.206032347501456\n",
      "==============================================\n",
      "epoch  9\n",
      "cost=  12.056024164354891\n",
      "==============================================\n",
      "epoch  10\n",
      "cost=  30.040248866940892\n",
      "==============================================\n",
      "epoch  11\n",
      "cost=  36.83902289732336\n",
      "==============================================\n",
      "epoch  12\n",
      "cost=  19.040327215152665\n",
      "==============================================\n",
      "epoch  13\n",
      "cost=  11.58140300076014\n",
      "==============================================\n",
      "epoch  14\n",
      "cost=  11.9082770497782\n",
      "==============================================\n",
      "epoch  15\n",
      "cost=  11.495096812603837\n",
      "==============================================\n",
      "epoch  16\n",
      "cost=  12.99363889574757\n",
      "==============================================\n",
      "epoch  17\n",
      "cost=  14.816370175444131\n",
      "==============================================\n",
      "epoch  18\n",
      "cost=  14.20578376817411\n",
      "==============================================\n",
      "epoch  19\n",
      "cost=  12.754100556671167\n",
      "==============================================\n",
      "epoch  20\n",
      "cost=  12.072787968422974\n",
      "==============================================\n",
      "epoch  21\n",
      "cost=  12.088337844252912\n",
      "==============================================\n",
      "epoch  22\n",
      "cost=  12.489611210333361\n",
      "==============================================\n",
      "epoch  23\n",
      "cost=  12.869273571066463\n",
      "==============================================\n",
      "epoch  24\n",
      "cost=  12.877470038119174\n",
      "==============================================\n",
      "epoch  25\n",
      "cost=  12.630613882917775\n",
      "==============================================\n",
      "epoch  26\n",
      "cost=  12.428665532717066\n",
      "==============================================\n",
      "epoch  27\n",
      "cost=  12.393917561580206\n",
      "==============================================\n",
      "epoch  28\n",
      "cost=  12.472055567801247\n",
      "==============================================\n",
      "epoch  29\n",
      "cost=  12.543163412506797\n",
      "==============================================\n",
      "epoch  30\n",
      "cost=  12.533762410013074\n",
      "==============================================\n",
      "epoch  31\n",
      "cost=  12.468193375981661\n",
      "==============================================\n",
      "epoch  32\n",
      "cost=  12.410759582331242\n",
      "==============================================\n",
      "epoch  33\n",
      "cost=  12.392448876150436\n",
      "==============================================\n",
      "epoch  34\n",
      "cost=  12.398131338384744\n",
      "==============================================\n",
      "epoch  35\n",
      "cost=  12.397239047816093\n"
     ]
    }
   ],
   "source": [
    "Y_pred_multi, theta_vector_multi, thetas_multi,loss_multi = Adam_MiniBatch_GD_Multi(multi_X,multi_Y,batch_size=5,beta1=0.9,beta2=0.999,alpha=0.1,epsilon=10**(-8), Epochs_no=100)"
   ]
  },
  {
   "cell_type": "code",
   "execution_count": 45,
   "id": "544776fa",
   "metadata": {},
   "outputs": [
    {
     "data": {
      "text/plain": [
       "0.9795436543303127"
      ]
     },
     "execution_count": 45,
     "metadata": {},
     "output_type": "execute_result"
    }
   ],
   "source": [
    "r2_score(multi_Y, Y_pred_multi)"
   ]
  },
  {
   "cell_type": "code",
   "execution_count": 46,
   "id": "c727659b",
   "metadata": {},
   "outputs": [
    {
     "data": {
      "text/plain": [
       "Text(0, 0.5, 'loss')"
      ]
     },
     "execution_count": 46,
     "metadata": {},
     "output_type": "execute_result"
    },
    {
     "data": {
      "image/png": "[encoded data removed]",
      "text/plain": [
       "<Figure size 432x288 with 1 Axes>"
      ]
     },
     "metadata": {
      "needs_background": "light"
     },
     "output_type": "display_data"
    }
   ],
   "source": [
    "#loss vs. iterations\n",
    "plt.plot(loss_multi) # alpha is important here ---> make it small as possible\n",
    "plt.xlabel(\"iterations\")\n",
    "plt.ylabel(\"loss\")"
   ]
  },
  {
   "cell_type": "code",
   "execution_count": 47,
   "id": "d294568b",
   "metadata": {},
   "outputs": [
    {
     "data": {
      "text/plain": [
       "Text(0, 0.5, 'loss')"
      ]
     },
     "execution_count": 47,
     "metadata": {},
     "output_type": "execute_result"
    },
    {
     "data": {
      "image/png": "[encoded data removed]",
      "text/plain": [
       "<Figure size 432x288 with 1 Axes>"
      ]
     },
     "metadata": {
      "needs_background": "light"
     },
     "output_type": "display_data"
    }
   ],
   "source": [
    "plt.plot(thetas_multi[1:,0],loss_multi)\n",
    "plt.xlabel(\"theta0\")\n",
    "plt.ylabel(\"loss\")"
   ]
  },
  {
   "cell_type": "code",
   "execution_count": 48,
   "id": "038fd02a",
   "metadata": {},
   "outputs": [
    {
     "data": {
      "text/plain": [
       "Text(0, 0.5, 'loss')"
      ]
     },
     "execution_count": 48,
     "metadata": {},
     "output_type": "execute_result"
    },
    {
     "data": {
      "image/png": "[encoded data removed]",
      "text/plain": [
       "<Figure size 432x288 with 1 Axes>"
      ]
     },
     "metadata": {
      "needs_background": "light"
     },
     "output_type": "display_data"
    }
   ],
   "source": [
    "plt.plot(thetas_multi[1:,1],loss_multi)\n",
    "plt.xlabel(\"theta1\")\n",
    "plt.ylabel(\"loss\")"
   ]
  },
  {
   "cell_type": "code",
   "execution_count": 49,
   "id": "b94fc472",
   "metadata": {},
   "outputs": [
    {
     "data": {
      "text/plain": [
       "Text(0, 0.5, 'loss')"
      ]
     },
     "execution_count": 49,
     "metadata": {},
     "output_type": "execute_result"
    },
    {
     "data": {
      "image/png": "[encoded data removed]",
      "text/plain": [
       "<Figure size 432x288 with 1 Axes>"
      ]
     },
     "metadata": {
      "needs_background": "light"
     },
     "output_type": "display_data"
    }
   ],
   "source": [
    "plt.plot(thetas_multi[1:,2],loss_multi)\n",
    "plt.xlabel(\"theta2\")\n",
    "plt.ylabel(\"loss\")"
   ]
  },
  {
   "cell_type": "code",
   "execution_count": 50,
   "id": "9beef8e2",
   "metadata": {},
   "outputs": [
    {
     "data": {
      "text/plain": [
       "Text(0, 0.5, 'loss')"
      ]
     },
     "execution_count": 50,
     "metadata": {},
     "output_type": "execute_result"
    },
    {
     "data": {
      "image/png": "[encoded data removed]",
      "text/plain": [
       "<Figure size 432x288 with 1 Axes>"
      ]
     },
     "metadata": {
      "needs_background": "light"
     },
     "output_type": "display_data"
    }
   ],
   "source": [
    "plt.plot(thetas_multi[1:,3],loss_multi)\n",
    "plt.xlabel(\"theta3\")\n",
    "plt.ylabel(\"loss\")"
   ]
  },
  {
   "cell_type": "code",
   "execution_count": 36,
   "id": "7ed186ae",
   "metadata": {},
   "outputs": [
    {
     "name": "stdout",
     "output_type": "stream",
     "text": [
      "==============================================\n",
      "epoch  0\n",
      "cost=  923.1159017857899\n",
      "==============================================\n",
      "epoch  1\n",
      "cost=  3563.6779309093654\n",
      "==============================================\n",
      "epoch  2\n",
      "cost=  1080.027982041295\n",
      "==============================================\n",
      "epoch  3\n",
      "cost=  493.9708866645804\n",
      "==============================================\n",
      "epoch  4\n",
      "cost=  990.9605514954965\n",
      "==============================================\n",
      "epoch  5\n",
      "cost=  12.670319834998551\n",
      "==============================================\n",
      "epoch  6\n",
      "cost=  382.43552050373603\n",
      "==============================================\n",
      "epoch  7\n",
      "cost=  11.985573524672784\n",
      "==============================================\n",
      "epoch  8\n",
      "cost=  221.0288606411656\n",
      "==============================================\n",
      "epoch  9\n",
      "cost=  17.49065979540361\n",
      "==============================================\n",
      "epoch  10\n",
      "cost=  38.94905166962376\n",
      "==============================================\n",
      "epoch  11\n",
      "cost=  81.23631328664233\n",
      "==============================================\n",
      "epoch  12\n",
      "cost=  15.014015575214753\n",
      "==============================================\n",
      "epoch  13\n",
      "cost=  12.617575056655507\n",
      "==============================================\n",
      "epoch  14\n",
      "cost=  18.99751669191235\n",
      "==============================================\n",
      "epoch  15\n",
      "cost=  10.898975260739295\n",
      "==============================================\n",
      "epoch  16\n",
      "cost=  17.1241176442781\n",
      "==============================================\n",
      "epoch  17\n",
      "cost=  13.009221532268821\n",
      "==============================================\n",
      "epoch  18\n",
      "cost=  10.61665504043203\n",
      "==============================================\n",
      "epoch  19\n",
      "cost=  21.59400560032572\n",
      "==============================================\n",
      "epoch  20\n",
      "cost=  12.247953954322162\n",
      "==============================================\n",
      "epoch  21\n",
      "cost=  11.009746658915326\n",
      "==============================================\n",
      "epoch  22\n",
      "cost=  17.280532797512343\n",
      "==============================================\n",
      "epoch  23\n",
      "cost=  17.70323232069743\n",
      "==============================================\n",
      "epoch  24\n",
      "cost=  11.873128209257796\n",
      "==============================================\n",
      "epoch  25\n",
      "cost=  12.451776155630744\n",
      "==============================================\n",
      "epoch  26\n",
      "cost=  16.91422257410658\n",
      "==============================================\n",
      "epoch  27\n",
      "cost=  16.067598442112274\n",
      "==============================================\n",
      "epoch  28\n",
      "cost=  11.920940279642958\n",
      "==============================================\n",
      "epoch  29\n",
      "cost=  12.701881259508456\n",
      "==============================================\n",
      "epoch  30\n",
      "cost=  16.155928008899043\n",
      "==============================================\n",
      "epoch  31\n",
      "cost=  14.845912016509127\n",
      "==============================================\n",
      "epoch  32\n",
      "cost=  11.810553971781648\n",
      "==============================================\n",
      "epoch  33\n",
      "cost=  12.867709722560068\n",
      "==============================================\n",
      "epoch  34\n",
      "cost=  15.517921117839867\n",
      "==============================================\n",
      "epoch  35\n",
      "cost=  13.82648422311579\n",
      "==============================================\n",
      "epoch  36\n",
      "cost=  11.703972633856244\n",
      "==============================================\n",
      "epoch  37\n",
      "cost=  13.051688693318132\n",
      "==============================================\n",
      "epoch  38\n",
      "cost=  14.905128540374568\n",
      "==============================================\n",
      "epoch  39\n",
      "cost=  12.985130110480029\n",
      "==============================================\n",
      "epoch  40\n",
      "cost=  11.67552074810392\n",
      "==============================================\n",
      "epoch  41\n",
      "cost=  13.226997982751797\n",
      "==============================================\n",
      "epoch  42\n",
      "cost=  14.25904746165359\n",
      "==============================================\n",
      "epoch  43\n",
      "cost=  12.330512720087514\n",
      "==============================================\n",
      "epoch  44\n",
      "cost=  11.746211494527287\n",
      "==============================================\n",
      "epoch  45\n",
      "cost=  13.336308779150551\n",
      "==============================================\n",
      "epoch  46\n",
      "cost=  13.585014152824343\n",
      "==============================================\n",
      "epoch  47\n",
      "cost=  11.870388987911506\n",
      "==============================================\n",
      "epoch  48\n",
      "cost=  11.89892036096764\n",
      "==============================================\n",
      "epoch  49\n",
      "cost=  13.325553497991763\n",
      "==============================================\n",
      "epoch  50\n",
      "cost=  12.930873176594815\n",
      "==============================================\n",
      "epoch  51\n",
      "cost=  11.597398766422284\n",
      "==============================================\n",
      "epoch  52\n",
      "cost=  12.090572587718237\n",
      "==============================================\n",
      "epoch  53\n",
      "cost=  13.170551208456974\n",
      "==============================================\n",
      "epoch  54\n",
      "cost=  12.354892348135646\n",
      "==============================================\n",
      "epoch  55\n",
      "cost=  11.48629537266879\n",
      "==============================================\n",
      "epoch  56\n",
      "cost=  12.265832080243642\n",
      "==============================================\n",
      "epoch  57\n",
      "cost=  12.888562274866072\n",
      "==============================================\n",
      "epoch  58\n",
      "cost=  11.900075455468606\n",
      "==============================================\n",
      "epoch  59\n",
      "cost=  11.497529384133923\n",
      "==============================================\n",
      "epoch  60\n",
      "cost=  12.373737845291604\n",
      "==============================================\n",
      "epoch  61\n",
      "cost=  12.529451735698867\n",
      "==============================================\n",
      "epoch  62\n",
      "cost=  11.583451153861304\n",
      "==============================================\n",
      "epoch  63\n",
      "cost=  11.583311673140829\n"
     ]
    }
   ],
   "source": [
    "Y_pred_multi_1, theta_vector_multi_1, thetas_multi_1,loss_multi_1 = Adam_MiniBatch_GD_Multi(multi_X,multi_Y,batch_size=5,beta1=0.9,beta2=0.9,alpha=0.09,epsilon=10**(-8), Epochs_no=100)"
   ]
  },
  {
   "cell_type": "code",
   "execution_count": 37,
   "id": "debbb2a9",
   "metadata": {},
   "outputs": [
    {
     "data": {
      "text/plain": [
       "0.9789443569873912"
      ]
     },
     "execution_count": 37,
     "metadata": {},
     "output_type": "execute_result"
    }
   ],
   "source": [
    "r2_score(multi_Y, Y_pred_multi_1)"
   ]
  },
  {
   "cell_type": "code",
   "execution_count": 38,
   "id": "abcc04a3",
   "metadata": {},
   "outputs": [
    {
     "data": {
      "text/plain": [
       "[<matplotlib.lines.Line2D at 0x1b38a194c40>]"
      ]
     },
     "execution_count": 38,
     "metadata": {},
     "output_type": "execute_result"
    },
    {
     "data": {
      "image/png": "[encoded data removed]",
      "text/plain": [
       "<Figure size 432x288 with 1 Axes>"
      ]
     },
     "metadata": {
      "needs_background": "light"
     },
     "output_type": "display_data"
    }
   ],
   "source": [
    "plt.plot(loss_multi_1)"
   ]
  },
  {
   "cell_type": "code",
   "execution_count": 42,
   "id": "c500e5a3",
   "metadata": {},
   "outputs": [
    {
     "name": "stdout",
     "output_type": "stream",
     "text": [
      "==============================================\n",
      "epoch  0\n",
      "cost=  837.9620063447388\n",
      "==============================================\n",
      "epoch  1\n",
      "cost=  804.7108217465648\n",
      "==============================================\n",
      "epoch  2\n",
      "cost=  234.5349425012033\n",
      "==============================================\n",
      "epoch  3\n",
      "cost=  31.13019306324959\n",
      "==============================================\n",
      "epoch  4\n",
      "cost=  12.815011771136245\n",
      "==============================================\n",
      "epoch  5\n",
      "cost=  13.050158508389675\n",
      "==============================================\n",
      "epoch  6\n",
      "cost=  16.928997991413972\n",
      "==============================================\n",
      "epoch  7\n",
      "cost=  20.616310169487782\n",
      "==============================================\n",
      "epoch  8\n",
      "cost=  16.83287315217118\n",
      "==============================================\n",
      "epoch  9\n",
      "cost=  10.2207850589182\n",
      "==============================================\n",
      "epoch  10\n",
      "cost=  10.27034148573895\n",
      "==============================================\n",
      "epoch  11\n",
      "cost=  9.78154953084503\n",
      "==============================================\n",
      "epoch  12\n",
      "cost=  9.35670432031391\n",
      "==============================================\n",
      "epoch  13\n",
      "cost=  9.758771976605212\n",
      "==============================================\n",
      "epoch  14\n",
      "cost=  8.797426030299363\n",
      "==============================================\n",
      "epoch  15\n",
      "cost=  10.621075855966396\n",
      "==============================================\n",
      "epoch  16\n",
      "cost=  8.23056195868214\n",
      "==============================================\n",
      "epoch  17\n",
      "cost=  18.945387109057975\n",
      "==============================================\n",
      "epoch  18\n",
      "cost=  9.186714501982006\n",
      "==============================================\n",
      "epoch  19\n",
      "cost=  9.51766475164881\n",
      "==============================================\n",
      "epoch  20\n",
      "cost=  12.279721424054404\n",
      "==============================================\n",
      "epoch  21\n",
      "cost=  7.92033341419044\n",
      "==============================================\n",
      "epoch  22\n",
      "cost=  31.32363047179074\n",
      "==============================================\n",
      "epoch  23\n",
      "cost=  31.54966861314508\n",
      "==============================================\n",
      "epoch  24\n",
      "cost=  31.57700175163165\n",
      "==============================================\n",
      "epoch  25\n",
      "cost=  32.135726281506415\n",
      "==============================================\n",
      "epoch  26\n",
      "cost=  33.07491363556217\n",
      "==============================================\n",
      "epoch  27\n",
      "cost=  34.073634920308564\n",
      "==============================================\n",
      "epoch  28\n",
      "cost=  33.422071763715394\n",
      "==============================================\n",
      "epoch  29\n",
      "cost=  27.96602914976511\n",
      "==============================================\n",
      "epoch  30\n",
      "cost=  17.51145190736884\n",
      "==============================================\n",
      "epoch  31\n",
      "cost=  7.657204150112477\n",
      "==============================================\n",
      "epoch  32\n",
      "cost=  7.714731104121124\n",
      "==============================================\n",
      "epoch  33\n",
      "cost=  12.759515996034748\n",
      "==============================================\n",
      "epoch  34\n",
      "cost=  11.466243270226514\n",
      "==============================================\n",
      "epoch  35\n",
      "cost=  8.96884073879517\n",
      "==============================================\n",
      "epoch  36\n",
      "cost=  8.852151161730472\n",
      "==============================================\n",
      "epoch  37\n",
      "cost=  9.821955306514988\n",
      "==============================================\n",
      "epoch  38\n",
      "cost=  10.133213444514523\n",
      "==============================================\n",
      "epoch  39\n",
      "cost=  9.705356776626015\n",
      "==============================================\n",
      "epoch  40\n",
      "cost=  9.407767406387354\n",
      "==============================================\n",
      "epoch  41\n",
      "cost=  9.45384641921234\n",
      "==============================================\n",
      "epoch  42\n",
      "cost=  9.551109385756762\n",
      "==============================================\n",
      "epoch  43\n",
      "cost=  9.513853462496145\n",
      "==============================================\n",
      "epoch  44\n",
      "cost=  9.414527611983997\n",
      "==============================================\n",
      "epoch  45\n",
      "cost=  9.355254397448418\n",
      "==============================================\n",
      "epoch  46\n",
      "cost=  9.335984327864718\n",
      "==============================================\n",
      "epoch  47\n",
      "cost=  9.313730540686826\n",
      "==============================================\n",
      "epoch  48\n",
      "cost=  9.274374080617516\n",
      "==============================================\n",
      "epoch  49\n",
      "cost=  9.231406972989639\n",
      "==============================================\n",
      "epoch  50\n",
      "cost=  9.19522860562251\n",
      "==============================================\n",
      "epoch  51\n",
      "cost=  9.16374089460965\n",
      "==============================================\n",
      "epoch  52\n",
      "cost=  9.131874327033655\n",
      "==============================================\n",
      "epoch  53\n",
      "cost=  9.098667303697393\n",
      "==============================================\n",
      "epoch  54\n",
      "cost=  9.065832775765509\n",
      "==============================================\n",
      "epoch  55\n",
      "cost=  9.0343685364078\n",
      "==============================================\n",
      "epoch  56\n",
      "cost=  9.003926783744417\n",
      "==============================================\n",
      "epoch  57\n",
      "cost=  8.973949636197732\n",
      "==============================================\n",
      "epoch  58\n",
      "cost=  8.944341654782454\n",
      "==============================================\n",
      "epoch  59\n",
      "cost=  8.915269625761297\n",
      "==============================================\n",
      "epoch  60\n",
      "cost=  8.88681901881326\n",
      "==============================================\n",
      "epoch  61\n",
      "cost=  8.858940017975268\n",
      "==============================================\n",
      "epoch  62\n",
      "cost=  8.831561375146332\n",
      "==============================================\n",
      "epoch  63\n",
      "cost=  8.804656918657212\n",
      "==============================================\n",
      "epoch  64\n",
      "cost=  8.778228083881794\n",
      "==============================================\n",
      "epoch  65\n",
      "cost=  8.75227093899217\n",
      "==============================================\n",
      "epoch  66\n",
      "cost=  8.726769196481552\n",
      "==============================================\n",
      "epoch  67\n",
      "cost=  8.701703910175032\n",
      "==============================================\n",
      "epoch  68\n",
      "cost=  8.677060260616015\n",
      "==============================================\n",
      "epoch  69\n",
      "cost=  8.652826775694097\n",
      "==============================================\n",
      "epoch  70\n",
      "cost=  8.62899240004323\n",
      "==============================================\n",
      "epoch  71\n",
      "cost=  8.605545472021685\n",
      "==============================================\n",
      "epoch  72\n",
      "cost=  8.582474345827995\n",
      "==============================================\n",
      "epoch  73\n",
      "cost=  8.559768036778674\n",
      "==============================================\n",
      "epoch  74\n",
      "cost=  8.537416267883236\n",
      "==============================================\n",
      "epoch  75\n",
      "cost=  8.515409235634973\n",
      "==============================================\n",
      "epoch  76\n",
      "cost=  8.493737466857441\n",
      "==============================================\n",
      "epoch  77\n",
      "cost=  8.472391821128454\n",
      "==============================================\n",
      "epoch  78\n",
      "cost=  8.45136352909842\n",
      "==============================================\n",
      "epoch  79\n",
      "cost=  8.430644195656454\n",
      "==============================================\n",
      "epoch  80\n",
      "cost=  8.410225773783374\n",
      "==============================================\n",
      "epoch  81\n",
      "cost=  8.390100537310605\n",
      "==============================================\n",
      "epoch  82\n",
      "cost=  8.370261064108032\n",
      "==============================================\n",
      "epoch  83\n",
      "cost=  8.350700225294199\n",
      "==============================================\n",
      "epoch  84\n",
      "cost=  8.331411174218283\n",
      "==============================================\n",
      "epoch  85\n",
      "cost=  8.31238733365605\n",
      "==============================================\n",
      "epoch  86\n",
      "cost=  8.293622382617624\n",
      "==============================================\n",
      "epoch  87\n",
      "cost=  8.27511024400739\n",
      "==============================================\n",
      "epoch  88\n",
      "cost=  8.256845073273492\n",
      "==============================================\n",
      "epoch  89\n",
      "cost=  8.238821247677059\n",
      "==============================================\n",
      "epoch  90\n",
      "cost=  8.221033355932656\n",
      "==============================================\n",
      "epoch  91\n",
      "cost=  8.203476188205872\n",
      "==============================================\n",
      "epoch  92\n",
      "cost=  8.186144726535051\n",
      "==============================================\n",
      "epoch  93\n",
      "cost=  8.169034135706994\n",
      "==============================================\n",
      "epoch  94\n",
      "cost=  8.152139754569127\n",
      "==============================================\n",
      "epoch  95\n",
      "cost=  8.13545708774667\n",
      "==============================================\n",
      "epoch  96\n",
      "cost=  8.11898179774575\n",
      "==============================================\n",
      "epoch  97\n",
      "cost=  8.102709697429164\n",
      "==============================================\n",
      "epoch  98\n",
      "cost=  8.08663674285437\n",
      "==============================================\n",
      "epoch  99\n",
      "cost=  8.070759026462953\n"
     ]
    }
   ],
   "source": [
    "Y_pred_multi_2, theta_vector_multi_2, thetas_multi_2,loss_multi_2 = Adam_MiniBatch_GD_Multi(multi_X,multi_Y,batch_size=5,beta1=0.7,beta2=0.7,alpha=0.1,epsilon=10**(-8), Epochs_no=100)"
   ]
  },
  {
   "cell_type": "code",
   "execution_count": 43,
   "id": "54bedca5",
   "metadata": {},
   "outputs": [
    {
     "data": {
      "text/plain": [
       "0.9209626693476817"
      ]
     },
     "execution_count": 43,
     "metadata": {},
     "output_type": "execute_result"
    }
   ],
   "source": [
    "r2_score(multi_Y, Y_pred_multi_2)"
   ]
  },
  {
   "cell_type": "code",
   "execution_count": null,
   "id": "9a1b2496",
   "metadata": {},
   "outputs": [],
   "source": []
  }
 ],
 "metadata": {
  "kernelspec": {
   "display_name": "Python 3 (ipykernel)",
   "language": "python",
   "name": "python3"
  },
  "language_info": {
   "codemirror_mode": {
    "name": "ipython",
    "version": 3
   },
   "file_extension": ".py",
   "mimetype": "text/x-python",
   "name": "python",
   "nbconvert_exporter": "python",
   "pygments_lexer": "ipython3",
   "version": "3.9.7"
  }
 },
 "nbformat": 4,
 "nbformat_minor": 5
}
